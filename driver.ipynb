{
 "cells": [
  {
   "cell_type": "markdown",
   "id": "3e479e35",
   "metadata": {},
   "source": [
    "#### Import Statements"
   ]
  },
  {
   "cell_type": "code",
   "execution_count": 4,
   "id": "cc11768a",
   "metadata": {},
   "outputs": [],
   "source": [
    "from selenium import webdriver\n",
    "from selenium.webdriver.chrome.service import Service\n",
    "from webdriver_manager.chrome import ChromeDriverManager\n",
    "from selenium.webdriver.chrome.options import Options\n",
    "from selenium.webdriver.common.keys import Keys\n",
    "from time import sleep\n",
    "import getpass"
   ]
  },
  {
   "cell_type": "markdown",
   "id": "4fc5e21f",
   "metadata": {},
   "source": [
    "#### Twitter Credentials, using getpass to hide password"
   ]
  },
  {
   "cell_type": "code",
   "execution_count": 22,
   "id": "d0d6e2de",
   "metadata": {},
   "outputs": [
    {
     "name": "stdout",
     "output_type": "stream",
     "text": [
      "········\n"
     ]
    }
   ],
   "source": [
    "username = \"hraajesh\"\n",
    "password = getpass.getpass()"
   ]
  },
  {
   "cell_type": "markdown",
   "id": "6a76ecde",
   "metadata": {},
   "source": [
    "#### Setting up the chrome window and logging into twitter using selenium"
   ]
  },
  {
   "cell_type": "code",
   "execution_count": 23,
   "id": "12a8e87f",
   "metadata": {},
   "outputs": [],
   "source": [
    "# driver_path = \"/Users/haran/Documents/Development/chromedriver\"\n",
    "# chr_options = Options()\n",
    "# chr_options.add_experimental_option(\"detach\", True)\n",
    "\n",
    "driver = webdriver.Chrome(service=Service(ChromeDriverManager().install()))\n",
    "driver.get(\"https://twitter.com/i/flow/login\")"
   ]
  },
  {
   "cell_type": "code",
   "execution_count": 24,
   "id": "b11b5890",
   "metadata": {},
   "outputs": [],
   "source": [
    "username_box = driver.find_element(\"xpath\",'//*[@id=\"layers\"]/div/div/div/div/div/div/div[2]/div[2]/div/div/div[2]/div[2]/div/div/div/div[5]/label/div/div[2]/div/input')\n",
    "username_box.send_keys(username)\n",
    "username_box.send_keys(Keys.ENTER)"
   ]
  },
  {
   "cell_type": "code",
   "execution_count": 25,
   "id": "eca9fb9e",
   "metadata": {},
   "outputs": [],
   "source": [
    "password_box = driver.find_element(\"xpath\",'//*[@id=\"layers\"]/div/div/div/div/div/div/div[2]/div[2]/div/div/div[2]/div[2]/div[1]/div/div/div[3]/div/label/div/div[2]/div[1]/input')\n",
    "password_box.send_keys(password)\n",
    "password_box.send_keys(Keys.ENTER)"
   ]
  },
  {
   "cell_type": "markdown",
   "id": "a49ca921",
   "metadata": {},
   "source": []
  }
 ],
 "metadata": {
  "kernelspec": {
   "display_name": "Python 3 (ipykernel)",
   "language": "python",
   "name": "python3"
  },
  "language_info": {
   "codemirror_mode": {
    "name": "ipython",
    "version": 3
   },
   "file_extension": ".py",
   "mimetype": "text/x-python",
   "name": "python",
   "nbconvert_exporter": "python",
   "pygments_lexer": "ipython3",
   "version": "3.9.12"
  }
 },
 "nbformat": 4,
 "nbformat_minor": 5
}
