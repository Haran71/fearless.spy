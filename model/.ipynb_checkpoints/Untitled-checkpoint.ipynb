{
 "cells": [
  {
   "cell_type": "markdown",
   "id": "6dc8c04e",
   "metadata": {},
   "source": [
    "## Import statements"
   ]
  },
  {
   "cell_type": "code",
   "execution_count": 1,
   "id": "77809c7a",
   "metadata": {},
   "outputs": [],
   "source": [
    "import torch\n",
    "import torch.nn as nn\n",
    "import torch.nn.functional as F\n",
    "from torch.utils.data import DataLoader, TensorDataset\n",
    "\n",
    "import numpy as np\n",
    "import pandas as pd\n",
    "\n",
    "import re\n",
    "\n",
    "from sklearn.model_selection import train_test_split\n",
    "from sklearn.metrics import accuracy_score\n",
    "\n",
    "import nltk\n",
    "from nltk.tokenize import word_tokenize\n",
    "\n",
    "import matplotlib.pyplot as plt\n"
   ]
  },
  {
   "cell_type": "code",
   "execution_count": 2,
   "id": "1ad69cf6",
   "metadata": {},
   "outputs": [
    {
     "name": "stderr",
     "output_type": "stream",
     "text": [
      "[nltk_data] Downloading package punkt to /Users/haran/nltk_data...\n",
      "[nltk_data]   Package punkt is already up-to-date!\n"
     ]
    },
    {
     "data": {
      "text/plain": [
       "True"
      ]
     },
     "execution_count": 2,
     "metadata": {},
     "output_type": "execute_result"
    }
   ],
   "source": [
    "nltk.download('punkt')"
   ]
  },
  {
   "cell_type": "markdown",
   "id": "a75b5daf",
   "metadata": {},
   "source": [
    "## Getting the Dataset"
   ]
  },
  {
   "cell_type": "code",
   "execution_count": 3,
   "id": "3e24f978",
   "metadata": {},
   "outputs": [],
   "source": [
    "test_path = \"../data/test.csv\"\n",
    "train_path = \"../data/train.csv\""
   ]
  },
  {
   "cell_type": "markdown",
   "id": "c69bc144",
   "metadata": {},
   "source": [
    "### Specifying the device  that's resposnible for loading a tensor into memory"
   ]
  },
  {
   "cell_type": "code",
   "execution_count": 4,
   "id": "e638ff41",
   "metadata": {},
   "outputs": [
    {
     "data": {
      "text/plain": [
       "device(type='cpu')"
      ]
     },
     "execution_count": 4,
     "metadata": {},
     "output_type": "execute_result"
    }
   ],
   "source": [
    "device = torch.device('cuda' if torch.cuda.is_available() else 'cpu')\n",
    "device"
   ]
  },
  {
   "cell_type": "markdown",
   "id": "e9e83bb0",
   "metadata": {},
   "source": [
    "## Importing the dataset"
   ]
  },
  {
   "cell_type": "code",
   "execution_count": 5,
   "id": "bc762a6f",
   "metadata": {},
   "outputs": [
    {
     "data": {
      "text/html": [
       "<div>\n",
       "<style scoped>\n",
       "    .dataframe tbody tr th:only-of-type {\n",
       "        vertical-align: middle;\n",
       "    }\n",
       "\n",
       "    .dataframe tbody tr th {\n",
       "        vertical-align: top;\n",
       "    }\n",
       "\n",
       "    .dataframe thead th {\n",
       "        text-align: right;\n",
       "    }\n",
       "</style>\n",
       "<table border=\"1\" class=\"dataframe\">\n",
       "  <thead>\n",
       "    <tr style=\"text-align: right;\">\n",
       "      <th></th>\n",
       "      <th>Id</th>\n",
       "      <th>Category</th>\n",
       "      <th>Tweet</th>\n",
       "    </tr>\n",
       "  </thead>\n",
       "  <tbody>\n",
       "    <tr>\n",
       "      <th>0</th>\n",
       "      <td>635769805279248384</td>\n",
       "      <td>negative</td>\n",
       "      <td>Not Available</td>\n",
       "    </tr>\n",
       "    <tr>\n",
       "      <th>1</th>\n",
       "      <td>635930169241374720</td>\n",
       "      <td>neutral</td>\n",
       "      <td>IOS 9 App Transport Security. Mm need to check...</td>\n",
       "    </tr>\n",
       "    <tr>\n",
       "      <th>2</th>\n",
       "      <td>635950258682523648</td>\n",
       "      <td>neutral</td>\n",
       "      <td>Mar if you have an iOS device, you should down...</td>\n",
       "    </tr>\n",
       "    <tr>\n",
       "      <th>3</th>\n",
       "      <td>636030803433009153</td>\n",
       "      <td>negative</td>\n",
       "      <td>@jimmie_vanagon my phone does not run on lates...</td>\n",
       "    </tr>\n",
       "    <tr>\n",
       "      <th>4</th>\n",
       "      <td>636100906224848896</td>\n",
       "      <td>positive</td>\n",
       "      <td>Not sure how to start your publication on iOS?...</td>\n",
       "    </tr>\n",
       "    <tr>\n",
       "      <th>...</th>\n",
       "      <td>...</td>\n",
       "      <td>...</td>\n",
       "      <td>...</td>\n",
       "    </tr>\n",
       "    <tr>\n",
       "      <th>5965</th>\n",
       "      <td>639016598477651968</td>\n",
       "      <td>neutral</td>\n",
       "      <td>@YouAreMyArsenal Wouldn't surprise me if we en...</td>\n",
       "    </tr>\n",
       "    <tr>\n",
       "      <th>5966</th>\n",
       "      <td>640276909633486849</td>\n",
       "      <td>neutral</td>\n",
       "      <td>Rib injury for Zlatan against Russia is a big ...</td>\n",
       "    </tr>\n",
       "    <tr>\n",
       "      <th>5967</th>\n",
       "      <td>640296841725235200</td>\n",
       "      <td>neutral</td>\n",
       "      <td>Noooooo! I was hoping to see Zlatan being Zlat...</td>\n",
       "    </tr>\n",
       "    <tr>\n",
       "      <th>5968</th>\n",
       "      <td>641017384908779520</td>\n",
       "      <td>neutral</td>\n",
       "      <td>Not Available</td>\n",
       "    </tr>\n",
       "    <tr>\n",
       "      <th>5969</th>\n",
       "      <td>641395811474128896</td>\n",
       "      <td>neutral</td>\n",
       "      <td>Not Available</td>\n",
       "    </tr>\n",
       "  </tbody>\n",
       "</table>\n",
       "<p>5970 rows × 3 columns</p>\n",
       "</div>"
      ],
      "text/plain": [
       "                      Id  Category  \\\n",
       "0     635769805279248384  negative   \n",
       "1     635930169241374720   neutral   \n",
       "2     635950258682523648   neutral   \n",
       "3     636030803433009153  negative   \n",
       "4     636100906224848896  positive   \n",
       "...                  ...       ...   \n",
       "5965  639016598477651968   neutral   \n",
       "5966  640276909633486849   neutral   \n",
       "5967  640296841725235200   neutral   \n",
       "5968  641017384908779520   neutral   \n",
       "5969  641395811474128896   neutral   \n",
       "\n",
       "                                                  Tweet  \n",
       "0                                         Not Available  \n",
       "1     IOS 9 App Transport Security. Mm need to check...  \n",
       "2     Mar if you have an iOS device, you should down...  \n",
       "3     @jimmie_vanagon my phone does not run on lates...  \n",
       "4     Not sure how to start your publication on iOS?...  \n",
       "...                                                 ...  \n",
       "5965  @YouAreMyArsenal Wouldn't surprise me if we en...  \n",
       "5966  Rib injury for Zlatan against Russia is a big ...  \n",
       "5967  Noooooo! I was hoping to see Zlatan being Zlat...  \n",
       "5968                                      Not Available  \n",
       "5969                                      Not Available  \n",
       "\n",
       "[5970 rows x 3 columns]"
      ]
     },
     "execution_count": 5,
     "metadata": {},
     "output_type": "execute_result"
    }
   ],
   "source": [
    "train_df = pd.read_csv(train_path, on_bad_lines='skip')\n",
    "train_df"
   ]
  },
  {
   "cell_type": "code",
   "execution_count": 6,
   "id": "7d9e93c0",
   "metadata": {},
   "outputs": [
    {
     "data": {
      "text/html": [
       "<div>\n",
       "<style scoped>\n",
       "    .dataframe tbody tr th:only-of-type {\n",
       "        vertical-align: middle;\n",
       "    }\n",
       "\n",
       "    .dataframe tbody tr th {\n",
       "        vertical-align: top;\n",
       "    }\n",
       "\n",
       "    .dataframe thead th {\n",
       "        text-align: right;\n",
       "    }\n",
       "</style>\n",
       "<table border=\"1\" class=\"dataframe\">\n",
       "  <thead>\n",
       "    <tr style=\"text-align: right;\">\n",
       "      <th></th>\n",
       "      <th>Id</th>\n",
       "      <th>Category</th>\n",
       "    </tr>\n",
       "  </thead>\n",
       "  <tbody>\n",
       "    <tr>\n",
       "      <th>0</th>\n",
       "      <td>6.289494e+17</td>\n",
       "      <td>dear @Microsoft the newOoffice for Mac is grea...</td>\n",
       "    </tr>\n",
       "    <tr>\n",
       "      <th>1</th>\n",
       "      <td>6.289766e+17</td>\n",
       "      <td>@Microsoft how about you make a system that do...</td>\n",
       "    </tr>\n",
       "    <tr>\n",
       "      <th>2</th>\n",
       "      <td>6.290232e+17</td>\n",
       "      <td>Not Available</td>\n",
       "    </tr>\n",
       "    <tr>\n",
       "      <th>3</th>\n",
       "      <td>6.291792e+17</td>\n",
       "      <td>Not Available</td>\n",
       "    </tr>\n",
       "    <tr>\n",
       "      <th>4</th>\n",
       "      <td>6.291863e+17</td>\n",
       "      <td>If I make a game as a #windows10 Universal App...</td>\n",
       "    </tr>\n",
       "    <tr>\n",
       "      <th>...</th>\n",
       "      <td>...</td>\n",
       "      <td>...</td>\n",
       "    </tr>\n",
       "    <tr>\n",
       "      <th>9963</th>\n",
       "      <td>NaN</td>\n",
       "      <td>NaN</td>\n",
       "    </tr>\n",
       "    <tr>\n",
       "      <th>9964</th>\n",
       "      <td>NaN</td>\n",
       "      <td>NaN</td>\n",
       "    </tr>\n",
       "    <tr>\n",
       "      <th>9965</th>\n",
       "      <td>NaN</td>\n",
       "      <td>NaN</td>\n",
       "    </tr>\n",
       "    <tr>\n",
       "      <th>9966</th>\n",
       "      <td>NaN</td>\n",
       "      <td>NaN</td>\n",
       "    </tr>\n",
       "    <tr>\n",
       "      <th>9967</th>\n",
       "      <td>NaN</td>\n",
       "      <td>NaN</td>\n",
       "    </tr>\n",
       "  </tbody>\n",
       "</table>\n",
       "<p>9968 rows × 2 columns</p>\n",
       "</div>"
      ],
      "text/plain": [
       "                Id                                           Category\n",
       "0     6.289494e+17  dear @Microsoft the newOoffice for Mac is grea...\n",
       "1     6.289766e+17  @Microsoft how about you make a system that do...\n",
       "2     6.290232e+17                                      Not Available\n",
       "3     6.291792e+17                                      Not Available\n",
       "4     6.291863e+17  If I make a game as a #windows10 Universal App...\n",
       "...            ...                                                ...\n",
       "9963           NaN                                                NaN\n",
       "9964           NaN                                                NaN\n",
       "9965           NaN                                                NaN\n",
       "9966           NaN                                                NaN\n",
       "9967           NaN                                                NaN\n",
       "\n",
       "[9968 rows x 2 columns]"
      ]
     },
     "execution_count": 6,
     "metadata": {},
     "output_type": "execute_result"
    }
   ],
   "source": [
    "test_df = pd.read_csv(test_path, on_bad_lines='skip')\n",
    "test_df"
   ]
  },
  {
   "cell_type": "markdown",
   "id": "38fd58a9",
   "metadata": {},
   "source": [
    "# Data Pre-Processing"
   ]
  },
  {
   "cell_type": "markdown",
   "id": "fd5db351",
   "metadata": {},
   "source": [
    "### First we clean up the training data.\n",
    "-> We get rid of the \"Id\" column as its not useful for our model \n",
    "\n",
    "\n",
    "-> We then remove all the Null values in our data"
   ]
  },
  {
   "cell_type": "code",
   "execution_count": 7,
   "id": "a7edb768",
   "metadata": {},
   "outputs": [
    {
     "data": {
      "text/html": [
       "<div>\n",
       "<style scoped>\n",
       "    .dataframe tbody tr th:only-of-type {\n",
       "        vertical-align: middle;\n",
       "    }\n",
       "\n",
       "    .dataframe tbody tr th {\n",
       "        vertical-align: top;\n",
       "    }\n",
       "\n",
       "    .dataframe thead th {\n",
       "        text-align: right;\n",
       "    }\n",
       "</style>\n",
       "<table border=\"1\" class=\"dataframe\">\n",
       "  <thead>\n",
       "    <tr style=\"text-align: right;\">\n",
       "      <th></th>\n",
       "      <th>Category</th>\n",
       "      <th>Tweet</th>\n",
       "    </tr>\n",
       "  </thead>\n",
       "  <tbody>\n",
       "    <tr>\n",
       "      <th>1</th>\n",
       "      <td>neutral</td>\n",
       "      <td>IOS 9 App Transport Security. Mm need to check...</td>\n",
       "    </tr>\n",
       "    <tr>\n",
       "      <th>2</th>\n",
       "      <td>neutral</td>\n",
       "      <td>Mar if you have an iOS device, you should down...</td>\n",
       "    </tr>\n",
       "    <tr>\n",
       "      <th>3</th>\n",
       "      <td>negative</td>\n",
       "      <td>@jimmie_vanagon my phone does not run on lates...</td>\n",
       "    </tr>\n",
       "    <tr>\n",
       "      <th>4</th>\n",
       "      <td>positive</td>\n",
       "      <td>Not sure how to start your publication on iOS?...</td>\n",
       "    </tr>\n",
       "    <tr>\n",
       "      <th>5</th>\n",
       "      <td>neutral</td>\n",
       "      <td>Two Dollar Tuesday is here with Forklift 2, Qu...</td>\n",
       "    </tr>\n",
       "    <tr>\n",
       "      <th>...</th>\n",
       "      <td>...</td>\n",
       "      <td>...</td>\n",
       "    </tr>\n",
       "    <tr>\n",
       "      <th>5963</th>\n",
       "      <td>positive</td>\n",
       "      <td>Ok ed let's do this, Zlatan, greizmann and Lap...</td>\n",
       "    </tr>\n",
       "    <tr>\n",
       "      <th>5964</th>\n",
       "      <td>neutral</td>\n",
       "      <td>Goal level: Zlatan  90k by Friday? = Posting e...</td>\n",
       "    </tr>\n",
       "    <tr>\n",
       "      <th>5965</th>\n",
       "      <td>neutral</td>\n",
       "      <td>@YouAreMyArsenal Wouldn't surprise me if we en...</td>\n",
       "    </tr>\n",
       "    <tr>\n",
       "      <th>5966</th>\n",
       "      <td>neutral</td>\n",
       "      <td>Rib injury for Zlatan against Russia is a big ...</td>\n",
       "    </tr>\n",
       "    <tr>\n",
       "      <th>5967</th>\n",
       "      <td>neutral</td>\n",
       "      <td>Noooooo! I was hoping to see Zlatan being Zlat...</td>\n",
       "    </tr>\n",
       "  </tbody>\n",
       "</table>\n",
       "<p>5422 rows × 2 columns</p>\n",
       "</div>"
      ],
      "text/plain": [
       "      Category                                              Tweet\n",
       "1      neutral  IOS 9 App Transport Security. Mm need to check...\n",
       "2      neutral  Mar if you have an iOS device, you should down...\n",
       "3     negative  @jimmie_vanagon my phone does not run on lates...\n",
       "4     positive  Not sure how to start your publication on iOS?...\n",
       "5      neutral  Two Dollar Tuesday is here with Forklift 2, Qu...\n",
       "...        ...                                                ...\n",
       "5963  positive  Ok ed let's do this, Zlatan, greizmann and Lap...\n",
       "5964   neutral  Goal level: Zlatan  90k by Friday? = Posting e...\n",
       "5965   neutral  @YouAreMyArsenal Wouldn't surprise me if we en...\n",
       "5966   neutral  Rib injury for Zlatan against Russia is a big ...\n",
       "5967   neutral  Noooooo! I was hoping to see Zlatan being Zlat...\n",
       "\n",
       "[5422 rows x 2 columns]"
      ]
     },
     "execution_count": 7,
     "metadata": {},
     "output_type": "execute_result"
    }
   ],
   "source": [
    "train_df = train_df.drop(columns=[\"Id\"])\n",
    "train_df = train_df.dropna()\n",
    "train_df = train_df[train_df[\"Tweet\"] != \"Not Available\"]\n",
    "train_df"
   ]
  },
  {
   "cell_type": "markdown",
   "id": "d80cb13f",
   "metadata": {},
   "source": [
    "### Now we will look at the test data"
   ]
  },
  {
   "cell_type": "markdown",
   "id": "4b9954f1",
   "metadata": {},
   "source": [
    "-> We rename the category column to tweets\n",
    "\n",
    "-> And then we apply the same steps as above"
   ]
  },
  {
   "cell_type": "code",
   "execution_count": 8,
   "id": "003d840e",
   "metadata": {},
   "outputs": [],
   "source": [
    "test_df = test_df.rename(columns={\"Category\":\"Tweet\"})"
   ]
  },
  {
   "cell_type": "code",
   "execution_count": 9,
   "id": "0ceaa64f",
   "metadata": {},
   "outputs": [
    {
     "data": {
      "text/html": [
       "<div>\n",
       "<style scoped>\n",
       "    .dataframe tbody tr th:only-of-type {\n",
       "        vertical-align: middle;\n",
       "    }\n",
       "\n",
       "    .dataframe tbody tr th {\n",
       "        vertical-align: top;\n",
       "    }\n",
       "\n",
       "    .dataframe thead th {\n",
       "        text-align: right;\n",
       "    }\n",
       "</style>\n",
       "<table border=\"1\" class=\"dataframe\">\n",
       "  <thead>\n",
       "    <tr style=\"text-align: right;\">\n",
       "      <th></th>\n",
       "      <th>Tweet</th>\n",
       "    </tr>\n",
       "  </thead>\n",
       "  <tbody>\n",
       "    <tr>\n",
       "      <th>0</th>\n",
       "      <td>dear @Microsoft the newOoffice for Mac is grea...</td>\n",
       "    </tr>\n",
       "    <tr>\n",
       "      <th>1</th>\n",
       "      <td>@Microsoft how about you make a system that do...</td>\n",
       "    </tr>\n",
       "    <tr>\n",
       "      <th>4</th>\n",
       "      <td>If I make a game as a #windows10 Universal App...</td>\n",
       "    </tr>\n",
       "    <tr>\n",
       "      <th>5</th>\n",
       "      <td>Microsoft, I may not prefer your gaming branch...</td>\n",
       "    </tr>\n",
       "    <tr>\n",
       "      <th>6</th>\n",
       "      <td>@MikeWolf1980 @Microsoft I will be downgrading...</td>\n",
       "    </tr>\n",
       "    <tr>\n",
       "      <th>...</th>\n",
       "      <td>...</td>\n",
       "    </tr>\n",
       "    <tr>\n",
       "      <th>3994</th>\n",
       "      <td>Anybody with a Steak &amp;amp; Shake or IHOP move ...</td>\n",
       "    </tr>\n",
       "    <tr>\n",
       "      <th>3995</th>\n",
       "      <td>I am assembling an epic Pancake Posse for an I...</td>\n",
       "    </tr>\n",
       "    <tr>\n",
       "      <th>3996</th>\n",
       "      <td>do you work at Ihop tomorrow @carlysunshine_</td>\n",
       "    </tr>\n",
       "    <tr>\n",
       "      <th>3997</th>\n",
       "      <td>23 Aug 00;30 #771NAS Rescue193 returned from T...</td>\n",
       "    </tr>\n",
       "    <tr>\n",
       "      <th>3999</th>\n",
       "      <td>IOS 9 App Transport Security. Mm need to check...</td>\n",
       "    </tr>\n",
       "  </tbody>\n",
       "</table>\n",
       "<p>3640 rows × 1 columns</p>\n",
       "</div>"
      ],
      "text/plain": [
       "                                                  Tweet\n",
       "0     dear @Microsoft the newOoffice for Mac is grea...\n",
       "1     @Microsoft how about you make a system that do...\n",
       "4     If I make a game as a #windows10 Universal App...\n",
       "5     Microsoft, I may not prefer your gaming branch...\n",
       "6     @MikeWolf1980 @Microsoft I will be downgrading...\n",
       "...                                                 ...\n",
       "3994  Anybody with a Steak &amp; Shake or IHOP move ...\n",
       "3995  I am assembling an epic Pancake Posse for an I...\n",
       "3996       do you work at Ihop tomorrow @carlysunshine_\n",
       "3997  23 Aug 00;30 #771NAS Rescue193 returned from T...\n",
       "3999  IOS 9 App Transport Security. Mm need to check...\n",
       "\n",
       "[3640 rows x 1 columns]"
      ]
     },
     "execution_count": 9,
     "metadata": {},
     "output_type": "execute_result"
    }
   ],
   "source": [
    "test_df = test_df.drop(columns=[\"Id\"])\n",
    "test_df = test_df.dropna()\n",
    "test_df = test_df[test_df[\"Tweet\"] != \"Not Available\"]\n",
    "test_df"
   ]
  },
  {
   "cell_type": "markdown",
   "id": "6df643c7",
   "metadata": {},
   "source": [
    "### Dealing with the Class Imbalance"
   ]
  },
  {
   "cell_type": "code",
   "execution_count": 10,
   "id": "63d5516a",
   "metadata": {},
   "outputs": [
    {
     "data": {
      "text/plain": [
       "positive    2599\n",
       "neutral     1953\n",
       "negative     869\n",
       "Tweet          1\n",
       "Name: Category, dtype: int64"
      ]
     },
     "execution_count": 10,
     "metadata": {},
     "output_type": "execute_result"
    }
   ],
   "source": [
    "train_df['Category'].value_counts()"
   ]
  },
  {
   "cell_type": "markdown",
   "id": "174f3265",
   "metadata": {},
   "source": [
    "When we have surpervised datasets, the number of instances of each class needs to be balanced. An imbalance in the training set could skew our model and reduce its accurate. \n",
    "\n",
    "There are many methods that can be used to deal with this such as oversampling,undersampling and augmentation. In this case undersampling is used.\n",
    "\n",
    "In undersampling we decrease the number of instances of the majority class. In this case we remove tweets from the neutral and positive classes until we end up with 869 tweets"
   ]
  },
  {
   "cell_type": "code",
   "execution_count": 11,
   "id": "814d6e36",
   "metadata": {},
   "outputs": [],
   "source": [
    "neg_df = train_df[train_df[\"Category\"] == \"negative\"]\n",
    "pos_df = train_df[train_df[\"Category\"] == \"positive\"]\n",
    "neu_df = train_df[train_df[\"Category\"] == \"neutral\"]\n",
    "\n",
    "pos_drop = np.random.choice(pos_df.index,2599-869,replace=False)\n",
    "neu_drop = np.random.choice(neu_df.index,1953-869,replace=False)\n",
    "\n",
    "pos_undersampled = pos_df.drop(pos_drop)\n",
    "neu_undersampled = neu_df.drop(neu_drop)\n",
    "\n",
    "balanced_train_df = pd.concat([neg_df,neu_undersampled,pos_undersampled])"
   ]
  },
  {
   "cell_type": "code",
   "execution_count": 12,
   "id": "79156db9",
   "metadata": {},
   "outputs": [
    {
     "data": {
      "text/html": [
       "<div>\n",
       "<style scoped>\n",
       "    .dataframe tbody tr th:only-of-type {\n",
       "        vertical-align: middle;\n",
       "    }\n",
       "\n",
       "    .dataframe tbody tr th {\n",
       "        vertical-align: top;\n",
       "    }\n",
       "\n",
       "    .dataframe thead th {\n",
       "        text-align: right;\n",
       "    }\n",
       "</style>\n",
       "<table border=\"1\" class=\"dataframe\">\n",
       "  <thead>\n",
       "    <tr style=\"text-align: right;\">\n",
       "      <th></th>\n",
       "      <th>Category</th>\n",
       "      <th>Tweet</th>\n",
       "    </tr>\n",
       "  </thead>\n",
       "  <tbody>\n",
       "    <tr>\n",
       "      <th>3</th>\n",
       "      <td>negative</td>\n",
       "      <td>@jimmie_vanagon my phone does not run on lates...</td>\n",
       "    </tr>\n",
       "    <tr>\n",
       "      <th>29</th>\n",
       "      <td>negative</td>\n",
       "      <td>@_tomcc @bartwerf please stop walking and work...</td>\n",
       "    </tr>\n",
       "    <tr>\n",
       "      <th>36</th>\n",
       "      <td>negative</td>\n",
       "      <td>@DeltaAssist yes, I asked an attendant to prin...</td>\n",
       "    </tr>\n",
       "    <tr>\n",
       "      <th>91</th>\n",
       "      <td>negative</td>\n",
       "      <td>ok inbox on iOS has a pretty animation for the...</td>\n",
       "    </tr>\n",
       "    <tr>\n",
       "      <th>100</th>\n",
       "      <td>negative</td>\n",
       "      <td>Lost my iPad for the 2nd time today</td>\n",
       "    </tr>\n",
       "    <tr>\n",
       "      <th>...</th>\n",
       "      <td>...</td>\n",
       "      <td>...</td>\n",
       "    </tr>\n",
       "    <tr>\n",
       "      <th>5932</th>\n",
       "      <td>positive</td>\n",
       "      <td>Scenes when Benzema walks out of tunnel tomorr...</td>\n",
       "    </tr>\n",
       "    <tr>\n",
       "      <th>5943</th>\n",
       "      <td>positive</td>\n",
       "      <td>Zlatan , will your perfumes make me perform ov...</td>\n",
       "    </tr>\n",
       "    <tr>\n",
       "      <th>5945</th>\n",
       "      <td>positive</td>\n",
       "      <td>Reserving the right to put Milan 3rd if Zlatan...</td>\n",
       "    </tr>\n",
       "    <tr>\n",
       "      <th>5952</th>\n",
       "      <td>positive</td>\n",
       "      <td>Mourinho, Zlatan, Serie A - who are the winner...</td>\n",
       "    </tr>\n",
       "    <tr>\n",
       "      <th>5963</th>\n",
       "      <td>positive</td>\n",
       "      <td>Ok ed let's do this, Zlatan, greizmann and Lap...</td>\n",
       "    </tr>\n",
       "  </tbody>\n",
       "</table>\n",
       "<p>2607 rows × 2 columns</p>\n",
       "</div>"
      ],
      "text/plain": [
       "      Category                                              Tweet\n",
       "3     negative  @jimmie_vanagon my phone does not run on lates...\n",
       "29    negative  @_tomcc @bartwerf please stop walking and work...\n",
       "36    negative  @DeltaAssist yes, I asked an attendant to prin...\n",
       "91    negative  ok inbox on iOS has a pretty animation for the...\n",
       "100   negative                Lost my iPad for the 2nd time today\n",
       "...        ...                                                ...\n",
       "5932  positive  Scenes when Benzema walks out of tunnel tomorr...\n",
       "5943  positive  Zlatan , will your perfumes make me perform ov...\n",
       "5945  positive  Reserving the right to put Milan 3rd if Zlatan...\n",
       "5952  positive  Mourinho, Zlatan, Serie A - who are the winner...\n",
       "5963  positive  Ok ed let's do this, Zlatan, greizmann and Lap...\n",
       "\n",
       "[2607 rows x 2 columns]"
      ]
     },
     "execution_count": 12,
     "metadata": {},
     "output_type": "execute_result"
    }
   ],
   "source": [
    "balanced_train_df"
   ]
  },
  {
   "cell_type": "code",
   "execution_count": 13,
   "id": "cc995dfc",
   "metadata": {},
   "outputs": [
    {
     "data": {
      "text/plain": [
       "negative    869\n",
       "neutral     869\n",
       "positive    869\n",
       "Name: Category, dtype: int64"
      ]
     },
     "execution_count": 13,
     "metadata": {},
     "output_type": "execute_result"
    }
   ],
   "source": [
    "balanced_train_df[\"Category\"].value_counts()"
   ]
  },
  {
   "cell_type": "markdown",
   "id": "4c3bad89",
   "metadata": {},
   "source": [
    "### Splitting the data into test and training sets\n",
    "\n",
    "This has to be done as our test data is not labelled"
   ]
  },
  {
   "cell_type": "code",
   "execution_count": 15,
   "id": "9cc5a942",
   "metadata": {},
   "outputs": [],
   "source": [
    "train_b_df,test_b_df = train_test_split(balanced_train_df,test_size = 0.15)"
   ]
  },
  {
   "cell_type": "code",
   "execution_count": 16,
   "id": "651e87d8",
   "metadata": {},
   "outputs": [
    {
     "data": {
      "text/html": [
       "<div>\n",
       "<style scoped>\n",
       "    .dataframe tbody tr th:only-of-type {\n",
       "        vertical-align: middle;\n",
       "    }\n",
       "\n",
       "    .dataframe tbody tr th {\n",
       "        vertical-align: top;\n",
       "    }\n",
       "\n",
       "    .dataframe thead th {\n",
       "        text-align: right;\n",
       "    }\n",
       "</style>\n",
       "<table border=\"1\" class=\"dataframe\">\n",
       "  <thead>\n",
       "    <tr style=\"text-align: right;\">\n",
       "      <th></th>\n",
       "      <th>Category</th>\n",
       "      <th>Tweet</th>\n",
       "    </tr>\n",
       "  </thead>\n",
       "  <tbody>\n",
       "    <tr>\n",
       "      <th>2021</th>\n",
       "      <td>negative</td>\n",
       "      <td>I was sat with my auntie who has seen Michael ...</td>\n",
       "    </tr>\n",
       "    <tr>\n",
       "      <th>4838</th>\n",
       "      <td>negative</td>\n",
       "      <td>@DylanBuckingham @ColbyJPowell @ToddOnFranchis...</td>\n",
       "    </tr>\n",
       "    <tr>\n",
       "      <th>177</th>\n",
       "      <td>neutral</td>\n",
       "      <td>The Accounting Career Fair is this Friday! Be ...</td>\n",
       "    </tr>\n",
       "    <tr>\n",
       "      <th>940</th>\n",
       "      <td>negative</td>\n",
       "      <td>@justinlarson34 Justin, I think you got that b...</td>\n",
       "    </tr>\n",
       "    <tr>\n",
       "      <th>2061</th>\n",
       "      <td>positive</td>\n",
       "      <td>On 6 September 2001, Michael Jackson made a su...</td>\n",
       "    </tr>\n",
       "    <tr>\n",
       "      <th>...</th>\n",
       "      <td>...</td>\n",
       "      <td>...</td>\n",
       "    </tr>\n",
       "    <tr>\n",
       "      <th>4994</th>\n",
       "      <td>neutral</td>\n",
       "      <td>@BlissettCarl @GeneralBoles @guardian 434,000 ...</td>\n",
       "    </tr>\n",
       "    <tr>\n",
       "      <th>2821</th>\n",
       "      <td>negative</td>\n",
       "      <td>@rainbowrowell Now envisioning Tues night FTs ...</td>\n",
       "    </tr>\n",
       "    <tr>\n",
       "      <th>5660</th>\n",
       "      <td>positive</td>\n",
       "      <td>There are still a few tix left for the 8PM Liv...</td>\n",
       "    </tr>\n",
       "    <tr>\n",
       "      <th>530</th>\n",
       "      <td>negative</td>\n",
       "      <td>@AndreaTantaros  Jeb Bush appears to be afraid...</td>\n",
       "    </tr>\n",
       "    <tr>\n",
       "      <th>4406</th>\n",
       "      <td>negative</td>\n",
       "      <td>Im so sad in class i was like \" im seeing Tayl...</td>\n",
       "    </tr>\n",
       "  </tbody>\n",
       "</table>\n",
       "<p>2215 rows × 2 columns</p>\n",
       "</div>"
      ],
      "text/plain": [
       "      Category                                              Tweet\n",
       "2021  negative  I was sat with my auntie who has seen Michael ...\n",
       "4838  negative  @DylanBuckingham @ColbyJPowell @ToddOnFranchis...\n",
       "177    neutral  The Accounting Career Fair is this Friday! Be ...\n",
       "940   negative  @justinlarson34 Justin, I think you got that b...\n",
       "2061  positive  On 6 September 2001, Michael Jackson made a su...\n",
       "...        ...                                                ...\n",
       "4994   neutral  @BlissettCarl @GeneralBoles @guardian 434,000 ...\n",
       "2821  negative  @rainbowrowell Now envisioning Tues night FTs ...\n",
       "5660  positive  There are still a few tix left for the 8PM Liv...\n",
       "530   negative  @AndreaTantaros  Jeb Bush appears to be afraid...\n",
       "4406  negative  Im so sad in class i was like \" im seeing Tayl...\n",
       "\n",
       "[2215 rows x 2 columns]"
      ]
     },
     "execution_count": 16,
     "metadata": {},
     "output_type": "execute_result"
    }
   ],
   "source": [
    "train_b_df"
   ]
  },
  {
   "cell_type": "code",
   "execution_count": 17,
   "id": "d8745409",
   "metadata": {},
   "outputs": [
    {
     "data": {
      "text/html": [
       "<div>\n",
       "<style scoped>\n",
       "    .dataframe tbody tr th:only-of-type {\n",
       "        vertical-align: middle;\n",
       "    }\n",
       "\n",
       "    .dataframe tbody tr th {\n",
       "        vertical-align: top;\n",
       "    }\n",
       "\n",
       "    .dataframe thead th {\n",
       "        text-align: right;\n",
       "    }\n",
       "</style>\n",
       "<table border=\"1\" class=\"dataframe\">\n",
       "  <thead>\n",
       "    <tr style=\"text-align: right;\">\n",
       "      <th></th>\n",
       "      <th>Category</th>\n",
       "      <th>Tweet</th>\n",
       "    </tr>\n",
       "  </thead>\n",
       "  <tbody>\n",
       "    <tr>\n",
       "      <th>2723</th>\n",
       "      <td>positive</td>\n",
       "      <td>Facebook just achieved 1 billion active users ...</td>\n",
       "    </tr>\n",
       "    <tr>\n",
       "      <th>2543</th>\n",
       "      <td>positive</td>\n",
       "      <td>I may have screamed when I saw this in the Nik...</td>\n",
       "    </tr>\n",
       "    <tr>\n",
       "      <th>23</th>\n",
       "      <td>positive</td>\n",
       "      <td>@androidcentral Even though there are other di...</td>\n",
       "    </tr>\n",
       "    <tr>\n",
       "      <th>4455</th>\n",
       "      <td>neutral</td>\n",
       "      <td>@RoyHarperInRed [Dino sat and Abby babbled tha...</td>\n",
       "    </tr>\n",
       "    <tr>\n",
       "      <th>3196</th>\n",
       "      <td>neutral</td>\n",
       "      <td>We add our regrets for yesterday's tragedy at ...</td>\n",
       "    </tr>\n",
       "    <tr>\n",
       "      <th>...</th>\n",
       "      <td>...</td>\n",
       "      <td>...</td>\n",
       "    </tr>\n",
       "    <tr>\n",
       "      <th>3900</th>\n",
       "      <td>neutral</td>\n",
       "      <td>The moon is an errant thief, And her pale fire...</td>\n",
       "    </tr>\n",
       "    <tr>\n",
       "      <th>5284</th>\n",
       "      <td>neutral</td>\n",
       "      <td>@francesbarber13 Did you read this Frances? Co...</td>\n",
       "    </tr>\n",
       "    <tr>\n",
       "      <th>5334</th>\n",
       "      <td>negative</td>\n",
       "      <td>My Ma's so fucking UKIP. She may as well be sm...</td>\n",
       "    </tr>\n",
       "    <tr>\n",
       "      <th>3463</th>\n",
       "      <td>negative</td>\n",
       "      <td>Line of the day: \"Rick Perry has the mental ap...</td>\n",
       "    </tr>\n",
       "    <tr>\n",
       "      <th>5331</th>\n",
       "      <td>neutral</td>\n",
       "      <td>@Alexicon83 @guardian Have you ever been to Sc...</td>\n",
       "    </tr>\n",
       "  </tbody>\n",
       "</table>\n",
       "<p>392 rows × 2 columns</p>\n",
       "</div>"
      ],
      "text/plain": [
       "      Category                                              Tweet\n",
       "2723  positive  Facebook just achieved 1 billion active users ...\n",
       "2543  positive  I may have screamed when I saw this in the Nik...\n",
       "23    positive  @androidcentral Even though there are other di...\n",
       "4455   neutral  @RoyHarperInRed [Dino sat and Abby babbled tha...\n",
       "3196   neutral  We add our regrets for yesterday's tragedy at ...\n",
       "...        ...                                                ...\n",
       "3900   neutral  The moon is an errant thief, And her pale fire...\n",
       "5284   neutral  @francesbarber13 Did you read this Frances? Co...\n",
       "5334  negative  My Ma's so fucking UKIP. She may as well be sm...\n",
       "3463  negative  Line of the day: \"Rick Perry has the mental ap...\n",
       "5331   neutral  @Alexicon83 @guardian Have you ever been to Sc...\n",
       "\n",
       "[392 rows x 2 columns]"
      ]
     },
     "execution_count": 17,
     "metadata": {},
     "output_type": "execute_result"
    }
   ],
   "source": [
    "test_b_df"
   ]
  },
  {
   "cell_type": "markdown",
   "id": "1e9b675f",
   "metadata": {},
   "source": [
    "#### Conversion of both dataframes to lists for easier manipulation. This can be done as the data size is relatively small"
   ]
  },
  {
   "cell_type": "code",
   "execution_count": 20,
   "id": "f3f224d1",
   "metadata": {},
   "outputs": [],
   "source": [
    "train_set = list(train_b_df.to_records(index=False))\n",
    "test_set = list(test_b_df.to_records(index=False))"
   ]
  },
  {
   "cell_type": "code",
   "execution_count": 23,
   "id": "d22e90e6",
   "metadata": {},
   "outputs": [
    {
     "data": {
      "text/plain": [
       "[('negative', 'I was sat with my auntie who has seen Michael Jackson live &amp; I had to watch a shitty Bruno Mars tribute try to sing Billie Jean'),\n",
       " ('negative', '@DylanBuckingham @ColbyJPowell @ToddOnFranchise Tiger Woods did not play well on Sunday, wait make that all year #Tigersucks'),\n",
       " ('neutral', 'The Accounting Career Fair is this Friday! Be sure to engage with us by using #kubusfair--you might win an iPad mini!'),\n",
       " ('negative', '@justinlarson34 Justin, I think you got that backwards. See my Sep 3 post on Obamanomics outpacing Daugaardonomics: http://t.co/hYwRzTs4B0'),\n",
       " ('positive', 'On 6 September 2001, Michael Jackson made a surprise appearance at the mtv vma where she danced with * Nsync. http://t.co/EwlitvXQML')]"
      ]
     },
     "execution_count": 23,
     "metadata": {},
     "output_type": "execute_result"
    }
   ],
   "source": [
    "train_set[:5]"
   ]
  },
  {
   "cell_type": "code",
   "execution_count": 24,
   "id": "9983f638",
   "metadata": {},
   "outputs": [
    {
     "data": {
      "text/plain": [
       "[('positive', 'Facebook just achieved 1 billion active users in a day on Monday. At its peak, 1.1 billion people carried a Nokia phone with them.'),\n",
       " ('positive', 'I may have screamed when I saw this in the Nike store http://t.co/AvcDJgF64x'),\n",
       " ('positive', '@androidcentral Even though there are other differences in the IOS features this still may make people lean a little more towards Apple.'),\n",
       " ('neutral', '@RoyHarperInRed [Dino sat and Abby babbled that she liked Taylor Swift, The Fray, One republic, and such.]'),\n",
       " ('neutral', \"We add our regrets for yesterday's tragedy at the Pride Parade. May Peace Happen during our time.  Shabbat Shalimar  https://t.co/vh3nLT2Yef\")]"
      ]
     },
     "execution_count": 24,
     "metadata": {},
     "output_type": "execute_result"
    }
   ],
   "source": [
    "test_set[:5]"
   ]
  },
  {
   "cell_type": "markdown",
   "id": "a9a101bf",
   "metadata": {},
   "source": [
    "#### As we can see the tweets have to be cleaned, special symbols and links have to be removed"
   ]
  },
  {
   "cell_type": "code",
   "execution_count": null,
   "id": "475a51d7",
   "metadata": {},
   "outputs": [],
   "source": [
    "# We create a function to do the cleaning, which can then be applied on the list\n",
    "def tweet_clean(tweet):\n",
    "    link_pattern = \"https?:\\/\\/t.co/[\\w]+\"\n",
    "    mention_pattern = \"@\\w+\"\n",
    "    tweet = re.sub(link_pattern, \"\", tweet)\n",
    "    tweet = re.sub(mention_pattern, \"\", tweet)\n",
    "    return tweet.lower()"
   ]
  }
 ],
 "metadata": {
  "kernelspec": {
   "display_name": "Python 3 (ipykernel)",
   "language": "python",
   "name": "python3"
  },
  "language_info": {
   "codemirror_mode": {
    "name": "ipython",
    "version": 3
   },
   "file_extension": ".py",
   "mimetype": "text/x-python",
   "name": "python",
   "nbconvert_exporter": "python",
   "pygments_lexer": "ipython3",
   "version": "3.9.12"
  }
 },
 "nbformat": 4,
 "nbformat_minor": 5
}
