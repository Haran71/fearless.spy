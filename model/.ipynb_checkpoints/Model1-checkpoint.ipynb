{
 "cells": [
  {
   "cell_type": "markdown",
   "id": "bff6439d",
   "metadata": {},
   "source": [
    "## Import statements"
   ]
  },
  {
   "cell_type": "code",
   "execution_count": 1,
   "id": "55b0612e",
   "metadata": {},
   "outputs": [],
   "source": [
    "import torch\n",
    "import torch.nn as nn\n",
    "import torch.nn.functional as F\n",
    "from torch.utils.data import DataLoader, TensorDataset\n",
    "\n",
    "import numpy as np\n",
    "import pandas as pd\n",
    "\n",
    "import re\n",
    "\n",
    "from sklearn.model_selection import train_test_split\n",
    "from sklearn.metrics import accuracy_score\n",
    "\n",
    "import nltk\n",
    "from nltk.tokenize import word_tokenize\n",
    "\n",
    "import matplotlib.pyplot as plt\n"
   ]
  },
  {
   "cell_type": "code",
   "execution_count": 2,
   "id": "222ee8b4",
   "metadata": {},
   "outputs": [
    {
     "name": "stderr",
     "output_type": "stream",
     "text": [
      "[nltk_data] Downloading package punkt to /Users/haran/nltk_data...\n",
      "[nltk_data]   Package punkt is already up-to-date!\n"
     ]
    },
    {
     "data": {
      "text/plain": [
       "True"
      ]
     },
     "execution_count": 2,
     "metadata": {},
     "output_type": "execute_result"
    }
   ],
   "source": [
    "nltk.download('punkt')"
   ]
  },
  {
   "cell_type": "markdown",
   "id": "097819ce",
   "metadata": {},
   "source": [
    "## Getting the Dataset"
   ]
  },
  {
   "cell_type": "code",
   "execution_count": 3,
   "id": "9684aa3f",
   "metadata": {},
   "outputs": [],
   "source": [
    "test_path = \"../data/test.csv\"\n",
    "train_path = \"../data/train.csv\""
   ]
  },
  {
   "cell_type": "markdown",
   "id": "35a352d0",
   "metadata": {},
   "source": [
    "### Specifying the device  that's resposnible for loading a tensor into memory"
   ]
  },
  {
   "cell_type": "code",
   "execution_count": 4,
   "id": "93ff3bb8",
   "metadata": {},
   "outputs": [
    {
     "data": {
      "text/plain": [
       "device(type='cpu')"
      ]
     },
     "execution_count": 4,
     "metadata": {},
     "output_type": "execute_result"
    }
   ],
   "source": [
    "device = torch.device('cuda' if torch.cuda.is_available() else 'cpu')\n",
    "device"
   ]
  },
  {
   "cell_type": "markdown",
   "id": "1b22c434",
   "metadata": {},
   "source": [
    "## Importing the dataset"
   ]
  },
  {
   "cell_type": "code",
   "execution_count": 5,
   "id": "c674721c",
   "metadata": {},
   "outputs": [
    {
     "data": {
      "text/html": [
       "<div>\n",
       "<style scoped>\n",
       "    .dataframe tbody tr th:only-of-type {\n",
       "        vertical-align: middle;\n",
       "    }\n",
       "\n",
       "    .dataframe tbody tr th {\n",
       "        vertical-align: top;\n",
       "    }\n",
       "\n",
       "    .dataframe thead th {\n",
       "        text-align: right;\n",
       "    }\n",
       "</style>\n",
       "<table border=\"1\" class=\"dataframe\">\n",
       "  <thead>\n",
       "    <tr style=\"text-align: right;\">\n",
       "      <th></th>\n",
       "      <th>Id</th>\n",
       "      <th>Category</th>\n",
       "      <th>Tweet</th>\n",
       "    </tr>\n",
       "  </thead>\n",
       "  <tbody>\n",
       "    <tr>\n",
       "      <th>0</th>\n",
       "      <td>635769805279248384</td>\n",
       "      <td>negative</td>\n",
       "      <td>Not Available</td>\n",
       "    </tr>\n",
       "    <tr>\n",
       "      <th>1</th>\n",
       "      <td>635930169241374720</td>\n",
       "      <td>neutral</td>\n",
       "      <td>IOS 9 App Transport Security. Mm need to check...</td>\n",
       "    </tr>\n",
       "    <tr>\n",
       "      <th>2</th>\n",
       "      <td>635950258682523648</td>\n",
       "      <td>neutral</td>\n",
       "      <td>Mar if you have an iOS device, you should down...</td>\n",
       "    </tr>\n",
       "    <tr>\n",
       "      <th>3</th>\n",
       "      <td>636030803433009153</td>\n",
       "      <td>negative</td>\n",
       "      <td>@jimmie_vanagon my phone does not run on lates...</td>\n",
       "    </tr>\n",
       "    <tr>\n",
       "      <th>4</th>\n",
       "      <td>636100906224848896</td>\n",
       "      <td>positive</td>\n",
       "      <td>Not sure how to start your publication on iOS?...</td>\n",
       "    </tr>\n",
       "    <tr>\n",
       "      <th>...</th>\n",
       "      <td>...</td>\n",
       "      <td>...</td>\n",
       "      <td>...</td>\n",
       "    </tr>\n",
       "    <tr>\n",
       "      <th>5965</th>\n",
       "      <td>639016598477651968</td>\n",
       "      <td>neutral</td>\n",
       "      <td>@YouAreMyArsenal Wouldn't surprise me if we en...</td>\n",
       "    </tr>\n",
       "    <tr>\n",
       "      <th>5966</th>\n",
       "      <td>640276909633486849</td>\n",
       "      <td>neutral</td>\n",
       "      <td>Rib injury for Zlatan against Russia is a big ...</td>\n",
       "    </tr>\n",
       "    <tr>\n",
       "      <th>5967</th>\n",
       "      <td>640296841725235200</td>\n",
       "      <td>neutral</td>\n",
       "      <td>Noooooo! I was hoping to see Zlatan being Zlat...</td>\n",
       "    </tr>\n",
       "    <tr>\n",
       "      <th>5968</th>\n",
       "      <td>641017384908779520</td>\n",
       "      <td>neutral</td>\n",
       "      <td>Not Available</td>\n",
       "    </tr>\n",
       "    <tr>\n",
       "      <th>5969</th>\n",
       "      <td>641395811474128896</td>\n",
       "      <td>neutral</td>\n",
       "      <td>Not Available</td>\n",
       "    </tr>\n",
       "  </tbody>\n",
       "</table>\n",
       "<p>5970 rows × 3 columns</p>\n",
       "</div>"
      ],
      "text/plain": [
       "                      Id  Category  \\\n",
       "0     635769805279248384  negative   \n",
       "1     635930169241374720   neutral   \n",
       "2     635950258682523648   neutral   \n",
       "3     636030803433009153  negative   \n",
       "4     636100906224848896  positive   \n",
       "...                  ...       ...   \n",
       "5965  639016598477651968   neutral   \n",
       "5966  640276909633486849   neutral   \n",
       "5967  640296841725235200   neutral   \n",
       "5968  641017384908779520   neutral   \n",
       "5969  641395811474128896   neutral   \n",
       "\n",
       "                                                  Tweet  \n",
       "0                                         Not Available  \n",
       "1     IOS 9 App Transport Security. Mm need to check...  \n",
       "2     Mar if you have an iOS device, you should down...  \n",
       "3     @jimmie_vanagon my phone does not run on lates...  \n",
       "4     Not sure how to start your publication on iOS?...  \n",
       "...                                                 ...  \n",
       "5965  @YouAreMyArsenal Wouldn't surprise me if we en...  \n",
       "5966  Rib injury for Zlatan against Russia is a big ...  \n",
       "5967  Noooooo! I was hoping to see Zlatan being Zlat...  \n",
       "5968                                      Not Available  \n",
       "5969                                      Not Available  \n",
       "\n",
       "[5970 rows x 3 columns]"
      ]
     },
     "execution_count": 5,
     "metadata": {},
     "output_type": "execute_result"
    }
   ],
   "source": [
    "train_df = pd.read_csv(train_path, on_bad_lines='skip')\n",
    "train_df"
   ]
  },
  {
   "cell_type": "code",
   "execution_count": 6,
   "id": "7952fab0",
   "metadata": {},
   "outputs": [
    {
     "data": {
      "text/html": [
       "<div>\n",
       "<style scoped>\n",
       "    .dataframe tbody tr th:only-of-type {\n",
       "        vertical-align: middle;\n",
       "    }\n",
       "\n",
       "    .dataframe tbody tr th {\n",
       "        vertical-align: top;\n",
       "    }\n",
       "\n",
       "    .dataframe thead th {\n",
       "        text-align: right;\n",
       "    }\n",
       "</style>\n",
       "<table border=\"1\" class=\"dataframe\">\n",
       "  <thead>\n",
       "    <tr style=\"text-align: right;\">\n",
       "      <th></th>\n",
       "      <th>Id</th>\n",
       "      <th>Category</th>\n",
       "    </tr>\n",
       "  </thead>\n",
       "  <tbody>\n",
       "    <tr>\n",
       "      <th>0</th>\n",
       "      <td>6.289494e+17</td>\n",
       "      <td>dear @Microsoft the newOoffice for Mac is grea...</td>\n",
       "    </tr>\n",
       "    <tr>\n",
       "      <th>1</th>\n",
       "      <td>6.289766e+17</td>\n",
       "      <td>@Microsoft how about you make a system that do...</td>\n",
       "    </tr>\n",
       "    <tr>\n",
       "      <th>2</th>\n",
       "      <td>6.290232e+17</td>\n",
       "      <td>Not Available</td>\n",
       "    </tr>\n",
       "    <tr>\n",
       "      <th>3</th>\n",
       "      <td>6.291792e+17</td>\n",
       "      <td>Not Available</td>\n",
       "    </tr>\n",
       "    <tr>\n",
       "      <th>4</th>\n",
       "      <td>6.291863e+17</td>\n",
       "      <td>If I make a game as a #windows10 Universal App...</td>\n",
       "    </tr>\n",
       "    <tr>\n",
       "      <th>...</th>\n",
       "      <td>...</td>\n",
       "      <td>...</td>\n",
       "    </tr>\n",
       "    <tr>\n",
       "      <th>9963</th>\n",
       "      <td>NaN</td>\n",
       "      <td>NaN</td>\n",
       "    </tr>\n",
       "    <tr>\n",
       "      <th>9964</th>\n",
       "      <td>NaN</td>\n",
       "      <td>NaN</td>\n",
       "    </tr>\n",
       "    <tr>\n",
       "      <th>9965</th>\n",
       "      <td>NaN</td>\n",
       "      <td>NaN</td>\n",
       "    </tr>\n",
       "    <tr>\n",
       "      <th>9966</th>\n",
       "      <td>NaN</td>\n",
       "      <td>NaN</td>\n",
       "    </tr>\n",
       "    <tr>\n",
       "      <th>9967</th>\n",
       "      <td>NaN</td>\n",
       "      <td>NaN</td>\n",
       "    </tr>\n",
       "  </tbody>\n",
       "</table>\n",
       "<p>9968 rows × 2 columns</p>\n",
       "</div>"
      ],
      "text/plain": [
       "                Id                                           Category\n",
       "0     6.289494e+17  dear @Microsoft the newOoffice for Mac is grea...\n",
       "1     6.289766e+17  @Microsoft how about you make a system that do...\n",
       "2     6.290232e+17                                      Not Available\n",
       "3     6.291792e+17                                      Not Available\n",
       "4     6.291863e+17  If I make a game as a #windows10 Universal App...\n",
       "...            ...                                                ...\n",
       "9963           NaN                                                NaN\n",
       "9964           NaN                                                NaN\n",
       "9965           NaN                                                NaN\n",
       "9966           NaN                                                NaN\n",
       "9967           NaN                                                NaN\n",
       "\n",
       "[9968 rows x 2 columns]"
      ]
     },
     "execution_count": 6,
     "metadata": {},
     "output_type": "execute_result"
    }
   ],
   "source": [
    "test_df = pd.read_csv(test_path, on_bad_lines='skip')\n",
    "test_df"
   ]
  },
  {
   "cell_type": "markdown",
   "id": "794e77ff",
   "metadata": {},
   "source": [
    "# Data Pre-Processing"
   ]
  },
  {
   "cell_type": "markdown",
   "id": "64dd9375",
   "metadata": {},
   "source": [
    "### First we clean up the training data.\n",
    "-> We get rid of the \"Id\" column as its not useful for our model \n",
    "\n",
    "\n",
    "-> We then remove all the Null values in our data"
   ]
  },
  {
   "cell_type": "code",
   "execution_count": 7,
   "id": "6188234e",
   "metadata": {},
   "outputs": [
    {
     "data": {
      "text/html": [
       "<div>\n",
       "<style scoped>\n",
       "    .dataframe tbody tr th:only-of-type {\n",
       "        vertical-align: middle;\n",
       "    }\n",
       "\n",
       "    .dataframe tbody tr th {\n",
       "        vertical-align: top;\n",
       "    }\n",
       "\n",
       "    .dataframe thead th {\n",
       "        text-align: right;\n",
       "    }\n",
       "</style>\n",
       "<table border=\"1\" class=\"dataframe\">\n",
       "  <thead>\n",
       "    <tr style=\"text-align: right;\">\n",
       "      <th></th>\n",
       "      <th>Category</th>\n",
       "      <th>Tweet</th>\n",
       "    </tr>\n",
       "  </thead>\n",
       "  <tbody>\n",
       "    <tr>\n",
       "      <th>1</th>\n",
       "      <td>neutral</td>\n",
       "      <td>IOS 9 App Transport Security. Mm need to check...</td>\n",
       "    </tr>\n",
       "    <tr>\n",
       "      <th>2</th>\n",
       "      <td>neutral</td>\n",
       "      <td>Mar if you have an iOS device, you should down...</td>\n",
       "    </tr>\n",
       "    <tr>\n",
       "      <th>3</th>\n",
       "      <td>negative</td>\n",
       "      <td>@jimmie_vanagon my phone does not run on lates...</td>\n",
       "    </tr>\n",
       "    <tr>\n",
       "      <th>4</th>\n",
       "      <td>positive</td>\n",
       "      <td>Not sure how to start your publication on iOS?...</td>\n",
       "    </tr>\n",
       "    <tr>\n",
       "      <th>5</th>\n",
       "      <td>neutral</td>\n",
       "      <td>Two Dollar Tuesday is here with Forklift 2, Qu...</td>\n",
       "    </tr>\n",
       "    <tr>\n",
       "      <th>...</th>\n",
       "      <td>...</td>\n",
       "      <td>...</td>\n",
       "    </tr>\n",
       "    <tr>\n",
       "      <th>5963</th>\n",
       "      <td>positive</td>\n",
       "      <td>Ok ed let's do this, Zlatan, greizmann and Lap...</td>\n",
       "    </tr>\n",
       "    <tr>\n",
       "      <th>5964</th>\n",
       "      <td>neutral</td>\n",
       "      <td>Goal level: Zlatan  90k by Friday? = Posting e...</td>\n",
       "    </tr>\n",
       "    <tr>\n",
       "      <th>5965</th>\n",
       "      <td>neutral</td>\n",
       "      <td>@YouAreMyArsenal Wouldn't surprise me if we en...</td>\n",
       "    </tr>\n",
       "    <tr>\n",
       "      <th>5966</th>\n",
       "      <td>neutral</td>\n",
       "      <td>Rib injury for Zlatan against Russia is a big ...</td>\n",
       "    </tr>\n",
       "    <tr>\n",
       "      <th>5967</th>\n",
       "      <td>neutral</td>\n",
       "      <td>Noooooo! I was hoping to see Zlatan being Zlat...</td>\n",
       "    </tr>\n",
       "  </tbody>\n",
       "</table>\n",
       "<p>5422 rows × 2 columns</p>\n",
       "</div>"
      ],
      "text/plain": [
       "      Category                                              Tweet\n",
       "1      neutral  IOS 9 App Transport Security. Mm need to check...\n",
       "2      neutral  Mar if you have an iOS device, you should down...\n",
       "3     negative  @jimmie_vanagon my phone does not run on lates...\n",
       "4     positive  Not sure how to start your publication on iOS?...\n",
       "5      neutral  Two Dollar Tuesday is here with Forklift 2, Qu...\n",
       "...        ...                                                ...\n",
       "5963  positive  Ok ed let's do this, Zlatan, greizmann and Lap...\n",
       "5964   neutral  Goal level: Zlatan  90k by Friday? = Posting e...\n",
       "5965   neutral  @YouAreMyArsenal Wouldn't surprise me if we en...\n",
       "5966   neutral  Rib injury for Zlatan against Russia is a big ...\n",
       "5967   neutral  Noooooo! I was hoping to see Zlatan being Zlat...\n",
       "\n",
       "[5422 rows x 2 columns]"
      ]
     },
     "execution_count": 7,
     "metadata": {},
     "output_type": "execute_result"
    }
   ],
   "source": [
    "train_df = train_df.drop(columns=[\"Id\"])\n",
    "train_df = train_df.dropna()\n",
    "train_df = train_df[train_df[\"Tweet\"] != \"Not Available\"]\n",
    "train_df"
   ]
  },
  {
   "cell_type": "markdown",
   "id": "e1a4cf00",
   "metadata": {},
   "source": [
    "### Now we will look at the test data"
   ]
  },
  {
   "cell_type": "markdown",
   "id": "65624773",
   "metadata": {},
   "source": [
    "-> We rename the category column to tweets\n",
    "\n",
    "-> And then we apply the same steps as above"
   ]
  },
  {
   "cell_type": "code",
   "execution_count": 8,
   "id": "341a5556",
   "metadata": {},
   "outputs": [],
   "source": [
    "test_df = test_df.rename(columns={\"Category\":\"Tweet\"})"
   ]
  },
  {
   "cell_type": "code",
   "execution_count": 9,
   "id": "7c50d656",
   "metadata": {},
   "outputs": [
    {
     "data": {
      "text/html": [
       "<div>\n",
       "<style scoped>\n",
       "    .dataframe tbody tr th:only-of-type {\n",
       "        vertical-align: middle;\n",
       "    }\n",
       "\n",
       "    .dataframe tbody tr th {\n",
       "        vertical-align: top;\n",
       "    }\n",
       "\n",
       "    .dataframe thead th {\n",
       "        text-align: right;\n",
       "    }\n",
       "</style>\n",
       "<table border=\"1\" class=\"dataframe\">\n",
       "  <thead>\n",
       "    <tr style=\"text-align: right;\">\n",
       "      <th></th>\n",
       "      <th>Tweet</th>\n",
       "    </tr>\n",
       "  </thead>\n",
       "  <tbody>\n",
       "    <tr>\n",
       "      <th>0</th>\n",
       "      <td>dear @Microsoft the newOoffice for Mac is grea...</td>\n",
       "    </tr>\n",
       "    <tr>\n",
       "      <th>1</th>\n",
       "      <td>@Microsoft how about you make a system that do...</td>\n",
       "    </tr>\n",
       "    <tr>\n",
       "      <th>4</th>\n",
       "      <td>If I make a game as a #windows10 Universal App...</td>\n",
       "    </tr>\n",
       "    <tr>\n",
       "      <th>5</th>\n",
       "      <td>Microsoft, I may not prefer your gaming branch...</td>\n",
       "    </tr>\n",
       "    <tr>\n",
       "      <th>6</th>\n",
       "      <td>@MikeWolf1980 @Microsoft I will be downgrading...</td>\n",
       "    </tr>\n",
       "    <tr>\n",
       "      <th>...</th>\n",
       "      <td>...</td>\n",
       "    </tr>\n",
       "    <tr>\n",
       "      <th>3994</th>\n",
       "      <td>Anybody with a Steak &amp;amp; Shake or IHOP move ...</td>\n",
       "    </tr>\n",
       "    <tr>\n",
       "      <th>3995</th>\n",
       "      <td>I am assembling an epic Pancake Posse for an I...</td>\n",
       "    </tr>\n",
       "    <tr>\n",
       "      <th>3996</th>\n",
       "      <td>do you work at Ihop tomorrow @carlysunshine_</td>\n",
       "    </tr>\n",
       "    <tr>\n",
       "      <th>3997</th>\n",
       "      <td>23 Aug 00;30 #771NAS Rescue193 returned from T...</td>\n",
       "    </tr>\n",
       "    <tr>\n",
       "      <th>3999</th>\n",
       "      <td>IOS 9 App Transport Security. Mm need to check...</td>\n",
       "    </tr>\n",
       "  </tbody>\n",
       "</table>\n",
       "<p>3640 rows × 1 columns</p>\n",
       "</div>"
      ],
      "text/plain": [
       "                                                  Tweet\n",
       "0     dear @Microsoft the newOoffice for Mac is grea...\n",
       "1     @Microsoft how about you make a system that do...\n",
       "4     If I make a game as a #windows10 Universal App...\n",
       "5     Microsoft, I may not prefer your gaming branch...\n",
       "6     @MikeWolf1980 @Microsoft I will be downgrading...\n",
       "...                                                 ...\n",
       "3994  Anybody with a Steak &amp; Shake or IHOP move ...\n",
       "3995  I am assembling an epic Pancake Posse for an I...\n",
       "3996       do you work at Ihop tomorrow @carlysunshine_\n",
       "3997  23 Aug 00;30 #771NAS Rescue193 returned from T...\n",
       "3999  IOS 9 App Transport Security. Mm need to check...\n",
       "\n",
       "[3640 rows x 1 columns]"
      ]
     },
     "execution_count": 9,
     "metadata": {},
     "output_type": "execute_result"
    }
   ],
   "source": [
    "test_df = test_df.drop(columns=[\"Id\"])\n",
    "test_df = test_df.dropna()\n",
    "test_df = test_df[test_df[\"Tweet\"] != \"Not Available\"]\n",
    "test_df"
   ]
  },
  {
   "cell_type": "markdown",
   "id": "62a40890",
   "metadata": {},
   "source": [
    "### Dealing with the Class Imbalance"
   ]
  },
  {
   "cell_type": "code",
   "execution_count": 10,
   "id": "fe373f24",
   "metadata": {},
   "outputs": [
    {
     "data": {
      "text/plain": [
       "positive    2599\n",
       "neutral     1953\n",
       "negative     869\n",
       "Tweet          1\n",
       "Name: Category, dtype: int64"
      ]
     },
     "execution_count": 10,
     "metadata": {},
     "output_type": "execute_result"
    }
   ],
   "source": [
    "train_df['Category'].value_counts()"
   ]
  },
  {
   "cell_type": "markdown",
   "id": "eb9acc43",
   "metadata": {},
   "source": [
    "When we have surpervised datasets, the number of instances of each class needs to be balanced. An imbalance in the training set could skew our model and reduce its accurate. \n",
    "\n",
    "There are many methods that can be used to deal with this such as oversampling,undersampling and augmentation. In this case undersampling is used.\n",
    "\n",
    "In undersampling we decrease the number of instances of the majority class. In this case we remove tweets from the neutral and positive classes until we end up with 869 tweets"
   ]
  },
  {
   "cell_type": "code",
   "execution_count": 11,
   "id": "e3054ef7",
   "metadata": {},
   "outputs": [],
   "source": [
    "neg_df = train_df[train_df[\"Category\"] == \"negative\"]\n",
    "pos_df = train_df[train_df[\"Category\"] == \"positive\"]\n",
    "neu_df = train_df[train_df[\"Category\"] == \"neutral\"]\n",
    "\n",
    "pos_drop = np.random.choice(pos_df.index,2599-869,replace=False)\n",
    "neu_drop = np.random.choice(neu_df.index,1953-869,replace=False)\n",
    "\n",
    "pos_undersampled = pos_df.drop(pos_drop)\n",
    "neu_undersampled = neu_df.drop(neu_drop)\n",
    "\n",
    "balanced_train_df = pd.concat([neg_df,neu_undersampled,pos_undersampled])"
   ]
  },
  {
   "cell_type": "code",
   "execution_count": 12,
   "id": "d19bc673",
   "metadata": {},
   "outputs": [
    {
     "data": {
      "text/html": [
       "<div>\n",
       "<style scoped>\n",
       "    .dataframe tbody tr th:only-of-type {\n",
       "        vertical-align: middle;\n",
       "    }\n",
       "\n",
       "    .dataframe tbody tr th {\n",
       "        vertical-align: top;\n",
       "    }\n",
       "\n",
       "    .dataframe thead th {\n",
       "        text-align: right;\n",
       "    }\n",
       "</style>\n",
       "<table border=\"1\" class=\"dataframe\">\n",
       "  <thead>\n",
       "    <tr style=\"text-align: right;\">\n",
       "      <th></th>\n",
       "      <th>Category</th>\n",
       "      <th>Tweet</th>\n",
       "    </tr>\n",
       "  </thead>\n",
       "  <tbody>\n",
       "    <tr>\n",
       "      <th>3</th>\n",
       "      <td>negative</td>\n",
       "      <td>@jimmie_vanagon my phone does not run on lates...</td>\n",
       "    </tr>\n",
       "    <tr>\n",
       "      <th>29</th>\n",
       "      <td>negative</td>\n",
       "      <td>@_tomcc @bartwerf please stop walking and work...</td>\n",
       "    </tr>\n",
       "    <tr>\n",
       "      <th>36</th>\n",
       "      <td>negative</td>\n",
       "      <td>@DeltaAssist yes, I asked an attendant to prin...</td>\n",
       "    </tr>\n",
       "    <tr>\n",
       "      <th>91</th>\n",
       "      <td>negative</td>\n",
       "      <td>ok inbox on iOS has a pretty animation for the...</td>\n",
       "    </tr>\n",
       "    <tr>\n",
       "      <th>100</th>\n",
       "      <td>negative</td>\n",
       "      <td>Lost my iPad for the 2nd time today</td>\n",
       "    </tr>\n",
       "    <tr>\n",
       "      <th>...</th>\n",
       "      <td>...</td>\n",
       "      <td>...</td>\n",
       "    </tr>\n",
       "    <tr>\n",
       "      <th>5908</th>\n",
       "      <td>positive</td>\n",
       "      <td>I have a sneaking feeling we may just see Zlat...</td>\n",
       "    </tr>\n",
       "    <tr>\n",
       "      <th>5917</th>\n",
       "      <td>positive</td>\n",
       "      <td>Orun ni zlatan sun niyen smh\"@ZIatanFacts: Zla...</td>\n",
       "    </tr>\n",
       "    <tr>\n",
       "      <th>5921</th>\n",
       "      <td>positive</td>\n",
       "      <td>Zlatan says he may have played his last match ...</td>\n",
       "    </tr>\n",
       "    <tr>\n",
       "      <th>5945</th>\n",
       "      <td>positive</td>\n",
       "      <td>Reserving the right to put Milan 3rd if Zlatan...</td>\n",
       "    </tr>\n",
       "    <tr>\n",
       "      <th>5946</th>\n",
       "      <td>positive</td>\n",
       "      <td>Zlatan is simply saving himself for the 2nd leg</td>\n",
       "    </tr>\n",
       "  </tbody>\n",
       "</table>\n",
       "<p>2607 rows × 2 columns</p>\n",
       "</div>"
      ],
      "text/plain": [
       "      Category                                              Tweet\n",
       "3     negative  @jimmie_vanagon my phone does not run on lates...\n",
       "29    negative  @_tomcc @bartwerf please stop walking and work...\n",
       "36    negative  @DeltaAssist yes, I asked an attendant to prin...\n",
       "91    negative  ok inbox on iOS has a pretty animation for the...\n",
       "100   negative                Lost my iPad for the 2nd time today\n",
       "...        ...                                                ...\n",
       "5908  positive  I have a sneaking feeling we may just see Zlat...\n",
       "5917  positive  Orun ni zlatan sun niyen smh\"@ZIatanFacts: Zla...\n",
       "5921  positive  Zlatan says he may have played his last match ...\n",
       "5945  positive  Reserving the right to put Milan 3rd if Zlatan...\n",
       "5946  positive    Zlatan is simply saving himself for the 2nd leg\n",
       "\n",
       "[2607 rows x 2 columns]"
      ]
     },
     "execution_count": 12,
     "metadata": {},
     "output_type": "execute_result"
    }
   ],
   "source": [
    "balanced_train_df"
   ]
  },
  {
   "cell_type": "code",
   "execution_count": 13,
   "id": "333613b6",
   "metadata": {},
   "outputs": [
    {
     "data": {
      "text/plain": [
       "negative    869\n",
       "neutral     869\n",
       "positive    869\n",
       "Name: Category, dtype: int64"
      ]
     },
     "execution_count": 13,
     "metadata": {},
     "output_type": "execute_result"
    }
   ],
   "source": [
    "balanced_train_df[\"Category\"].value_counts()"
   ]
  },
  {
   "cell_type": "markdown",
   "id": "6a57534e",
   "metadata": {},
   "source": [
    "### Splitting the data into test and training sets\n",
    "\n",
    "This has to be done as our test data is not labelled"
   ]
  },
  {
   "cell_type": "code",
   "execution_count": 14,
   "id": "da2fa4a3",
   "metadata": {},
   "outputs": [],
   "source": [
    "train_b_df,test_b_df = train_test_split(balanced_train_df,test_size = 0.15)"
   ]
  },
  {
   "cell_type": "code",
   "execution_count": 15,
   "id": "b7e1f1f6",
   "metadata": {},
   "outputs": [
    {
     "data": {
      "text/html": [
       "<div>\n",
       "<style scoped>\n",
       "    .dataframe tbody tr th:only-of-type {\n",
       "        vertical-align: middle;\n",
       "    }\n",
       "\n",
       "    .dataframe tbody tr th {\n",
       "        vertical-align: top;\n",
       "    }\n",
       "\n",
       "    .dataframe thead th {\n",
       "        text-align: right;\n",
       "    }\n",
       "</style>\n",
       "<table border=\"1\" class=\"dataframe\">\n",
       "  <thead>\n",
       "    <tr style=\"text-align: right;\">\n",
       "      <th></th>\n",
       "      <th>Category</th>\n",
       "      <th>Tweet</th>\n",
       "    </tr>\n",
       "  </thead>\n",
       "  <tbody>\n",
       "    <tr>\n",
       "      <th>1956</th>\n",
       "      <td>neutral</td>\n",
       "      <td>It's the Atlanta Falcons (1-0) against the New...</td>\n",
       "    </tr>\n",
       "    <tr>\n",
       "      <th>1163</th>\n",
       "      <td>positive</td>\n",
       "      <td>@realDonaldTrump @DanScavino @MichaelCohen212 ...</td>\n",
       "    </tr>\n",
       "    <tr>\n",
       "      <th>1529</th>\n",
       "      <td>neutral</td>\n",
       "      <td>I wonder why Drake didn't release the 2nd vers...</td>\n",
       "    </tr>\n",
       "    <tr>\n",
       "      <th>2114</th>\n",
       "      <td>positive</td>\n",
       "      <td>@CollinceBey I admire Michelle Obama more. Can...</td>\n",
       "    </tr>\n",
       "    <tr>\n",
       "      <th>4934</th>\n",
       "      <td>positive</td>\n",
       "      <td>@LoriJulia what is that book that is supposedl...</td>\n",
       "    </tr>\n",
       "    <tr>\n",
       "      <th>...</th>\n",
       "      <td>...</td>\n",
       "      <td>...</td>\n",
       "    </tr>\n",
       "    <tr>\n",
       "      <th>2592</th>\n",
       "      <td>neutral</td>\n",
       "      <td>Nintendo of Europe decreased the size Target's...</td>\n",
       "    </tr>\n",
       "    <tr>\n",
       "      <th>4576</th>\n",
       "      <td>negative</td>\n",
       "      <td>@MelissaPonzio1 crying over the teen wolf fina...</td>\n",
       "    </tr>\n",
       "    <tr>\n",
       "      <th>623</th>\n",
       "      <td>neutral</td>\n",
       "      <td>Joe Biden or Donald Trump may be the next pres...</td>\n",
       "    </tr>\n",
       "    <tr>\n",
       "      <th>5840</th>\n",
       "      <td>negative</td>\n",
       "      <td>@KonamiSupport yo wtf why can't you fix the se...</td>\n",
       "    </tr>\n",
       "    <tr>\n",
       "      <th>2376</th>\n",
       "      <td>negative</td>\n",
       "      <td>California May Label Monsanto's Roundup as 'Kn...</td>\n",
       "    </tr>\n",
       "  </tbody>\n",
       "</table>\n",
       "<p>2215 rows × 2 columns</p>\n",
       "</div>"
      ],
      "text/plain": [
       "      Category                                              Tweet\n",
       "1956   neutral  It's the Atlanta Falcons (1-0) against the New...\n",
       "1163  positive  @realDonaldTrump @DanScavino @MichaelCohen212 ...\n",
       "1529   neutral  I wonder why Drake didn't release the 2nd vers...\n",
       "2114  positive  @CollinceBey I admire Michelle Obama more. Can...\n",
       "4934  positive  @LoriJulia what is that book that is supposedl...\n",
       "...        ...                                                ...\n",
       "2592   neutral  Nintendo of Europe decreased the size Target's...\n",
       "4576  negative  @MelissaPonzio1 crying over the teen wolf fina...\n",
       "623    neutral  Joe Biden or Donald Trump may be the next pres...\n",
       "5840  negative  @KonamiSupport yo wtf why can't you fix the se...\n",
       "2376  negative  California May Label Monsanto's Roundup as 'Kn...\n",
       "\n",
       "[2215 rows x 2 columns]"
      ]
     },
     "execution_count": 15,
     "metadata": {},
     "output_type": "execute_result"
    }
   ],
   "source": [
    "train_b_df"
   ]
  },
  {
   "cell_type": "code",
   "execution_count": 16,
   "id": "e1aa0633",
   "metadata": {},
   "outputs": [
    {
     "data": {
      "text/html": [
       "<div>\n",
       "<style scoped>\n",
       "    .dataframe tbody tr th:only-of-type {\n",
       "        vertical-align: middle;\n",
       "    }\n",
       "\n",
       "    .dataframe tbody tr th {\n",
       "        vertical-align: top;\n",
       "    }\n",
       "\n",
       "    .dataframe thead th {\n",
       "        text-align: right;\n",
       "    }\n",
       "</style>\n",
       "<table border=\"1\" class=\"dataframe\">\n",
       "  <thead>\n",
       "    <tr style=\"text-align: right;\">\n",
       "      <th></th>\n",
       "      <th>Category</th>\n",
       "      <th>Tweet</th>\n",
       "    </tr>\n",
       "  </thead>\n",
       "  <tbody>\n",
       "    <tr>\n",
       "      <th>3617</th>\n",
       "      <td>negative</td>\n",
       "      <td>@politibunny @brakinggnus @dangoddu @jbryant71...</td>\n",
       "    </tr>\n",
       "    <tr>\n",
       "      <th>5586</th>\n",
       "      <td>positive</td>\n",
       "      <td>Oi Taco Tuesday's is the one! Best Burrito's o...</td>\n",
       "    </tr>\n",
       "    <tr>\n",
       "      <th>4574</th>\n",
       "      <td>positive</td>\n",
       "      <td>Im going to finish now the 2nd season of teen ...</td>\n",
       "    </tr>\n",
       "    <tr>\n",
       "      <th>4426</th>\n",
       "      <td>positive</td>\n",
       "      <td>Can Taylor Swift play her cover of Drops Of Ju...</td>\n",
       "    </tr>\n",
       "    <tr>\n",
       "      <th>5072</th>\n",
       "      <td>negative</td>\n",
       "      <td>Fwiw, my own parental household may make me ba...</td>\n",
       "    </tr>\n",
       "    <tr>\n",
       "      <th>...</th>\n",
       "      <td>...</td>\n",
       "      <td>...</td>\n",
       "    </tr>\n",
       "    <tr>\n",
       "      <th>4246</th>\n",
       "      <td>positive</td>\n",
       "      <td>And @TripleH may have \" hand picked \" @WWERoll...</td>\n",
       "    </tr>\n",
       "    <tr>\n",
       "      <th>2969</th>\n",
       "      <td>positive</td>\n",
       "      <td>Oracle, memcached, Engage API all running in D...</td>\n",
       "    </tr>\n",
       "    <tr>\n",
       "      <th>3703</th>\n",
       "      <td>negative</td>\n",
       "      <td>What's with this Twitter account? It's like th...</td>\n",
       "    </tr>\n",
       "    <tr>\n",
       "      <th>393</th>\n",
       "      <td>negative</td>\n",
       "      <td>I'm crushed \"It's a hoax: Jay-Z and Beyonce ar...</td>\n",
       "    </tr>\n",
       "    <tr>\n",
       "      <th>1257</th>\n",
       "      <td>negative</td>\n",
       "      <td>Kurt Cobain solo is not Nirvana! Nirvana is a ...</td>\n",
       "    </tr>\n",
       "  </tbody>\n",
       "</table>\n",
       "<p>392 rows × 2 columns</p>\n",
       "</div>"
      ],
      "text/plain": [
       "      Category                                              Tweet\n",
       "3617  negative  @politibunny @brakinggnus @dangoddu @jbryant71...\n",
       "5586  positive  Oi Taco Tuesday's is the one! Best Burrito's o...\n",
       "4574  positive  Im going to finish now the 2nd season of teen ...\n",
       "4426  positive  Can Taylor Swift play her cover of Drops Of Ju...\n",
       "5072  negative  Fwiw, my own parental household may make me ba...\n",
       "...        ...                                                ...\n",
       "4246  positive  And @TripleH may have \" hand picked \" @WWERoll...\n",
       "2969  positive  Oracle, memcached, Engage API all running in D...\n",
       "3703  negative  What's with this Twitter account? It's like th...\n",
       "393   negative  I'm crushed \"It's a hoax: Jay-Z and Beyonce ar...\n",
       "1257  negative  Kurt Cobain solo is not Nirvana! Nirvana is a ...\n",
       "\n",
       "[392 rows x 2 columns]"
      ]
     },
     "execution_count": 16,
     "metadata": {},
     "output_type": "execute_result"
    }
   ],
   "source": [
    "test_b_df"
   ]
  },
  {
   "cell_type": "markdown",
   "id": "03f2e9d3",
   "metadata": {},
   "source": [
    "#### Conversion of both dataframes to lists for easier manipulation. This can be done as the data size is relatively small"
   ]
  },
  {
   "cell_type": "code",
   "execution_count": 17,
   "id": "0dba4f05",
   "metadata": {},
   "outputs": [],
   "source": [
    "train_set = list(train_b_df.to_records(index=False))\n",
    "test_set = list(test_b_df.to_records(index=False))"
   ]
  },
  {
   "cell_type": "code",
   "execution_count": 18,
   "id": "6d19ead8",
   "metadata": {},
   "outputs": [
    {
     "data": {
      "text/plain": [
       "[('neutral', \"It's the Atlanta Falcons (1-0) against the New York Jets (0-1) at 7:30 p.m. on Friday in MetLife stadi... http://t.co/juvQA71td5 #RiseUp\"),\n",
       " ('positive', '@realDonaldTrump @DanScavino @MichaelCohen212 -YOU R THE BEST NEGOTIATOR.Wish it was U instead of Kerry that went. https://t.co/5Rcn2UJ5d4'),\n",
       " ('neutral', \"I wonder why Drake didn't release the 2nd verse on Madonna all at once. I think it's better than the first one.\"),\n",
       " ('positive', '@CollinceBey I admire Michelle Obama more. Cant imagine how she survived being in a remote African village for 1st time! She deserved WH!'),\n",
       " ('positive', \"@LoriJulia what is that book that is supposedly about Katie Holmes and Tom Cruise? I'm going to Barnes&amp; Noble tomorrow! #help\")]"
      ]
     },
     "execution_count": 18,
     "metadata": {},
     "output_type": "execute_result"
    }
   ],
   "source": [
    "train_set[:5]"
   ]
  },
  {
   "cell_type": "code",
   "execution_count": 19,
   "id": "9138bb4e",
   "metadata": {},
   "outputs": [
    {
     "data": {
      "text/plain": [
       "[('negative', '@politibunny @brakinggnus @dangoddu @jbryant710 SCOTUS violated the 10th Amendment to the U.S. Constitution not allowing #KimDavis #1A right'),\n",
       " ('positive', \"Oi Taco Tuesday's is the one! Best Burrito's on the west coast awards 1. San Diego, PB 2. San Francisco, Mission 3. Venice Beach, LA\"),\n",
       " ('positive', 'Im going to finish now the 2nd season of teen wolf'),\n",
       " ('positive', 'Can Taylor Swift play her cover of Drops Of Jupiter tomorrow at the concert ok pls and thank you'),\n",
       " ('negative', 'Fwiw, my own parental household may make me batty if \"hopeful\" Trump stays legitimate into the primaries ... I\\'ll snap.')]"
      ]
     },
     "execution_count": 19,
     "metadata": {},
     "output_type": "execute_result"
    }
   ],
   "source": [
    "test_set[:5]"
   ]
  },
  {
   "cell_type": "markdown",
   "id": "77959491",
   "metadata": {},
   "source": [
    "#### As we can see the tweets have to be cleaned, special symbols and links have to be removed"
   ]
  },
  {
   "cell_type": "code",
   "execution_count": 20,
   "id": "c8639b81",
   "metadata": {},
   "outputs": [],
   "source": [
    "# We create a function to do the cleaning, which can then be applied on the list\n",
    "def tweet_clean(tweet):\n",
    "    link_pattern = \"https?:\\/\\/t.co/[\\w]+\"\n",
    "    mention_pattern = \"@\\w+\"\n",
    "    tweet = re.sub(link_pattern, \"\", tweet)\n",
    "    tweet = re.sub(mention_pattern, \"\", tweet)\n",
    "    return tweet.lower()"
   ]
  },
  {
   "cell_type": "markdown",
   "id": "2b3175fb",
   "metadata": {},
   "source": [
    "### Tokenization\n"
   ]
  },
  {
   "cell_type": "markdown",
   "id": "d05f05c6",
   "metadata": {},
   "source": [
    "Here we use the `word_tokenize()` function from the NLTK library to split the sentence into tokens or words"
   ]
  },
  {
   "cell_type": "code",
   "execution_count": 21,
   "id": "cc5e8af5",
   "metadata": {},
   "outputs": [
    {
     "data": {
      "text/plain": [
       "[('neutral',\n",
       "  ['it',\n",
       "   \"'s\",\n",
       "   'the',\n",
       "   'atlanta',\n",
       "   'falcons',\n",
       "   '(',\n",
       "   '1-0',\n",
       "   ')',\n",
       "   'against',\n",
       "   'the',\n",
       "   'new',\n",
       "   'york',\n",
       "   'jets',\n",
       "   '(',\n",
       "   '0-1',\n",
       "   ')',\n",
       "   'at',\n",
       "   '7:30',\n",
       "   'p.m.',\n",
       "   'on',\n",
       "   'friday',\n",
       "   'in',\n",
       "   'metlife',\n",
       "   'stadi',\n",
       "   '...',\n",
       "   '#',\n",
       "   'riseup'])]"
      ]
     },
     "execution_count": 21,
     "metadata": {},
     "output_type": "execute_result"
    }
   ],
   "source": [
    "train_set = [(label,word_tokenize(tweet_clean(tweet))) for label,tweet in train_set]\n",
    "train_set[:1]"
   ]
  },
  {
   "cell_type": "code",
   "execution_count": 22,
   "id": "0c7fa818",
   "metadata": {},
   "outputs": [
    {
     "data": {
      "text/plain": [
       "[('negative',\n",
       "  ['scotus',\n",
       "   'violated',\n",
       "   'the',\n",
       "   '10th',\n",
       "   'amendment',\n",
       "   'to',\n",
       "   'the',\n",
       "   'u.s.',\n",
       "   'constitution',\n",
       "   'not',\n",
       "   'allowing',\n",
       "   '#',\n",
       "   'kimdavis',\n",
       "   '#',\n",
       "   '1a',\n",
       "   'right'])]"
      ]
     },
     "execution_count": 22,
     "metadata": {},
     "output_type": "execute_result"
    }
   ],
   "source": [
    "test_set = [(label,word_tokenize(tweet_clean(tweet))) for label,tweet in test_set]\n",
    "test_set[:1]"
   ]
  },
  {
   "cell_type": "markdown",
   "id": "a59bcfe2",
   "metadata": {},
   "source": []
  }
 ],
 "metadata": {
  "kernelspec": {
   "display_name": "Python 3 (ipykernel)",
   "language": "python",
   "name": "python3"
  },
  "language_info": {
   "codemirror_mode": {
    "name": "ipython",
    "version": 3
   },
   "file_extension": ".py",
   "mimetype": "text/x-python",
   "name": "python",
   "nbconvert_exporter": "python",
   "pygments_lexer": "ipython3",
   "version": "3.9.12"
  }
 },
 "nbformat": 4,
 "nbformat_minor": 5
}
