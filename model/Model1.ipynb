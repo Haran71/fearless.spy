{
 "cells": [
  {
   "cell_type": "markdown",
   "id": "bff6439d",
   "metadata": {},
   "source": [
    "## Import statements"
   ]
  },
  {
   "cell_type": "code",
   "execution_count": 1,
   "id": "55b0612e",
   "metadata": {},
   "outputs": [],
   "source": [
    "import torch\n",
    "import torch.nn as nn\n",
    "import torch.nn.functional as F\n",
    "from torch.utils.data import DataLoader, TensorDataset\n",
    "\n",
    "import numpy as np\n",
    "import pandas as pd\n",
    "\n",
    "import re\n",
    "\n",
    "from sklearn.model_selection import train_test_split\n",
    "from sklearn.metrics import accuracy_score\n",
    "\n",
    "import nltk\n",
    "from nltk.tokenize import word_tokenize\n",
    "\n",
    "import matplotlib.pyplot as plt\n"
   ]
  },
  {
   "cell_type": "code",
   "execution_count": 2,
   "id": "222ee8b4",
   "metadata": {},
   "outputs": [
    {
     "name": "stderr",
     "output_type": "stream",
     "text": [
      "[nltk_data] Downloading package punkt to /Users/haran/nltk_data...\n",
      "[nltk_data]   Package punkt is already up-to-date!\n"
     ]
    },
    {
     "data": {
      "text/plain": [
       "True"
      ]
     },
     "execution_count": 2,
     "metadata": {},
     "output_type": "execute_result"
    }
   ],
   "source": [
    "nltk.download('punkt')"
   ]
  },
  {
   "cell_type": "markdown",
   "id": "097819ce",
   "metadata": {},
   "source": [
    "## Getting the Dataset"
   ]
  },
  {
   "cell_type": "code",
   "execution_count": 3,
   "id": "9684aa3f",
   "metadata": {},
   "outputs": [],
   "source": [
    "test_path = \"../data/test.csv\"\n",
    "train_path = \"../data/train.csv\""
   ]
  },
  {
   "cell_type": "markdown",
   "id": "35a352d0",
   "metadata": {},
   "source": [
    "### Specifying the device  that's resposnible for loading a tensor into memory"
   ]
  },
  {
   "cell_type": "code",
   "execution_count": 4,
   "id": "93ff3bb8",
   "metadata": {},
   "outputs": [
    {
     "data": {
      "text/plain": [
       "device(type='cpu')"
      ]
     },
     "execution_count": 4,
     "metadata": {},
     "output_type": "execute_result"
    }
   ],
   "source": [
    "device = torch.device('cuda' if torch.cuda.is_available() else 'cpu')\n",
    "device"
   ]
  },
  {
   "cell_type": "markdown",
   "id": "1b22c434",
   "metadata": {},
   "source": [
    "## Importing the dataset"
   ]
  },
  {
   "cell_type": "code",
   "execution_count": 5,
   "id": "c674721c",
   "metadata": {},
   "outputs": [
    {
     "data": {
      "text/html": [
       "<div>\n",
       "<style scoped>\n",
       "    .dataframe tbody tr th:only-of-type {\n",
       "        vertical-align: middle;\n",
       "    }\n",
       "\n",
       "    .dataframe tbody tr th {\n",
       "        vertical-align: top;\n",
       "    }\n",
       "\n",
       "    .dataframe thead th {\n",
       "        text-align: right;\n",
       "    }\n",
       "</style>\n",
       "<table border=\"1\" class=\"dataframe\">\n",
       "  <thead>\n",
       "    <tr style=\"text-align: right;\">\n",
       "      <th></th>\n",
       "      <th>Id</th>\n",
       "      <th>Category</th>\n",
       "      <th>Tweet</th>\n",
       "    </tr>\n",
       "  </thead>\n",
       "  <tbody>\n",
       "    <tr>\n",
       "      <th>0</th>\n",
       "      <td>635769805279248384</td>\n",
       "      <td>negative</td>\n",
       "      <td>Not Available</td>\n",
       "    </tr>\n",
       "    <tr>\n",
       "      <th>1</th>\n",
       "      <td>635930169241374720</td>\n",
       "      <td>neutral</td>\n",
       "      <td>IOS 9 App Transport Security. Mm need to check...</td>\n",
       "    </tr>\n",
       "    <tr>\n",
       "      <th>2</th>\n",
       "      <td>635950258682523648</td>\n",
       "      <td>neutral</td>\n",
       "      <td>Mar if you have an iOS device, you should down...</td>\n",
       "    </tr>\n",
       "    <tr>\n",
       "      <th>3</th>\n",
       "      <td>636030803433009153</td>\n",
       "      <td>negative</td>\n",
       "      <td>@jimmie_vanagon my phone does not run on lates...</td>\n",
       "    </tr>\n",
       "    <tr>\n",
       "      <th>4</th>\n",
       "      <td>636100906224848896</td>\n",
       "      <td>positive</td>\n",
       "      <td>Not sure how to start your publication on iOS?...</td>\n",
       "    </tr>\n",
       "    <tr>\n",
       "      <th>...</th>\n",
       "      <td>...</td>\n",
       "      <td>...</td>\n",
       "      <td>...</td>\n",
       "    </tr>\n",
       "    <tr>\n",
       "      <th>5965</th>\n",
       "      <td>639016598477651968</td>\n",
       "      <td>neutral</td>\n",
       "      <td>@YouAreMyArsenal Wouldn't surprise me if we en...</td>\n",
       "    </tr>\n",
       "    <tr>\n",
       "      <th>5966</th>\n",
       "      <td>640276909633486849</td>\n",
       "      <td>neutral</td>\n",
       "      <td>Rib injury for Zlatan against Russia is a big ...</td>\n",
       "    </tr>\n",
       "    <tr>\n",
       "      <th>5967</th>\n",
       "      <td>640296841725235200</td>\n",
       "      <td>neutral</td>\n",
       "      <td>Noooooo! I was hoping to see Zlatan being Zlat...</td>\n",
       "    </tr>\n",
       "    <tr>\n",
       "      <th>5968</th>\n",
       "      <td>641017384908779520</td>\n",
       "      <td>neutral</td>\n",
       "      <td>Not Available</td>\n",
       "    </tr>\n",
       "    <tr>\n",
       "      <th>5969</th>\n",
       "      <td>641395811474128896</td>\n",
       "      <td>neutral</td>\n",
       "      <td>Not Available</td>\n",
       "    </tr>\n",
       "  </tbody>\n",
       "</table>\n",
       "<p>5970 rows × 3 columns</p>\n",
       "</div>"
      ],
      "text/plain": [
       "                      Id  Category  \\\n",
       "0     635769805279248384  negative   \n",
       "1     635930169241374720   neutral   \n",
       "2     635950258682523648   neutral   \n",
       "3     636030803433009153  negative   \n",
       "4     636100906224848896  positive   \n",
       "...                  ...       ...   \n",
       "5965  639016598477651968   neutral   \n",
       "5966  640276909633486849   neutral   \n",
       "5967  640296841725235200   neutral   \n",
       "5968  641017384908779520   neutral   \n",
       "5969  641395811474128896   neutral   \n",
       "\n",
       "                                                  Tweet  \n",
       "0                                         Not Available  \n",
       "1     IOS 9 App Transport Security. Mm need to check...  \n",
       "2     Mar if you have an iOS device, you should down...  \n",
       "3     @jimmie_vanagon my phone does not run on lates...  \n",
       "4     Not sure how to start your publication on iOS?...  \n",
       "...                                                 ...  \n",
       "5965  @YouAreMyArsenal Wouldn't surprise me if we en...  \n",
       "5966  Rib injury for Zlatan against Russia is a big ...  \n",
       "5967  Noooooo! I was hoping to see Zlatan being Zlat...  \n",
       "5968                                      Not Available  \n",
       "5969                                      Not Available  \n",
       "\n",
       "[5970 rows x 3 columns]"
      ]
     },
     "execution_count": 5,
     "metadata": {},
     "output_type": "execute_result"
    }
   ],
   "source": [
    "train_df = pd.read_csv(train_path, on_bad_lines='skip')\n",
    "train_df"
   ]
  },
  {
   "cell_type": "code",
   "execution_count": 6,
   "id": "7952fab0",
   "metadata": {},
   "outputs": [
    {
     "data": {
      "text/html": [
       "<div>\n",
       "<style scoped>\n",
       "    .dataframe tbody tr th:only-of-type {\n",
       "        vertical-align: middle;\n",
       "    }\n",
       "\n",
       "    .dataframe tbody tr th {\n",
       "        vertical-align: top;\n",
       "    }\n",
       "\n",
       "    .dataframe thead th {\n",
       "        text-align: right;\n",
       "    }\n",
       "</style>\n",
       "<table border=\"1\" class=\"dataframe\">\n",
       "  <thead>\n",
       "    <tr style=\"text-align: right;\">\n",
       "      <th></th>\n",
       "      <th>Id</th>\n",
       "      <th>Category</th>\n",
       "    </tr>\n",
       "  </thead>\n",
       "  <tbody>\n",
       "    <tr>\n",
       "      <th>0</th>\n",
       "      <td>6.289494e+17</td>\n",
       "      <td>dear @Microsoft the newOoffice for Mac is grea...</td>\n",
       "    </tr>\n",
       "    <tr>\n",
       "      <th>1</th>\n",
       "      <td>6.289766e+17</td>\n",
       "      <td>@Microsoft how about you make a system that do...</td>\n",
       "    </tr>\n",
       "    <tr>\n",
       "      <th>2</th>\n",
       "      <td>6.290232e+17</td>\n",
       "      <td>Not Available</td>\n",
       "    </tr>\n",
       "    <tr>\n",
       "      <th>3</th>\n",
       "      <td>6.291792e+17</td>\n",
       "      <td>Not Available</td>\n",
       "    </tr>\n",
       "    <tr>\n",
       "      <th>4</th>\n",
       "      <td>6.291863e+17</td>\n",
       "      <td>If I make a game as a #windows10 Universal App...</td>\n",
       "    </tr>\n",
       "    <tr>\n",
       "      <th>...</th>\n",
       "      <td>...</td>\n",
       "      <td>...</td>\n",
       "    </tr>\n",
       "    <tr>\n",
       "      <th>9963</th>\n",
       "      <td>NaN</td>\n",
       "      <td>NaN</td>\n",
       "    </tr>\n",
       "    <tr>\n",
       "      <th>9964</th>\n",
       "      <td>NaN</td>\n",
       "      <td>NaN</td>\n",
       "    </tr>\n",
       "    <tr>\n",
       "      <th>9965</th>\n",
       "      <td>NaN</td>\n",
       "      <td>NaN</td>\n",
       "    </tr>\n",
       "    <tr>\n",
       "      <th>9966</th>\n",
       "      <td>NaN</td>\n",
       "      <td>NaN</td>\n",
       "    </tr>\n",
       "    <tr>\n",
       "      <th>9967</th>\n",
       "      <td>NaN</td>\n",
       "      <td>NaN</td>\n",
       "    </tr>\n",
       "  </tbody>\n",
       "</table>\n",
       "<p>9968 rows × 2 columns</p>\n",
       "</div>"
      ],
      "text/plain": [
       "                Id                                           Category\n",
       "0     6.289494e+17  dear @Microsoft the newOoffice for Mac is grea...\n",
       "1     6.289766e+17  @Microsoft how about you make a system that do...\n",
       "2     6.290232e+17                                      Not Available\n",
       "3     6.291792e+17                                      Not Available\n",
       "4     6.291863e+17  If I make a game as a #windows10 Universal App...\n",
       "...            ...                                                ...\n",
       "9963           NaN                                                NaN\n",
       "9964           NaN                                                NaN\n",
       "9965           NaN                                                NaN\n",
       "9966           NaN                                                NaN\n",
       "9967           NaN                                                NaN\n",
       "\n",
       "[9968 rows x 2 columns]"
      ]
     },
     "execution_count": 6,
     "metadata": {},
     "output_type": "execute_result"
    }
   ],
   "source": [
    "test_df = pd.read_csv(test_path, on_bad_lines='skip')\n",
    "test_df"
   ]
  },
  {
   "cell_type": "markdown",
   "id": "794e77ff",
   "metadata": {},
   "source": [
    "# Data Pre-Processing"
   ]
  },
  {
   "cell_type": "markdown",
   "id": "64dd9375",
   "metadata": {},
   "source": [
    "### First we clean up the training data.\n",
    "-> We get rid of the \"Id\" column as its not useful for our model \n",
    "\n",
    "\n",
    "-> We then remove all the Null values in our data"
   ]
  },
  {
   "cell_type": "code",
   "execution_count": 7,
   "id": "6188234e",
   "metadata": {},
   "outputs": [
    {
     "data": {
      "text/html": [
       "<div>\n",
       "<style scoped>\n",
       "    .dataframe tbody tr th:only-of-type {\n",
       "        vertical-align: middle;\n",
       "    }\n",
       "\n",
       "    .dataframe tbody tr th {\n",
       "        vertical-align: top;\n",
       "    }\n",
       "\n",
       "    .dataframe thead th {\n",
       "        text-align: right;\n",
       "    }\n",
       "</style>\n",
       "<table border=\"1\" class=\"dataframe\">\n",
       "  <thead>\n",
       "    <tr style=\"text-align: right;\">\n",
       "      <th></th>\n",
       "      <th>Category</th>\n",
       "      <th>Tweet</th>\n",
       "    </tr>\n",
       "  </thead>\n",
       "  <tbody>\n",
       "    <tr>\n",
       "      <th>1</th>\n",
       "      <td>neutral</td>\n",
       "      <td>IOS 9 App Transport Security. Mm need to check...</td>\n",
       "    </tr>\n",
       "    <tr>\n",
       "      <th>2</th>\n",
       "      <td>neutral</td>\n",
       "      <td>Mar if you have an iOS device, you should down...</td>\n",
       "    </tr>\n",
       "    <tr>\n",
       "      <th>3</th>\n",
       "      <td>negative</td>\n",
       "      <td>@jimmie_vanagon my phone does not run on lates...</td>\n",
       "    </tr>\n",
       "    <tr>\n",
       "      <th>4</th>\n",
       "      <td>positive</td>\n",
       "      <td>Not sure how to start your publication on iOS?...</td>\n",
       "    </tr>\n",
       "    <tr>\n",
       "      <th>5</th>\n",
       "      <td>neutral</td>\n",
       "      <td>Two Dollar Tuesday is here with Forklift 2, Qu...</td>\n",
       "    </tr>\n",
       "    <tr>\n",
       "      <th>...</th>\n",
       "      <td>...</td>\n",
       "      <td>...</td>\n",
       "    </tr>\n",
       "    <tr>\n",
       "      <th>5963</th>\n",
       "      <td>positive</td>\n",
       "      <td>Ok ed let's do this, Zlatan, greizmann and Lap...</td>\n",
       "    </tr>\n",
       "    <tr>\n",
       "      <th>5964</th>\n",
       "      <td>neutral</td>\n",
       "      <td>Goal level: Zlatan  90k by Friday? = Posting e...</td>\n",
       "    </tr>\n",
       "    <tr>\n",
       "      <th>5965</th>\n",
       "      <td>neutral</td>\n",
       "      <td>@YouAreMyArsenal Wouldn't surprise me if we en...</td>\n",
       "    </tr>\n",
       "    <tr>\n",
       "      <th>5966</th>\n",
       "      <td>neutral</td>\n",
       "      <td>Rib injury for Zlatan against Russia is a big ...</td>\n",
       "    </tr>\n",
       "    <tr>\n",
       "      <th>5967</th>\n",
       "      <td>neutral</td>\n",
       "      <td>Noooooo! I was hoping to see Zlatan being Zlat...</td>\n",
       "    </tr>\n",
       "  </tbody>\n",
       "</table>\n",
       "<p>5422 rows × 2 columns</p>\n",
       "</div>"
      ],
      "text/plain": [
       "      Category                                              Tweet\n",
       "1      neutral  IOS 9 App Transport Security. Mm need to check...\n",
       "2      neutral  Mar if you have an iOS device, you should down...\n",
       "3     negative  @jimmie_vanagon my phone does not run on lates...\n",
       "4     positive  Not sure how to start your publication on iOS?...\n",
       "5      neutral  Two Dollar Tuesday is here with Forklift 2, Qu...\n",
       "...        ...                                                ...\n",
       "5963  positive  Ok ed let's do this, Zlatan, greizmann and Lap...\n",
       "5964   neutral  Goal level: Zlatan  90k by Friday? = Posting e...\n",
       "5965   neutral  @YouAreMyArsenal Wouldn't surprise me if we en...\n",
       "5966   neutral  Rib injury for Zlatan against Russia is a big ...\n",
       "5967   neutral  Noooooo! I was hoping to see Zlatan being Zlat...\n",
       "\n",
       "[5422 rows x 2 columns]"
      ]
     },
     "execution_count": 7,
     "metadata": {},
     "output_type": "execute_result"
    }
   ],
   "source": [
    "train_df = train_df.drop(columns=[\"Id\"])\n",
    "train_df = train_df.dropna()\n",
    "train_df = train_df[train_df[\"Tweet\"] != \"Not Available\"]\n",
    "train_df"
   ]
  },
  {
   "cell_type": "markdown",
   "id": "e1a4cf00",
   "metadata": {},
   "source": [
    "### Now we will look at the test data"
   ]
  },
  {
   "cell_type": "markdown",
   "id": "65624773",
   "metadata": {},
   "source": [
    "-> We rename the category column to tweets\n",
    "\n",
    "-> And then we apply the same steps as above"
   ]
  },
  {
   "cell_type": "code",
   "execution_count": 8,
   "id": "341a5556",
   "metadata": {},
   "outputs": [],
   "source": [
    "test_df = test_df.rename(columns={\"Category\":\"Tweet\"})"
   ]
  },
  {
   "cell_type": "code",
   "execution_count": 9,
   "id": "7c50d656",
   "metadata": {},
   "outputs": [
    {
     "data": {
      "text/html": [
       "<div>\n",
       "<style scoped>\n",
       "    .dataframe tbody tr th:only-of-type {\n",
       "        vertical-align: middle;\n",
       "    }\n",
       "\n",
       "    .dataframe tbody tr th {\n",
       "        vertical-align: top;\n",
       "    }\n",
       "\n",
       "    .dataframe thead th {\n",
       "        text-align: right;\n",
       "    }\n",
       "</style>\n",
       "<table border=\"1\" class=\"dataframe\">\n",
       "  <thead>\n",
       "    <tr style=\"text-align: right;\">\n",
       "      <th></th>\n",
       "      <th>Tweet</th>\n",
       "    </tr>\n",
       "  </thead>\n",
       "  <tbody>\n",
       "    <tr>\n",
       "      <th>0</th>\n",
       "      <td>dear @Microsoft the newOoffice for Mac is grea...</td>\n",
       "    </tr>\n",
       "    <tr>\n",
       "      <th>1</th>\n",
       "      <td>@Microsoft how about you make a system that do...</td>\n",
       "    </tr>\n",
       "    <tr>\n",
       "      <th>4</th>\n",
       "      <td>If I make a game as a #windows10 Universal App...</td>\n",
       "    </tr>\n",
       "    <tr>\n",
       "      <th>5</th>\n",
       "      <td>Microsoft, I may not prefer your gaming branch...</td>\n",
       "    </tr>\n",
       "    <tr>\n",
       "      <th>6</th>\n",
       "      <td>@MikeWolf1980 @Microsoft I will be downgrading...</td>\n",
       "    </tr>\n",
       "    <tr>\n",
       "      <th>...</th>\n",
       "      <td>...</td>\n",
       "    </tr>\n",
       "    <tr>\n",
       "      <th>3994</th>\n",
       "      <td>Anybody with a Steak &amp;amp; Shake or IHOP move ...</td>\n",
       "    </tr>\n",
       "    <tr>\n",
       "      <th>3995</th>\n",
       "      <td>I am assembling an epic Pancake Posse for an I...</td>\n",
       "    </tr>\n",
       "    <tr>\n",
       "      <th>3996</th>\n",
       "      <td>do you work at Ihop tomorrow @carlysunshine_</td>\n",
       "    </tr>\n",
       "    <tr>\n",
       "      <th>3997</th>\n",
       "      <td>23 Aug 00;30 #771NAS Rescue193 returned from T...</td>\n",
       "    </tr>\n",
       "    <tr>\n",
       "      <th>3999</th>\n",
       "      <td>IOS 9 App Transport Security. Mm need to check...</td>\n",
       "    </tr>\n",
       "  </tbody>\n",
       "</table>\n",
       "<p>3640 rows × 1 columns</p>\n",
       "</div>"
      ],
      "text/plain": [
       "                                                  Tweet\n",
       "0     dear @Microsoft the newOoffice for Mac is grea...\n",
       "1     @Microsoft how about you make a system that do...\n",
       "4     If I make a game as a #windows10 Universal App...\n",
       "5     Microsoft, I may not prefer your gaming branch...\n",
       "6     @MikeWolf1980 @Microsoft I will be downgrading...\n",
       "...                                                 ...\n",
       "3994  Anybody with a Steak &amp; Shake or IHOP move ...\n",
       "3995  I am assembling an epic Pancake Posse for an I...\n",
       "3996       do you work at Ihop tomorrow @carlysunshine_\n",
       "3997  23 Aug 00;30 #771NAS Rescue193 returned from T...\n",
       "3999  IOS 9 App Transport Security. Mm need to check...\n",
       "\n",
       "[3640 rows x 1 columns]"
      ]
     },
     "execution_count": 9,
     "metadata": {},
     "output_type": "execute_result"
    }
   ],
   "source": [
    "test_df = test_df.drop(columns=[\"Id\"])\n",
    "test_df = test_df.dropna()\n",
    "test_df = test_df[test_df[\"Tweet\"] != \"Not Available\"]\n",
    "test_df"
   ]
  },
  {
   "cell_type": "markdown",
   "id": "62a40890",
   "metadata": {},
   "source": [
    "### Dealing with the Class Imbalance"
   ]
  },
  {
   "cell_type": "code",
   "execution_count": 10,
   "id": "fe373f24",
   "metadata": {},
   "outputs": [
    {
     "data": {
      "text/plain": [
       "positive    2599\n",
       "neutral     1953\n",
       "negative     869\n",
       "Tweet          1\n",
       "Name: Category, dtype: int64"
      ]
     },
     "execution_count": 10,
     "metadata": {},
     "output_type": "execute_result"
    }
   ],
   "source": [
    "train_df['Category'].value_counts()"
   ]
  },
  {
   "cell_type": "markdown",
   "id": "eb9acc43",
   "metadata": {},
   "source": [
    "When we have surpervised datasets, the number of instances of each class needs to be balanced. An imbalance in the training set could skew our model and reduce its accurate. \n",
    "\n",
    "There are many methods that can be used to deal with this such as oversampling,undersampling and augmentation. In this case undersampling is used.\n",
    "\n",
    "In undersampling we decrease the number of instances of the majority class. In this case we remove tweets from the neutral and positive classes until we end up with 869 tweets"
   ]
  },
  {
   "cell_type": "code",
   "execution_count": 11,
   "id": "e3054ef7",
   "metadata": {},
   "outputs": [],
   "source": [
    "neg_df = train_df[train_df[\"Category\"] == \"negative\"]\n",
    "pos_df = train_df[train_df[\"Category\"] == \"positive\"]\n",
    "neu_df = train_df[train_df[\"Category\"] == \"neutral\"]\n",
    "\n",
    "pos_drop = np.random.choice(pos_df.index,2599-869,replace=False)\n",
    "neu_drop = np.random.choice(neu_df.index,1953-869,replace=False)\n",
    "\n",
    "pos_undersampled = pos_df.drop(pos_drop)\n",
    "neu_undersampled = neu_df.drop(neu_drop)\n",
    "\n",
    "balanced_train_df = pd.concat([neg_df,neu_undersampled,pos_undersampled])"
   ]
  },
  {
   "cell_type": "code",
   "execution_count": 12,
   "id": "d19bc673",
   "metadata": {},
   "outputs": [
    {
     "data": {
      "text/html": [
       "<div>\n",
       "<style scoped>\n",
       "    .dataframe tbody tr th:only-of-type {\n",
       "        vertical-align: middle;\n",
       "    }\n",
       "\n",
       "    .dataframe tbody tr th {\n",
       "        vertical-align: top;\n",
       "    }\n",
       "\n",
       "    .dataframe thead th {\n",
       "        text-align: right;\n",
       "    }\n",
       "</style>\n",
       "<table border=\"1\" class=\"dataframe\">\n",
       "  <thead>\n",
       "    <tr style=\"text-align: right;\">\n",
       "      <th></th>\n",
       "      <th>Category</th>\n",
       "      <th>Tweet</th>\n",
       "    </tr>\n",
       "  </thead>\n",
       "  <tbody>\n",
       "    <tr>\n",
       "      <th>3</th>\n",
       "      <td>negative</td>\n",
       "      <td>@jimmie_vanagon my phone does not run on lates...</td>\n",
       "    </tr>\n",
       "    <tr>\n",
       "      <th>29</th>\n",
       "      <td>negative</td>\n",
       "      <td>@_tomcc @bartwerf please stop walking and work...</td>\n",
       "    </tr>\n",
       "    <tr>\n",
       "      <th>36</th>\n",
       "      <td>negative</td>\n",
       "      <td>@DeltaAssist yes, I asked an attendant to prin...</td>\n",
       "    </tr>\n",
       "    <tr>\n",
       "      <th>91</th>\n",
       "      <td>negative</td>\n",
       "      <td>ok inbox on iOS has a pretty animation for the...</td>\n",
       "    </tr>\n",
       "    <tr>\n",
       "      <th>100</th>\n",
       "      <td>negative</td>\n",
       "      <td>Lost my iPad for the 2nd time today</td>\n",
       "    </tr>\n",
       "    <tr>\n",
       "      <th>...</th>\n",
       "      <td>...</td>\n",
       "      <td>...</td>\n",
       "    </tr>\n",
       "    <tr>\n",
       "      <th>5932</th>\n",
       "      <td>positive</td>\n",
       "      <td>Scenes when Benzema walks out of tunnel tomorr...</td>\n",
       "    </tr>\n",
       "    <tr>\n",
       "      <th>5940</th>\n",
       "      <td>positive</td>\n",
       "      <td>The VP of France's refereeing union Laurent Ug...</td>\n",
       "    </tr>\n",
       "    <tr>\n",
       "      <th>5945</th>\n",
       "      <td>positive</td>\n",
       "      <td>Reserving the right to put Milan 3rd if Zlatan...</td>\n",
       "    </tr>\n",
       "    <tr>\n",
       "      <th>5952</th>\n",
       "      <td>positive</td>\n",
       "      <td>Mourinho, Zlatan, Serie A - who are the winner...</td>\n",
       "    </tr>\n",
       "    <tr>\n",
       "      <th>5963</th>\n",
       "      <td>positive</td>\n",
       "      <td>Ok ed let's do this, Zlatan, greizmann and Lap...</td>\n",
       "    </tr>\n",
       "  </tbody>\n",
       "</table>\n",
       "<p>2607 rows × 2 columns</p>\n",
       "</div>"
      ],
      "text/plain": [
       "      Category                                              Tweet\n",
       "3     negative  @jimmie_vanagon my phone does not run on lates...\n",
       "29    negative  @_tomcc @bartwerf please stop walking and work...\n",
       "36    negative  @DeltaAssist yes, I asked an attendant to prin...\n",
       "91    negative  ok inbox on iOS has a pretty animation for the...\n",
       "100   negative                Lost my iPad for the 2nd time today\n",
       "...        ...                                                ...\n",
       "5932  positive  Scenes when Benzema walks out of tunnel tomorr...\n",
       "5940  positive  The VP of France's refereeing union Laurent Ug...\n",
       "5945  positive  Reserving the right to put Milan 3rd if Zlatan...\n",
       "5952  positive  Mourinho, Zlatan, Serie A - who are the winner...\n",
       "5963  positive  Ok ed let's do this, Zlatan, greizmann and Lap...\n",
       "\n",
       "[2607 rows x 2 columns]"
      ]
     },
     "execution_count": 12,
     "metadata": {},
     "output_type": "execute_result"
    }
   ],
   "source": [
    "balanced_train_df"
   ]
  },
  {
   "cell_type": "code",
   "execution_count": 13,
   "id": "333613b6",
   "metadata": {},
   "outputs": [
    {
     "data": {
      "text/plain": [
       "negative    869\n",
       "neutral     869\n",
       "positive    869\n",
       "Name: Category, dtype: int64"
      ]
     },
     "execution_count": 13,
     "metadata": {},
     "output_type": "execute_result"
    }
   ],
   "source": [
    "balanced_train_df[\"Category\"].value_counts()"
   ]
  },
  {
   "cell_type": "markdown",
   "id": "6a57534e",
   "metadata": {},
   "source": [
    "### Splitting the data into test and training sets\n",
    "\n",
    "This has to be done as our test data is not labelled"
   ]
  },
  {
   "cell_type": "code",
   "execution_count": 14,
   "id": "da2fa4a3",
   "metadata": {},
   "outputs": [],
   "source": [
    "train_b_df,test_b_df = train_test_split(balanced_train_df,test_size = 0.15)"
   ]
  },
  {
   "cell_type": "code",
   "execution_count": 15,
   "id": "b7e1f1f6",
   "metadata": {},
   "outputs": [
    {
     "data": {
      "text/html": [
       "<div>\n",
       "<style scoped>\n",
       "    .dataframe tbody tr th:only-of-type {\n",
       "        vertical-align: middle;\n",
       "    }\n",
       "\n",
       "    .dataframe tbody tr th {\n",
       "        vertical-align: top;\n",
       "    }\n",
       "\n",
       "    .dataframe thead th {\n",
       "        text-align: right;\n",
       "    }\n",
       "</style>\n",
       "<table border=\"1\" class=\"dataframe\">\n",
       "  <thead>\n",
       "    <tr style=\"text-align: right;\">\n",
       "      <th></th>\n",
       "      <th>Category</th>\n",
       "      <th>Tweet</th>\n",
       "    </tr>\n",
       "  </thead>\n",
       "  <tbody>\n",
       "    <tr>\n",
       "      <th>2849</th>\n",
       "      <td>neutral</td>\n",
       "      <td>Tomorrow, I pray the Persian people will stand...</td>\n",
       "    </tr>\n",
       "    <tr>\n",
       "      <th>4659</th>\n",
       "      <td>neutral</td>\n",
       "      <td>just another Monday without teen wolf</td>\n",
       "    </tr>\n",
       "    <tr>\n",
       "      <th>1958</th>\n",
       "      <td>positive</td>\n",
       "      <td>I'll be live streaming the sad Giants fans via...</td>\n",
       "    </tr>\n",
       "    <tr>\n",
       "      <th>3368</th>\n",
       "      <td>neutral</td>\n",
       "      <td>Space Mountain may be the oldest ride in the p...</td>\n",
       "    </tr>\n",
       "    <tr>\n",
       "      <th>4433</th>\n",
       "      <td>positive</td>\n",
       "      <td>I would do anything to see taylor swift in con...</td>\n",
       "    </tr>\n",
       "    <tr>\n",
       "      <th>...</th>\n",
       "      <td>...</td>\n",
       "      <td>...</td>\n",
       "    </tr>\n",
       "    <tr>\n",
       "      <th>5897</th>\n",
       "      <td>negative</td>\n",
       "      <td>Friend with connections just offered to let me...</td>\n",
       "    </tr>\n",
       "    <tr>\n",
       "      <th>1307</th>\n",
       "      <td>positive</td>\n",
       "      <td>Residents say: \"It's a blessing this didn't ha...</td>\n",
       "    </tr>\n",
       "    <tr>\n",
       "      <th>4436</th>\n",
       "      <td>negative</td>\n",
       "      <td>tomorrow is the taylor swift concert where i l...</td>\n",
       "    </tr>\n",
       "    <tr>\n",
       "      <th>3405</th>\n",
       "      <td>negative</td>\n",
       "      <td>@OpposingViews I hear it may only be 15. Rick ...</td>\n",
       "    </tr>\n",
       "    <tr>\n",
       "      <th>658</th>\n",
       "      <td>neutral</td>\n",
       "      <td>'Joe Biden' appeared on Thursday 3 at the 14th...</td>\n",
       "    </tr>\n",
       "  </tbody>\n",
       "</table>\n",
       "<p>2215 rows × 2 columns</p>\n",
       "</div>"
      ],
      "text/plain": [
       "      Category                                              Tweet\n",
       "2849   neutral  Tomorrow, I pray the Persian people will stand...\n",
       "4659   neutral              just another Monday without teen wolf\n",
       "1958  positive  I'll be live streaming the sad Giants fans via...\n",
       "3368   neutral  Space Mountain may be the oldest ride in the p...\n",
       "4433  positive  I would do anything to see taylor swift in con...\n",
       "...        ...                                                ...\n",
       "5897  negative  Friend with connections just offered to let me...\n",
       "1307  positive  Residents say: \"It's a blessing this didn't ha...\n",
       "4436  negative  tomorrow is the taylor swift concert where i l...\n",
       "3405  negative  @OpposingViews I hear it may only be 15. Rick ...\n",
       "658    neutral  'Joe Biden' appeared on Thursday 3 at the 14th...\n",
       "\n",
       "[2215 rows x 2 columns]"
      ]
     },
     "execution_count": 15,
     "metadata": {},
     "output_type": "execute_result"
    }
   ],
   "source": [
    "train_b_df"
   ]
  },
  {
   "cell_type": "code",
   "execution_count": 16,
   "id": "e1aa0633",
   "metadata": {},
   "outputs": [
    {
     "data": {
      "text/html": [
       "<div>\n",
       "<style scoped>\n",
       "    .dataframe tbody tr th:only-of-type {\n",
       "        vertical-align: middle;\n",
       "    }\n",
       "\n",
       "    .dataframe tbody tr th {\n",
       "        vertical-align: top;\n",
       "    }\n",
       "\n",
       "    .dataframe thead th {\n",
       "        text-align: right;\n",
       "    }\n",
       "</style>\n",
       "<table border=\"1\" class=\"dataframe\">\n",
       "  <thead>\n",
       "    <tr style=\"text-align: right;\">\n",
       "      <th></th>\n",
       "      <th>Category</th>\n",
       "      <th>Tweet</th>\n",
       "    </tr>\n",
       "  </thead>\n",
       "  <tbody>\n",
       "    <tr>\n",
       "      <th>1058</th>\n",
       "      <td>neutral</td>\n",
       "      <td>Juventus sign Inter midfielder Harnanes: Turin...</td>\n",
       "    </tr>\n",
       "    <tr>\n",
       "      <th>5778</th>\n",
       "      <td>negative</td>\n",
       "      <td>@XboxSupport abt time we got a reply from xbox...</td>\n",
       "    </tr>\n",
       "    <tr>\n",
       "      <th>4064</th>\n",
       "      <td>positive</td>\n",
       "      <td>Sony's 20th Anniversary sale going on now  htt...</td>\n",
       "    </tr>\n",
       "    <tr>\n",
       "      <th>750</th>\n",
       "      <td>neutral</td>\n",
       "      <td>Someone see Jurassic park with me tomorrow</td>\n",
       "    </tr>\n",
       "    <tr>\n",
       "      <th>2459</th>\n",
       "      <td>neutral</td>\n",
       "      <td>It's tough going when you start watching a sho...</td>\n",
       "    </tr>\n",
       "    <tr>\n",
       "      <th>...</th>\n",
       "      <td>...</td>\n",
       "      <td>...</td>\n",
       "    </tr>\n",
       "    <tr>\n",
       "      <th>561</th>\n",
       "      <td>negative</td>\n",
       "      <td>Jeb Bush pretending he's a co front runner but...</td>\n",
       "    </tr>\n",
       "    <tr>\n",
       "      <th>243</th>\n",
       "      <td>positive</td>\n",
       "      <td>In Wednesday's #FirstFT - long reign the Queen...</td>\n",
       "    </tr>\n",
       "    <tr>\n",
       "      <th>5403</th>\n",
       "      <td>positive</td>\n",
       "      <td>Tomorrow, on March 14th, one month after Valen...</td>\n",
       "    </tr>\n",
       "    <tr>\n",
       "      <th>2204</th>\n",
       "      <td>negative</td>\n",
       "      <td>My 8yr old just back talked me.. On Monday whe...</td>\n",
       "    </tr>\n",
       "    <tr>\n",
       "      <th>1658</th>\n",
       "      <td>neutral</td>\n",
       "      <td>Would it be wrong to watch Magic Mike XXL for ...</td>\n",
       "    </tr>\n",
       "  </tbody>\n",
       "</table>\n",
       "<p>392 rows × 2 columns</p>\n",
       "</div>"
      ],
      "text/plain": [
       "      Category                                              Tweet\n",
       "1058   neutral  Juventus sign Inter midfielder Harnanes: Turin...\n",
       "5778  negative  @XboxSupport abt time we got a reply from xbox...\n",
       "4064  positive  Sony's 20th Anniversary sale going on now  htt...\n",
       "750    neutral         Someone see Jurassic park with me tomorrow\n",
       "2459   neutral  It's tough going when you start watching a sho...\n",
       "...        ...                                                ...\n",
       "561   negative  Jeb Bush pretending he's a co front runner but...\n",
       "243   positive  In Wednesday's #FirstFT - long reign the Queen...\n",
       "5403  positive  Tomorrow, on March 14th, one month after Valen...\n",
       "2204  negative  My 8yr old just back talked me.. On Monday whe...\n",
       "1658   neutral  Would it be wrong to watch Magic Mike XXL for ...\n",
       "\n",
       "[392 rows x 2 columns]"
      ]
     },
     "execution_count": 16,
     "metadata": {},
     "output_type": "execute_result"
    }
   ],
   "source": [
    "test_b_df"
   ]
  },
  {
   "cell_type": "markdown",
   "id": "03f2e9d3",
   "metadata": {},
   "source": [
    "#### Conversion of both dataframes to lists for easier manipulation. This can be done as the data size is relatively small"
   ]
  },
  {
   "cell_type": "code",
   "execution_count": 17,
   "id": "0dba4f05",
   "metadata": {},
   "outputs": [],
   "source": [
    "train_set = list(train_b_df.to_records(index=False))\n",
    "test_set = list(test_b_df.to_records(index=False))"
   ]
  },
  {
   "cell_type": "code",
   "execution_count": 18,
   "id": "6d19ead8",
   "metadata": {},
   "outputs": [
    {
     "data": {
      "text/plain": [
       "[('neutral', \"Tomorrow, I pray the Persian people will stand with Trump in Washington and stop Obama's nuclear insanity.\"),\n",
       " ('neutral', 'just another Monday without teen wolf'),\n",
       " ('positive', \"I'll be live streaming the sad Giants fans via @AppMeerkat this Saturday night at MetLife after @BBortles5 beats the Giants again. #JAXvsNYG\"),\n",
       " ('neutral', 'Space Mountain may be the oldest ride in the park, BUT it has the longest line. Ric Flair http://t.co/gr38yiGwcT'),\n",
       " ('positive', 'I would do anything to see taylor swift in concert on the 18th')]"
      ]
     },
     "execution_count": 18,
     "metadata": {},
     "output_type": "execute_result"
    }
   ],
   "source": [
    "train_set[:5]"
   ]
  },
  {
   "cell_type": "code",
   "execution_count": 19,
   "id": "9138bb4e",
   "metadata": {},
   "outputs": [
    {
     "data": {
      "text/plain": [
       "[('neutral', 'Juventus sign Inter midfielder Harnanes: Turin, Sep 1 : Italian football champions Juventus have bolstered the... http://t.co/bn03KmrtHv'),\n",
       " ('negative', '@XboxSupport abt time we got a reply from xbox 4 hours and counting, this is the 3rd time in a month what u doing to fix this issue xbox'),\n",
       " ('positive', \"Sony's 20th Anniversary sale going on now  http://t.co/o98eV4BdyL\"),\n",
       " ('neutral', 'Someone see Jurassic park with me tomorrow'),\n",
       " ('neutral', \"It's tough going when you start watching a show on Netflix w/ 5+ seasons when it's only the 3rd week of classes &amp; can't afford to get behind\")]"
      ]
     },
     "execution_count": 19,
     "metadata": {},
     "output_type": "execute_result"
    }
   ],
   "source": [
    "test_set[:5]"
   ]
  },
  {
   "cell_type": "markdown",
   "id": "77959491",
   "metadata": {},
   "source": [
    "#### As we can see the tweets have to be cleaned, special symbols and links have to be removed"
   ]
  },
  {
   "cell_type": "code",
   "execution_count": 20,
   "id": "c8639b81",
   "metadata": {},
   "outputs": [],
   "source": [
    "# We create a function to do the cleaning, which can then be applied on the list\n",
    "def tweet_clean(tweet):\n",
    "    link_pattern = \"https?:\\/\\/t.co/[\\w]+\"\n",
    "    mention_pattern = \"@\\w+\"\n",
    "    tweet = re.sub(link_pattern, \"\", tweet)\n",
    "    tweet = re.sub(mention_pattern, \"\", tweet)\n",
    "    return tweet.lower()"
   ]
  },
  {
   "cell_type": "markdown",
   "id": "2b3175fb",
   "metadata": {},
   "source": [
    "### Tokenization\n"
   ]
  },
  {
   "cell_type": "markdown",
   "id": "d05f05c6",
   "metadata": {},
   "source": [
    "Here we use the `word_tokenize()` function from the NLTK library to split the sentence into tokens or words"
   ]
  },
  {
   "cell_type": "code",
   "execution_count": 21,
   "id": "cc5e8af5",
   "metadata": {},
   "outputs": [
    {
     "data": {
      "text/plain": [
       "[('neutral',\n",
       "  ['tomorrow',\n",
       "   ',',\n",
       "   'i',\n",
       "   'pray',\n",
       "   'the',\n",
       "   'persian',\n",
       "   'people',\n",
       "   'will',\n",
       "   'stand',\n",
       "   'with',\n",
       "   'trump',\n",
       "   'in',\n",
       "   'washington',\n",
       "   'and',\n",
       "   'stop',\n",
       "   'obama',\n",
       "   \"'s\",\n",
       "   'nuclear',\n",
       "   'insanity',\n",
       "   '.'])]"
      ]
     },
     "execution_count": 21,
     "metadata": {},
     "output_type": "execute_result"
    }
   ],
   "source": [
    "train_set = [(label,word_tokenize(tweet_clean(tweet))) for label,tweet in train_set]\n",
    "train_set[:1]"
   ]
  },
  {
   "cell_type": "code",
   "execution_count": 22,
   "id": "0c7fa818",
   "metadata": {},
   "outputs": [
    {
     "data": {
      "text/plain": [
       "[('neutral',\n",
       "  ['juventus',\n",
       "   'sign',\n",
       "   'inter',\n",
       "   'midfielder',\n",
       "   'harnanes',\n",
       "   ':',\n",
       "   'turin',\n",
       "   ',',\n",
       "   'sep',\n",
       "   '1',\n",
       "   ':',\n",
       "   'italian',\n",
       "   'football',\n",
       "   'champions',\n",
       "   'juventus',\n",
       "   'have',\n",
       "   'bolstered',\n",
       "   'the',\n",
       "   '...'])]"
      ]
     },
     "execution_count": 22,
     "metadata": {},
     "output_type": "execute_result"
    }
   ],
   "source": [
    "test_set = [(label,word_tokenize(tweet_clean(tweet))) for label,tweet in test_set]\n",
    "test_set[:1]"
   ]
  },
  {
   "cell_type": "markdown",
   "id": "980e955f",
   "metadata": {},
   "source": [
    "### Now we have to form the vocabulary for the corpus, here we map each word in both the training and test set to a number"
   ]
  },
  {
   "cell_type": "code",
   "execution_count": 23,
   "id": "28b03bca",
   "metadata": {},
   "outputs": [],
   "source": [
    "word_index = [\"<PAD>\",\"<SOS>\",\"<EOS>\"]\n",
    "\n",
    "for pair in [train_set,test_set]:\n",
    "    for label,tweet in pair:\n",
    "        for token in tweet:\n",
    "            if token not in word_index:\n",
    "                word_index.append(token)\n",
    "            \n",
    "\n"
   ]
  },
  {
   "cell_type": "code",
   "execution_count": 24,
   "id": "7d0e95d0",
   "metadata": {},
   "outputs": [
    {
     "data": {
      "text/plain": [
       "'tomorrow'"
      ]
     },
     "execution_count": 24,
     "metadata": {},
     "output_type": "execute_result"
    }
   ],
   "source": [
    "word_index[3]"
   ]
  },
  {
   "cell_type": "code",
   "execution_count": 25,
   "id": "0cc259fb",
   "metadata": {},
   "outputs": [],
   "source": [
    "word_index_dict = {token:index for index,token in enumerate(word_index)}"
   ]
  },
  {
   "cell_type": "code",
   "execution_count": 26,
   "id": "ad2c2a19",
   "metadata": {},
   "outputs": [
    {
     "data": {
      "text/plain": [
       "1207"
      ]
     },
     "execution_count": 26,
     "metadata": {},
     "output_type": "execute_result"
    }
   ],
   "source": [
    "word_index_dict['very']"
   ]
  },
  {
   "cell_type": "markdown",
   "id": "1001dff6",
   "metadata": {},
   "source": [
    "#### Encoding the labels "
   ]
  },
  {
   "cell_type": "code",
   "execution_count": 27,
   "id": "60a47d83",
   "metadata": {},
   "outputs": [],
   "source": [
    "def label_map(label):\n",
    "    if label == \"negative\":\n",
    "        return 0\n",
    "    elif label == \"neutral\":\n",
    "        return 1\n",
    "    else:\n",
    "        return 2"
   ]
  },
  {
   "cell_type": "markdown",
   "id": "b866545d",
   "metadata": {},
   "source": [
    "#### As our model will take a fixed size tweet as input, we need to pad the tweets that are less than the specified tweet length, and truncate the tweets that are larger"
   ]
  },
  {
   "cell_type": "code",
   "execution_count": 59,
   "id": "77b1937b",
   "metadata": {},
   "outputs": [],
   "source": [
    "seq_length = 32"
   ]
  },
  {
   "cell_type": "code",
   "execution_count": 60,
   "id": "391188a6",
   "metadata": {},
   "outputs": [],
   "source": [
    "def encode_and_pad(tweet,length):\n",
    "    \n",
    "    sos = [word_index_dict[\"<SOS>\"]]\n",
    "    eos = [word_index_dict[\"<EOS>\"]]\n",
    "    pad = [word_index_dict[\"<PAD>\"]]\n",
    "    \n",
    "    if len(tweet) < length - 2: # -2 for SOS and EOS\n",
    "        n_pads = length - 2 - len(tweet)\n",
    "        encoded = [word_index_dict[w] for w in tweet]\n",
    "        return sos + encoded + eos + pad * n_pads \n",
    "    else: # truncating\n",
    "        encoded = [word_index_dict[w] for w in tweet]\n",
    "        truncated = encoded[:length - 2]\n",
    "        return sos + truncated + eos"
   ]
  },
  {
   "cell_type": "code",
   "execution_count": 61,
   "id": "f1a5feb7",
   "metadata": {},
   "outputs": [],
   "source": [
    "train_encoded = [(encode_and_pad(tweet,seq_length),label_map(label)) for label,tweet in train_set]"
   ]
  },
  {
   "cell_type": "code",
   "execution_count": 62,
   "id": "01a5b703",
   "metadata": {},
   "outputs": [],
   "source": [
    "test_encoded = [(encode_and_pad(tweet,seq_length),label_map(label)) for label,tweet in test_set]"
   ]
  },
  {
   "cell_type": "code",
   "execution_count": 63,
   "id": "f822ae81",
   "metadata": {},
   "outputs": [
    {
     "name": "stdout",
     "output_type": "stream",
     "text": [
      "([1, 23, 24, 25, 26, 27, 28, 2, 0, 0, 0, 0, 0, 0, 0, 0, 0, 0, 0, 0, 0, 0, 0, 0, 0, 0, 0, 0, 0, 0, 0, 0], 1)\n"
     ]
    }
   ],
   "source": [
    "print(train_encoded[1])"
   ]
  },
  {
   "cell_type": "markdown",
   "id": "ebdaf3a3",
   "metadata": {},
   "source": [
    "### Building the model using PyTorch"
   ]
  },
  {
   "cell_type": "code",
   "execution_count": 64,
   "id": "81305d03",
   "metadata": {},
   "outputs": [],
   "source": [
    "batch_size = 50\n",
    "\n",
    "train_x = np.array([tweet for tweet,label in train_encoded])\n",
    "train_y = np.array([label for tweet,label in train_encoded])\n",
    "test_x = np.array([tweet for tweet,label in test_encoded])\n",
    "test_y = np.array([label for tweet,label in test_encoded])\n",
    "\n",
    "train_ds = TensorDataset(torch.from_numpy(train_x),torch.from_numpy(train_y))\n",
    "test_ds = TensorDataset(torch.from_numpy(test_x),torch.from_numpy(test_y))"
   ]
  },
  {
   "cell_type": "code",
   "execution_count": 65,
   "id": "f5accc1d",
   "metadata": {},
   "outputs": [],
   "source": [
    "train_dl = DataLoader(train_ds,shuffle=True,batch_size=batch_size,drop_last = True)\n",
    "test_dl = DataLoader(test_ds,shuffle=True,batch_size=batch_size,drop_last = True)"
   ]
  },
  {
   "cell_type": "code",
   "execution_count": 66,
   "id": "d16aca43",
   "metadata": {},
   "outputs": [
    {
     "data": {
      "text/plain": [
       "7786"
      ]
     },
     "execution_count": 66,
     "metadata": {},
     "output_type": "execute_result"
    }
   ],
   "source": [
    "len(word_index_dict)"
   ]
  },
  {
   "cell_type": "code",
   "execution_count": 80,
   "id": "89c4489d",
   "metadata": {},
   "outputs": [],
   "source": [
    "class LSTM_Sentiment(nn.Module):\n",
    "    def __init__(self,vocab_size,emb_dim,hidden_dim,dropout):\n",
    "        super().__init__()\n",
    "        \n",
    "        self.embedding = nn.Embedding(vocab_size,emb_dim,padding_idx=0)\n",
    "        \n",
    "        self.LSTM = nn.LSTM(emb_dim,hidden_dim,batch_first=True)\n",
    "        \n",
    "        self.dropout = nn.Dropout(dropout) # to help with regularization to avoid overfitting\n",
    "        \n",
    "        self.fcf = nn.Linear(hidden_dim,3)\n",
    "    \n",
    "    def forward(self,x,hidden):\n",
    "        \n",
    "        embed = self.embedding(x)\n",
    "        \n",
    "        out,hidden = self.LSTM(embed,hidden)\n",
    "        \n",
    "        out = self.dropout(out)\n",
    "        \n",
    "        out = self.fcf(out)\n",
    "        \n",
    "        out = out[:,-1]\n",
    "        \n",
    "        return out,hidden\n",
    "    \n",
    "    def hidden_init(self):\n",
    "        return (torch.zeros(1,batch_size, 32), torch.zeros(1,batch_size, 32))\n",
    "        \n",
    "        \n",
    "            "
   ]
  },
  {
   "cell_type": "markdown",
   "id": "7c6fc003",
   "metadata": {},
   "source": [
    "### Setting up and Training the model"
   ]
  },
  {
   "cell_type": "code",
   "execution_count": 81,
   "id": "30e92ffb",
   "metadata": {},
   "outputs": [],
   "source": [
    "model = LSTM_Sentiment(len(word_index_dict),64,32,0.2)\n",
    "model = model.to(device)\n",
    "\n",
    "criterion = nn.CrossEntropyLoss()\n",
    "optimizer = torch.optim.Adam(model.parameters(), lr = 3e-4)"
   ]
  },
  {
   "cell_type": "code",
   "execution_count": 84,
   "id": "9a350e83",
   "metadata": {},
   "outputs": [],
   "source": [
    "# We train the model for 50 epochs\n",
    "\n",
    "epochs = 50\n",
    "losses = []\n",
    "\n",
    "for _ in range(epochs):\n",
    "    \n",
    "    h0,c0 = model.hidden_init()\n",
    "    \n",
    "    h0 = h0.to(device)\n",
    "    c0 = c0.to(device)\n",
    "    \n",
    "    for batch_idx, batch in enumerate(train_dl):\n",
    "\n",
    "        input1 = batch[0].to(device)\n",
    "        target = batch[1].to(device)\n",
    "\n",
    "        optimizer.zero_grad()\n",
    "        with torch.set_grad_enabled(True):\n",
    "            out, hidden = model(input1,(h0,c0))\n",
    "            loss = criterion(out, target)\n",
    "            loss.backward()\n",
    "            optimizer.step()\n",
    "    losses.append(loss.item())"
   ]
  },
  {
   "cell_type": "code",
   "execution_count": 85,
   "id": "abcbecbb",
   "metadata": {},
   "outputs": [
    {
     "data": {
      "text/plain": [
       "[<matplotlib.lines.Line2D at 0x7fc4f88f4f40>]"
      ]
     },
     "execution_count": 85,
     "metadata": {},
     "output_type": "execute_result"
    },
    {
     "data": {
      "image/png": "[encoded data removed]",
      "text/plain": [
       "<Figure size 432x288 with 1 Axes>"
      ]
     },
     "metadata": {
      "needs_background": "light"
     },
     "output_type": "display_data"
    }
   ],
   "source": [
    "plt.plot(losses)"
   ]
  },
  {
   "cell_type": "code",
   "execution_count": 86,
   "id": "41bd6ce8",
   "metadata": {},
   "outputs": [
    {
     "data": {
      "text/plain": [
       "0.43714285714285717"
      ]
     },
     "execution_count": 86,
     "metadata": {},
     "output_type": "execute_result"
    }
   ],
   "source": [
    "batch_acc = []\n",
    "for batch_idx, batch in enumerate(test_dl):\n",
    "\n",
    "    input = batch[0].to(device)\n",
    "    target = batch[1].to(device)\n",
    "\n",
    "    optimizer.zero_grad()\n",
    "    with torch.set_grad_enabled(False):\n",
    "        out, hidden = model(input, (h0, c0))\n",
    "        _, preds = torch.max(out, 1)\n",
    "        preds = preds.to(\"cpu\").tolist()\n",
    "        batch_acc.append(accuracy_score(preds, target.tolist()))\n",
    "\n",
    "sum(batch_acc)/len(batch_acc)"
   ]
  },
  {
   "cell_type": "markdown",
   "id": "596c6b25",
   "metadata": {},
   "source": [
    "### So the model isn't great, but it's better than random selection, so that's something"
   ]
  },
  {
   "cell_type": "code",
   "execution_count": null,
   "id": "592e4339",
   "metadata": {},
   "outputs": [],
   "source": []
  }
 ],
 "metadata": {
  "kernelspec": {
   "display_name": "Python 3 (ipykernel)",
   "language": "python",
   "name": "python3"
  },
  "language_info": {
   "codemirror_mode": {
    "name": "ipython",
    "version": 3
   },
   "file_extension": ".py",
   "mimetype": "text/x-python",
   "name": "python",
   "nbconvert_exporter": "python",
   "pygments_lexer": "ipython3",
   "version": "3.9.12"
  }
 },
 "nbformat": 4,
 "nbformat_minor": 5
}
