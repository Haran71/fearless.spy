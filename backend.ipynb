{
 "cells": [
  {
   "cell_type": "code",
   "execution_count": 2,
   "id": "c8d5c77f",
   "metadata": {},
   "outputs": [],
   "source": [
    "import os\n",
    "import pandas as pd"
   ]
  },
  {
   "cell_type": "code",
   "execution_count": 3,
   "id": "2d00b302",
   "metadata": {},
   "outputs": [
    {
     "name": "stderr",
     "output_type": "stream",
     "text": [
      "Scraping, 100 results so far\n",
      "Scraping, 200 results so far\n",
      "Stopped scraping after 200 results due to --max-results\n"
     ]
    },
    {
     "data": {
      "text/plain": [
       "0"
      ]
     },
     "execution_count": 3,
     "metadata": {},
     "output_type": "execute_result"
    }
   ],
   "source": [
    "arg = \"twitter-search\"\n",
    "os.system(f'snscrape --jsonl --progress --max-results 200 {arg} \"yoga exercise until:2022-11-22\" > text-query-tweets.json')"
   ]
  },
  {
   "cell_type": "code",
   "execution_count": 4,
   "id": "f1554c1e",
   "metadata": {},
   "outputs": [],
   "source": [
    "tweets_df = pd.read_json('text-query-tweets.json', lines=True)"
   ]
  },
  {
   "cell_type": "code",
   "execution_count": 5,
   "id": "7430b489",
   "metadata": {},
   "outputs": [
    {
     "data": {
      "text/html": [
       "<div>\n",
       "<style scoped>\n",
       "    .dataframe tbody tr th:only-of-type {\n",
       "        vertical-align: middle;\n",
       "    }\n",
       "\n",
       "    .dataframe tbody tr th {\n",
       "        vertical-align: top;\n",
       "    }\n",
       "\n",
       "    .dataframe thead th {\n",
       "        text-align: right;\n",
       "    }\n",
       "</style>\n",
       "<table border=\"1\" class=\"dataframe\">\n",
       "  <thead>\n",
       "    <tr style=\"text-align: right;\">\n",
       "      <th></th>\n",
       "      <th>_type</th>\n",
       "      <th>url</th>\n",
       "      <th>date</th>\n",
       "      <th>rawContent</th>\n",
       "      <th>renderedContent</th>\n",
       "      <th>id</th>\n",
       "      <th>user</th>\n",
       "      <th>replyCount</th>\n",
       "      <th>retweetCount</th>\n",
       "      <th>likeCount</th>\n",
       "      <th>...</th>\n",
       "      <th>retweetedTweet</th>\n",
       "      <th>quotedTweet</th>\n",
       "      <th>inReplyToTweetId</th>\n",
       "      <th>inReplyToUser</th>\n",
       "      <th>mentionedUsers</th>\n",
       "      <th>coordinates</th>\n",
       "      <th>place</th>\n",
       "      <th>hashtags</th>\n",
       "      <th>cashtags</th>\n",
       "      <th>card</th>\n",
       "    </tr>\n",
       "  </thead>\n",
       "  <tbody>\n",
       "    <tr>\n",
       "      <th>0</th>\n",
       "      <td>snscrape.modules.twitter.Tweet</td>\n",
       "      <td>https://twitter.com/schimmel74jtpdy/status/159...</td>\n",
       "      <td>2022-11-21 23:44:59+00:00</td>\n",
       "      <td>Extra Thick Yoga Ball Exercise Ball (22in,26in...</td>\n",
       "      <td>Extra Thick Yoga Ball Exercise Ball (22in,26in...</td>\n",
       "      <td>1594839319591755777</td>\n",
       "      <td>{'_type': 'snscrape.modules.twitter.User', 'us...</td>\n",
       "      <td>0</td>\n",
       "      <td>0</td>\n",
       "      <td>0</td>\n",
       "      <td>...</td>\n",
       "      <td>NaN</td>\n",
       "      <td>None</td>\n",
       "      <td>NaN</td>\n",
       "      <td>None</td>\n",
       "      <td>None</td>\n",
       "      <td>None</td>\n",
       "      <td>None</td>\n",
       "      <td>None</td>\n",
       "      <td>NaN</td>\n",
       "      <td>None</td>\n",
       "    </tr>\n",
       "    <tr>\n",
       "      <th>1</th>\n",
       "      <td>snscrape.modules.twitter.Tweet</td>\n",
       "      <td>https://twitter.com/FromRvaToLA/status/1594837...</td>\n",
       "      <td>2022-11-21 23:39:14+00:00</td>\n",
       "      <td>I did yoga today for the first time in months ...</td>\n",
       "      <td>I did yoga today for the first time in months ...</td>\n",
       "      <td>1594837875291553792</td>\n",
       "      <td>{'_type': 'snscrape.modules.twitter.User', 'us...</td>\n",
       "      <td>1</td>\n",
       "      <td>0</td>\n",
       "      <td>6</td>\n",
       "      <td>...</td>\n",
       "      <td>NaN</td>\n",
       "      <td>None</td>\n",
       "      <td>NaN</td>\n",
       "      <td>None</td>\n",
       "      <td>None</td>\n",
       "      <td>None</td>\n",
       "      <td>None</td>\n",
       "      <td>None</td>\n",
       "      <td>NaN</td>\n",
       "      <td>None</td>\n",
       "    </tr>\n",
       "    <tr>\n",
       "      <th>2</th>\n",
       "      <td>snscrape.modules.twitter.Tweet</td>\n",
       "      <td>https://twitter.com/tanner27r/status/159483572...</td>\n",
       "      <td>2022-11-21 23:30:42+00:00</td>\n",
       "      <td>Giantex 6'x2'x2'' Tri-Fold Gymnastics Mat with...</td>\n",
       "      <td>Giantex 6'x2'x2'' Tri-Fold Gymnastics Mat with...</td>\n",
       "      <td>1594835725790613505</td>\n",
       "      <td>{'_type': 'snscrape.modules.twitter.User', 'us...</td>\n",
       "      <td>0</td>\n",
       "      <td>0</td>\n",
       "      <td>0</td>\n",
       "      <td>...</td>\n",
       "      <td>NaN</td>\n",
       "      <td>None</td>\n",
       "      <td>NaN</td>\n",
       "      <td>None</td>\n",
       "      <td>None</td>\n",
       "      <td>None</td>\n",
       "      <td>None</td>\n",
       "      <td>None</td>\n",
       "      <td>NaN</td>\n",
       "      <td>None</td>\n",
       "    </tr>\n",
       "    <tr>\n",
       "      <th>3</th>\n",
       "      <td>snscrape.modules.twitter.Tweet</td>\n",
       "      <td>https://twitter.com/Hitesh93Paliwal/status/159...</td>\n",
       "      <td>2022-11-21 23:29:29+00:00</td>\n",
       "      <td>@musing_monica Do yoga rather than exercise fo...</td>\n",
       "      <td>@musing_monica Do yoga rather than exercise fo...</td>\n",
       "      <td>1594835419950354439</td>\n",
       "      <td>{'_type': 'snscrape.modules.twitter.User', 'us...</td>\n",
       "      <td>0</td>\n",
       "      <td>0</td>\n",
       "      <td>0</td>\n",
       "      <td>...</td>\n",
       "      <td>NaN</td>\n",
       "      <td>None</td>\n",
       "      <td>1.594556e+18</td>\n",
       "      <td>{'_type': 'snscrape.modules.twitter.User', 'us...</td>\n",
       "      <td>[{'_type': 'snscrape.modules.twitter.User', 'u...</td>\n",
       "      <td>None</td>\n",
       "      <td>None</td>\n",
       "      <td>None</td>\n",
       "      <td>NaN</td>\n",
       "      <td>None</td>\n",
       "    </tr>\n",
       "    <tr>\n",
       "      <th>4</th>\n",
       "      <td>snscrape.modules.twitter.Tweet</td>\n",
       "      <td>https://twitter.com/wellnesscall/status/159482...</td>\n",
       "      <td>2022-11-21 22:57:01+00:00</td>\n",
       "      <td>Next up is crunches on a yoga ball.\\n\\nThis ex...</td>\n",
       "      <td>Next up is crunches on a yoga ball.\\n\\nThis ex...</td>\n",
       "      <td>1594827249139818509</td>\n",
       "      <td>{'_type': 'snscrape.modules.twitter.User', 'us...</td>\n",
       "      <td>1</td>\n",
       "      <td>0</td>\n",
       "      <td>0</td>\n",
       "      <td>...</td>\n",
       "      <td>NaN</td>\n",
       "      <td>None</td>\n",
       "      <td>1.594826e+18</td>\n",
       "      <td>{'_type': 'snscrape.modules.twitter.User', 'us...</td>\n",
       "      <td>None</td>\n",
       "      <td>None</td>\n",
       "      <td>None</td>\n",
       "      <td>None</td>\n",
       "      <td>NaN</td>\n",
       "      <td>None</td>\n",
       "    </tr>\n",
       "  </tbody>\n",
       "</table>\n",
       "<p>5 rows × 28 columns</p>\n",
       "</div>"
      ],
      "text/plain": [
       "                            _type  \\\n",
       "0  snscrape.modules.twitter.Tweet   \n",
       "1  snscrape.modules.twitter.Tweet   \n",
       "2  snscrape.modules.twitter.Tweet   \n",
       "3  snscrape.modules.twitter.Tweet   \n",
       "4  snscrape.modules.twitter.Tweet   \n",
       "\n",
       "                                                 url  \\\n",
       "0  https://twitter.com/schimmel74jtpdy/status/159...   \n",
       "1  https://twitter.com/FromRvaToLA/status/1594837...   \n",
       "2  https://twitter.com/tanner27r/status/159483572...   \n",
       "3  https://twitter.com/Hitesh93Paliwal/status/159...   \n",
       "4  https://twitter.com/wellnesscall/status/159482...   \n",
       "\n",
       "                       date  \\\n",
       "0 2022-11-21 23:44:59+00:00   \n",
       "1 2022-11-21 23:39:14+00:00   \n",
       "2 2022-11-21 23:30:42+00:00   \n",
       "3 2022-11-21 23:29:29+00:00   \n",
       "4 2022-11-21 22:57:01+00:00   \n",
       "\n",
       "                                          rawContent  \\\n",
       "0  Extra Thick Yoga Ball Exercise Ball (22in,26in...   \n",
       "1  I did yoga today for the first time in months ...   \n",
       "2  Giantex 6'x2'x2'' Tri-Fold Gymnastics Mat with...   \n",
       "3  @musing_monica Do yoga rather than exercise fo...   \n",
       "4  Next up is crunches on a yoga ball.\\n\\nThis ex...   \n",
       "\n",
       "                                     renderedContent                   id  \\\n",
       "0  Extra Thick Yoga Ball Exercise Ball (22in,26in...  1594839319591755777   \n",
       "1  I did yoga today for the first time in months ...  1594837875291553792   \n",
       "2  Giantex 6'x2'x2'' Tri-Fold Gymnastics Mat with...  1594835725790613505   \n",
       "3  @musing_monica Do yoga rather than exercise fo...  1594835419950354439   \n",
       "4  Next up is crunches on a yoga ball.\\n\\nThis ex...  1594827249139818509   \n",
       "\n",
       "                                                user  replyCount  \\\n",
       "0  {'_type': 'snscrape.modules.twitter.User', 'us...           0   \n",
       "1  {'_type': 'snscrape.modules.twitter.User', 'us...           1   \n",
       "2  {'_type': 'snscrape.modules.twitter.User', 'us...           0   \n",
       "3  {'_type': 'snscrape.modules.twitter.User', 'us...           0   \n",
       "4  {'_type': 'snscrape.modules.twitter.User', 'us...           1   \n",
       "\n",
       "   retweetCount  likeCount  ...  retweetedTweet  quotedTweet inReplyToTweetId  \\\n",
       "0             0          0  ...             NaN         None              NaN   \n",
       "1             0          6  ...             NaN         None              NaN   \n",
       "2             0          0  ...             NaN         None              NaN   \n",
       "3             0          0  ...             NaN         None     1.594556e+18   \n",
       "4             0          0  ...             NaN         None     1.594826e+18   \n",
       "\n",
       "                                       inReplyToUser  \\\n",
       "0                                               None   \n",
       "1                                               None   \n",
       "2                                               None   \n",
       "3  {'_type': 'snscrape.modules.twitter.User', 'us...   \n",
       "4  {'_type': 'snscrape.modules.twitter.User', 'us...   \n",
       "\n",
       "                                      mentionedUsers coordinates place  \\\n",
       "0                                               None        None  None   \n",
       "1                                               None        None  None   \n",
       "2                                               None        None  None   \n",
       "3  [{'_type': 'snscrape.modules.twitter.User', 'u...        None  None   \n",
       "4                                               None        None  None   \n",
       "\n",
       "  hashtags  cashtags  card  \n",
       "0     None       NaN  None  \n",
       "1     None       NaN  None  \n",
       "2     None       NaN  None  \n",
       "3     None       NaN  None  \n",
       "4     None       NaN  None  \n",
       "\n",
       "[5 rows x 28 columns]"
      ]
     },
     "execution_count": 5,
     "metadata": {},
     "output_type": "execute_result"
    }
   ],
   "source": [
    "tweets_df.head()"
   ]
  },
  {
   "cell_type": "code",
   "execution_count": 6,
   "id": "9bce5c0d",
   "metadata": {},
   "outputs": [
    {
     "data": {
      "text/html": [
       "<div>\n",
       "<style scoped>\n",
       "    .dataframe tbody tr th:only-of-type {\n",
       "        vertical-align: middle;\n",
       "    }\n",
       "\n",
       "    .dataframe tbody tr th {\n",
       "        vertical-align: top;\n",
       "    }\n",
       "\n",
       "    .dataframe thead th {\n",
       "        text-align: right;\n",
       "    }\n",
       "</style>\n",
       "<table border=\"1\" class=\"dataframe\">\n",
       "  <thead>\n",
       "    <tr style=\"text-align: right;\">\n",
       "      <th></th>\n",
       "      <th>renderedContent</th>\n",
       "    </tr>\n",
       "  </thead>\n",
       "  <tbody>\n",
       "    <tr>\n",
       "      <th>0</th>\n",
       "      <td>Extra Thick Yoga Ball Exercise Ball (22in,26in...</td>\n",
       "    </tr>\n",
       "    <tr>\n",
       "      <th>1</th>\n",
       "      <td>I did yoga today for the first time in months ...</td>\n",
       "    </tr>\n",
       "    <tr>\n",
       "      <th>2</th>\n",
       "      <td>Giantex 6'x2'x2'' Tri-Fold Gymnastics Mat with...</td>\n",
       "    </tr>\n",
       "    <tr>\n",
       "      <th>3</th>\n",
       "      <td>@musing_monica Do yoga rather than exercise fo...</td>\n",
       "    </tr>\n",
       "    <tr>\n",
       "      <th>4</th>\n",
       "      <td>Next up is crunches on a yoga ball.\\n\\nThis ex...</td>\n",
       "    </tr>\n",
       "  </tbody>\n",
       "</table>\n",
       "</div>"
      ],
      "text/plain": [
       "                                     renderedContent\n",
       "0  Extra Thick Yoga Ball Exercise Ball (22in,26in...\n",
       "1  I did yoga today for the first time in months ...\n",
       "2  Giantex 6'x2'x2'' Tri-Fold Gymnastics Mat with...\n",
       "3  @musing_monica Do yoga rather than exercise fo...\n",
       "4  Next up is crunches on a yoga ball.\\n\\nThis ex..."
      ]
     },
     "execution_count": 6,
     "metadata": {},
     "output_type": "execute_result"
    }
   ],
   "source": [
    "df = tweets_df[[\"renderedContent\"]]\n",
    "df.head()"
   ]
  },
  {
   "cell_type": "code",
   "execution_count": 15,
   "id": "52c647b2",
   "metadata": {},
   "outputs": [],
   "source": [
    "df = df.rename(columns = {\"renderedContent\":\"tweets\"})"
   ]
  },
  {
   "cell_type": "code",
   "execution_count": 8,
   "id": "edc0c441",
   "metadata": {},
   "outputs": [
    {
     "name": "stderr",
     "output_type": "stream",
     "text": [
      "[nltk_data] Downloading package punkt to /Users/haran/nltk_data...\n",
      "[nltk_data]   Package punkt is already up-to-date!\n",
      "[nltk_data] Downloading package stopwords to /Users/haran/nltk_data...\n",
      "[nltk_data]   Package stopwords is already up-to-date!\n"
     ]
    }
   ],
   "source": [
    "import re\n",
    "import nltk\n",
    "nltk.download('punkt')\n",
    "nltk.download('stopwords')\n",
    "\n",
    "from nltk.corpus import stopwords\n",
    "from nltk.tokenize import word_tokenize"
   ]
  },
  {
   "cell_type": "code",
   "execution_count": 9,
   "id": "03c5dce8",
   "metadata": {},
   "outputs": [
    {
     "name": "stdout",
     "output_type": "stream",
     "text": [
      "['i', 'me', 'my', 'myself', 'we', 'our', 'ours', 'ourselves', 'you', \"you're\", \"you've\", \"you'll\", \"you'd\", 'your', 'yours', 'yourself', 'yourselves', 'he', 'him', 'his', 'himself', 'she', \"she's\", 'her', 'hers', 'herself', 'it', \"it's\", 'its', 'itself', 'they', 'them', 'their', 'theirs', 'themselves', 'what', 'which', 'who', 'whom', 'this', 'that', \"that'll\", 'these', 'those', 'am', 'is', 'are', 'was', 'were', 'be', 'been', 'being', 'have', 'has', 'had', 'having', 'do', 'does', 'did', 'doing', 'a', 'an', 'the', 'and', 'but', 'if', 'or', 'because', 'as', 'until', 'while', 'of', 'at', 'by', 'for', 'with', 'about', 'against', 'between', 'into', 'through', 'during', 'before', 'after', 'above', 'below', 'to', 'from', 'up', 'down', 'in', 'out', 'on', 'off', 'over', 'under', 'again', 'further', 'then', 'once', 'here', 'there', 'when', 'where', 'why', 'how', 'all', 'any', 'both', 'each', 'few', 'more', 'most', 'other', 'some', 'such', 'no', 'nor', 'not', 'only', 'own', 'same', 'so', 'than', 'too', 'very', 's', 't', 'can', 'will', 'just', 'don', \"don't\", 'should', \"should've\", 'now', 'd', 'll', 'm', 'o', 're', 've', 'y', 'ain', 'aren', \"aren't\", 'couldn', \"couldn't\", 'didn', \"didn't\", 'doesn', \"doesn't\", 'hadn', \"hadn't\", 'hasn', \"hasn't\", 'haven', \"haven't\", 'isn', \"isn't\", 'ma', 'mightn', \"mightn't\", 'mustn', \"mustn't\", 'needn', \"needn't\", 'shan', \"shan't\", 'shouldn', \"shouldn't\", 'wasn', \"wasn't\", 'weren', \"weren't\", 'won', \"won't\", 'wouldn', \"wouldn't\"]\n"
     ]
    }
   ],
   "source": [
    "stop_words = stopwords.words('english')\n",
    "print(stop_words)"
   ]
  },
  {
   "cell_type": "code",
   "execution_count": 10,
   "id": "faf751bb",
   "metadata": {},
   "outputs": [],
   "source": [
    "def tweetCleaning(tweet):\n",
    "    clean_tweet = re.sub(r\"@[a-zA-Z0-9]+\",\"\",tweet) # removes mentions\n",
    "    clean_tweet = re.sub(r\"#[a-zA-Z0-9]+\\s\",\"\",clean_tweet) # removes hashtags and blank spaces\n",
    "    clean_tweet = ' '.join(word for word in clean_tweet.split() if word not in stop_words) # removing all the stopwords from the tweet\n",
    "    return clean_tweet"
   ]
  },
  {
   "cell_type": "code",
   "execution_count": 16,
   "id": "0f922914",
   "metadata": {},
   "outputs": [
    {
     "data": {
      "text/html": [
       "<div>\n",
       "<style scoped>\n",
       "    .dataframe tbody tr th:only-of-type {\n",
       "        vertical-align: middle;\n",
       "    }\n",
       "\n",
       "    .dataframe tbody tr th {\n",
       "        vertical-align: top;\n",
       "    }\n",
       "\n",
       "    .dataframe thead th {\n",
       "        text-align: right;\n",
       "    }\n",
       "</style>\n",
       "<table border=\"1\" class=\"dataframe\">\n",
       "  <thead>\n",
       "    <tr style=\"text-align: right;\">\n",
       "      <th></th>\n",
       "      <th>tweets</th>\n",
       "      <th>cleaned_tweets</th>\n",
       "    </tr>\n",
       "  </thead>\n",
       "  <tbody>\n",
       "    <tr>\n",
       "      <th>0</th>\n",
       "      <td>Extra Thick Yoga Ball Exercise Ball (22in,26in...</td>\n",
       "      <td>Extra Thick Yoga Ball Exercise Ball (22in,26in...</td>\n",
       "    </tr>\n",
       "    <tr>\n",
       "      <th>1</th>\n",
       "      <td>I did yoga today for the first time in months ...</td>\n",
       "      <td>I yoga today first time months wow, maybe stre...</td>\n",
       "    </tr>\n",
       "    <tr>\n",
       "      <th>2</th>\n",
       "      <td>Giantex 6'x2'x2'' Tri-Fold Gymnastics Mat with...</td>\n",
       "      <td>Giantex 6'x2'x2'' Tri-Fold Gymnastics Mat Carr...</td>\n",
       "    </tr>\n",
       "    <tr>\n",
       "      <th>3</th>\n",
       "      <td>@musing_monica Do yoga rather than exercise fo...</td>\n",
       "      <td>_monica Do yoga rather exercise physical mental.</td>\n",
       "    </tr>\n",
       "    <tr>\n",
       "      <th>4</th>\n",
       "      <td>Next up is crunches on a yoga ball.\\n\\nThis ex...</td>\n",
       "      <td>Next crunches yoga ball. This exercise ideal s...</td>\n",
       "    </tr>\n",
       "  </tbody>\n",
       "</table>\n",
       "</div>"
      ],
      "text/plain": [
       "                                              tweets  \\\n",
       "0  Extra Thick Yoga Ball Exercise Ball (22in,26in...   \n",
       "1  I did yoga today for the first time in months ...   \n",
       "2  Giantex 6'x2'x2'' Tri-Fold Gymnastics Mat with...   \n",
       "3  @musing_monica Do yoga rather than exercise fo...   \n",
       "4  Next up is crunches on a yoga ball.\\n\\nThis ex...   \n",
       "\n",
       "                                      cleaned_tweets  \n",
       "0  Extra Thick Yoga Ball Exercise Ball (22in,26in...  \n",
       "1  I yoga today first time months wow, maybe stre...  \n",
       "2  Giantex 6'x2'x2'' Tri-Fold Gymnastics Mat Carr...  \n",
       "3   _monica Do yoga rather exercise physical mental.  \n",
       "4  Next crunches yoga ball. This exercise ideal s...  "
      ]
     },
     "execution_count": 16,
     "metadata": {},
     "output_type": "execute_result"
    }
   ],
   "source": [
    "df['cleaned_tweets'] = df['tweets'].apply(tweetCleaning)\n",
    "df.head()"
   ]
  },
  {
   "cell_type": "code",
   "execution_count": 17,
   "id": "3030db39",
   "metadata": {},
   "outputs": [],
   "source": [
    "from textblob import TextBlob\n",
    "from wordcloud import WordCloud"
   ]
  },
  {
   "cell_type": "code",
   "execution_count": 18,
   "id": "6f1f89db",
   "metadata": {},
   "outputs": [],
   "source": [
    "def calcPolarity(tweet):\n",
    "    return TextBlob(tweet).sentiment.polarity\n",
    "\n",
    "def calcSubjectivity(tweet):\n",
    "    return TextBlob(tweet).sentiment.subjectivity\n",
    "\n",
    "def segmentation(polarity):\n",
    "    if polarity > 0:\n",
    "        return \"positive\"\n",
    "    elif polarity == 0:\n",
    "        return \"neutral\"\n",
    "    else:\n",
    "        return \"negative\""
   ]
  },
  {
   "cell_type": "code",
   "execution_count": 19,
   "id": "96524827",
   "metadata": {},
   "outputs": [
    {
     "data": {
      "text/html": [
       "<div>\n",
       "<style scoped>\n",
       "    .dataframe tbody tr th:only-of-type {\n",
       "        vertical-align: middle;\n",
       "    }\n",
       "\n",
       "    .dataframe tbody tr th {\n",
       "        vertical-align: top;\n",
       "    }\n",
       "\n",
       "    .dataframe thead th {\n",
       "        text-align: right;\n",
       "    }\n",
       "</style>\n",
       "<table border=\"1\" class=\"dataframe\">\n",
       "  <thead>\n",
       "    <tr style=\"text-align: right;\">\n",
       "      <th></th>\n",
       "      <th>tweets</th>\n",
       "      <th>cleaned_tweets</th>\n",
       "      <th>polarity</th>\n",
       "      <th>subjectivity</th>\n",
       "      <th>segmentation</th>\n",
       "    </tr>\n",
       "  </thead>\n",
       "  <tbody>\n",
       "    <tr>\n",
       "      <th>0</th>\n",
       "      <td>Extra Thick Yoga Ball Exercise Ball (22in,26in...</td>\n",
       "      <td>Extra Thick Yoga Ball Exercise Ball (22in,26in...</td>\n",
       "      <td>-0.200000</td>\n",
       "      <td>0.350000</td>\n",
       "      <td>negative</td>\n",
       "    </tr>\n",
       "    <tr>\n",
       "      <th>1</th>\n",
       "      <td>I did yoga today for the first time in months ...</td>\n",
       "      <td>I yoga today first time months wow, maybe stre...</td>\n",
       "      <td>0.212500</td>\n",
       "      <td>0.458333</td>\n",
       "      <td>positive</td>\n",
       "    </tr>\n",
       "    <tr>\n",
       "      <th>2</th>\n",
       "      <td>Giantex 6'x2'x2'' Tri-Fold Gymnastics Mat with...</td>\n",
       "      <td>Giantex 6'x2'x2'' Tri-Fold Gymnastics Mat Carr...</td>\n",
       "      <td>0.000000</td>\n",
       "      <td>0.000000</td>\n",
       "      <td>neutral</td>\n",
       "    </tr>\n",
       "    <tr>\n",
       "      <th>3</th>\n",
       "      <td>@musing_monica Do yoga rather than exercise fo...</td>\n",
       "      <td>_monica Do yoga rather exercise physical mental.</td>\n",
       "      <td>-0.050000</td>\n",
       "      <td>0.171429</td>\n",
       "      <td>negative</td>\n",
       "    </tr>\n",
       "    <tr>\n",
       "      <th>4</th>\n",
       "      <td>Next up is crunches on a yoga ball.\\n\\nThis ex...</td>\n",
       "      <td>Next crunches yoga ball. This exercise ideal s...</td>\n",
       "      <td>0.216667</td>\n",
       "      <td>0.514815</td>\n",
       "      <td>positive</td>\n",
       "    </tr>\n",
       "  </tbody>\n",
       "</table>\n",
       "</div>"
      ],
      "text/plain": [
       "                                              tweets  \\\n",
       "0  Extra Thick Yoga Ball Exercise Ball (22in,26in...   \n",
       "1  I did yoga today for the first time in months ...   \n",
       "2  Giantex 6'x2'x2'' Tri-Fold Gymnastics Mat with...   \n",
       "3  @musing_monica Do yoga rather than exercise fo...   \n",
       "4  Next up is crunches on a yoga ball.\\n\\nThis ex...   \n",
       "\n",
       "                                      cleaned_tweets  polarity  subjectivity  \\\n",
       "0  Extra Thick Yoga Ball Exercise Ball (22in,26in... -0.200000      0.350000   \n",
       "1  I yoga today first time months wow, maybe stre...  0.212500      0.458333   \n",
       "2  Giantex 6'x2'x2'' Tri-Fold Gymnastics Mat Carr...  0.000000      0.000000   \n",
       "3   _monica Do yoga rather exercise physical mental. -0.050000      0.171429   \n",
       "4  Next crunches yoga ball. This exercise ideal s...  0.216667      0.514815   \n",
       "\n",
       "  segmentation  \n",
       "0     negative  \n",
       "1     positive  \n",
       "2      neutral  \n",
       "3     negative  \n",
       "4     positive  "
      ]
     },
     "execution_count": 19,
     "metadata": {},
     "output_type": "execute_result"
    }
   ],
   "source": [
    "df['polarity'] = df['cleaned_tweets'].apply(calcPolarity)\n",
    "df['subjectivity'] = df['cleaned_tweets'].apply(calcSubjectivity)\n",
    "df['segmentation'] = df['polarity'].apply(segmentation)\n",
    "df.head()"
   ]
  },
  {
   "cell_type": "code",
   "execution_count": 20,
   "id": "a2a6dd27",
   "metadata": {},
   "outputs": [
    {
     "data": {
      "text/plain": [
       "negative    29\n",
       "neutral     82\n",
       "positive    89\n",
       "Name: segmentation, dtype: int64"
      ]
     },
     "execution_count": 20,
     "metadata": {},
     "output_type": "execute_result"
    }
   ],
   "source": [
    "df['segmentation'].value_counts(ascending=True)"
   ]
  },
  {
   "cell_type": "code",
   "execution_count": 21,
   "id": "e46a6a96",
   "metadata": {},
   "outputs": [
    {
     "data": {
      "image/png": "[encoded data removed]",
      "text/plain": [
       "<Figure size 432x288 with 1 Axes>"
      ]
     },
     "metadata": {
      "needs_background": "light"
     },
     "output_type": "display_data"
    }
   ],
   "source": [
    "import matplotlib.pyplot as plt\n",
    "\n",
    "consolidated = ' '.join(word for word in df['cleaned_tweets'])\n",
    "\n",
    "word_cloud = WordCloud(width=400,height=200,random_state = 20, max_font_size = 120).generate(consolidated)\n",
    "\n",
    "plt.imshow(word_cloud,interpolation='bilinear')\n",
    "plt.axis('off')\n",
    "plt.show()"
   ]
  },
  {
   "cell_type": "code",
   "execution_count": null,
   "id": "1c07b0a5",
   "metadata": {},
   "outputs": [],
   "source": []
  }
 ],
 "metadata": {
  "kernelspec": {
   "display_name": "Python 3 (ipykernel)",
   "language": "python",
   "name": "python3"
  },
  "language_info": {
   "codemirror_mode": {
    "name": "ipython",
    "version": 3
   },
   "file_extension": ".py",
   "mimetype": "text/x-python",
   "name": "python",
   "nbconvert_exporter": "python",
   "pygments_lexer": "ipython3",
   "version": "3.9.12"
  }
 },
 "nbformat": 4,
 "nbformat_minor": 5
}
