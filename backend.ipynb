{
 "cells": [
  {
   "cell_type": "code",
   "execution_count": 1,
   "id": "4cc3cde6",
   "metadata": {},
   "outputs": [
    {
     "data": {
      "application/javascript": [
       "\n",
       "            setTimeout(function() {\n",
       "                var nbb_cell_id = 1;\n",
       "                var nbb_unformatted_code = \"%load_ext nb_black\";\n",
       "                var nbb_formatted_code = \"%load_ext nb_black\";\n",
       "                var nbb_cells = Jupyter.notebook.get_cells();\n",
       "                for (var i = 0; i < nbb_cells.length; ++i) {\n",
       "                    if (nbb_cells[i].input_prompt_number == nbb_cell_id) {\n",
       "                        if (nbb_cells[i].get_text() == nbb_unformatted_code) {\n",
       "                             nbb_cells[i].set_text(nbb_formatted_code);\n",
       "                        }\n",
       "                        break;\n",
       "                    }\n",
       "                }\n",
       "            }, 500);\n",
       "            "
      ],
      "text/plain": [
       "<IPython.core.display.Javascript object>"
      ]
     },
     "metadata": {},
     "output_type": "display_data"
    }
   ],
   "source": [
    "%load_ext nb_black"
   ]
  },
  {
   "cell_type": "markdown",
   "id": "b43c12c6",
   "metadata": {},
   "source": [
    "### Importing libraries required for scraping and data manipulation"
   ]
  },
  {
   "cell_type": "code",
   "execution_count": 2,
   "id": "c8d5c77f",
   "metadata": {},
   "outputs": [
    {
     "data": {
      "application/javascript": [
       "\n",
       "            setTimeout(function() {\n",
       "                var nbb_cell_id = 2;\n",
       "                var nbb_unformatted_code = \"import os\\nimport pandas as pd\";\n",
       "                var nbb_formatted_code = \"import os\\nimport pandas as pd\";\n",
       "                var nbb_cells = Jupyter.notebook.get_cells();\n",
       "                for (var i = 0; i < nbb_cells.length; ++i) {\n",
       "                    if (nbb_cells[i].input_prompt_number == nbb_cell_id) {\n",
       "                        if (nbb_cells[i].get_text() == nbb_unformatted_code) {\n",
       "                             nbb_cells[i].set_text(nbb_formatted_code);\n",
       "                        }\n",
       "                        break;\n",
       "                    }\n",
       "                }\n",
       "            }, 500);\n",
       "            "
      ],
      "text/plain": [
       "<IPython.core.display.Javascript object>"
      ]
     },
     "metadata": {},
     "output_type": "display_data"
    }
   ],
   "source": [
    "import os\n",
    "import pandas as pd"
   ]
  },
  {
   "cell_type": "markdown",
   "id": "af74fd23",
   "metadata": {},
   "source": [
    "#### Getting the search key word"
   ]
  },
  {
   "cell_type": "code",
   "execution_count": 3,
   "id": "91ec30f3",
   "metadata": {},
   "outputs": [
    {
     "name": "stdout",
     "output_type": "stream",
     "text": [
      "Enter Search term: Russell Wilson\n"
     ]
    },
    {
     "data": {
      "application/javascript": [
       "\n",
       "            setTimeout(function() {\n",
       "                var nbb_cell_id = 3;\n",
       "                var nbb_unformatted_code = \"search_term = input(\\\"Enter Search term: \\\")\";\n",
       "                var nbb_formatted_code = \"search_term = input(\\\"Enter Search term: \\\")\";\n",
       "                var nbb_cells = Jupyter.notebook.get_cells();\n",
       "                for (var i = 0; i < nbb_cells.length; ++i) {\n",
       "                    if (nbb_cells[i].input_prompt_number == nbb_cell_id) {\n",
       "                        if (nbb_cells[i].get_text() == nbb_unformatted_code) {\n",
       "                             nbb_cells[i].set_text(nbb_formatted_code);\n",
       "                        }\n",
       "                        break;\n",
       "                    }\n",
       "                }\n",
       "            }, 500);\n",
       "            "
      ],
      "text/plain": [
       "<IPython.core.display.Javascript object>"
      ]
     },
     "metadata": {},
     "output_type": "display_data"
    }
   ],
   "source": [
    "search_term = input(\"Enter Search term: \")"
   ]
  },
  {
   "cell_type": "markdown",
   "id": "383104b2",
   "metadata": {},
   "source": [
    "#### Getting the current date in the required format using strftime"
   ]
  },
  {
   "cell_type": "code",
   "execution_count": 4,
   "id": "12454945",
   "metadata": {},
   "outputs": [
    {
     "data": {
      "application/javascript": [
       "\n",
       "            setTimeout(function() {\n",
       "                var nbb_cell_id = 4;\n",
       "                var nbb_unformatted_code = \"from datetime import datetime\";\n",
       "                var nbb_formatted_code = \"from datetime import datetime\";\n",
       "                var nbb_cells = Jupyter.notebook.get_cells();\n",
       "                for (var i = 0; i < nbb_cells.length; ++i) {\n",
       "                    if (nbb_cells[i].input_prompt_number == nbb_cell_id) {\n",
       "                        if (nbb_cells[i].get_text() == nbb_unformatted_code) {\n",
       "                             nbb_cells[i].set_text(nbb_formatted_code);\n",
       "                        }\n",
       "                        break;\n",
       "                    }\n",
       "                }\n",
       "            }, 500);\n",
       "            "
      ],
      "text/plain": [
       "<IPython.core.display.Javascript object>"
      ]
     },
     "metadata": {},
     "output_type": "display_data"
    }
   ],
   "source": [
    "from datetime import datetime"
   ]
  },
  {
   "cell_type": "code",
   "execution_count": 5,
   "id": "01213739",
   "metadata": {},
   "outputs": [
    {
     "data": {
      "application/javascript": [
       "\n",
       "            setTimeout(function() {\n",
       "                var nbb_cell_id = 5;\n",
       "                var nbb_unformatted_code = \"today = datetime.now()\\ndate = today.strftime(\\\"%Y-%m-%d\\\")\";\n",
       "                var nbb_formatted_code = \"today = datetime.now()\\ndate = today.strftime(\\\"%Y-%m-%d\\\")\";\n",
       "                var nbb_cells = Jupyter.notebook.get_cells();\n",
       "                for (var i = 0; i < nbb_cells.length; ++i) {\n",
       "                    if (nbb_cells[i].input_prompt_number == nbb_cell_id) {\n",
       "                        if (nbb_cells[i].get_text() == nbb_unformatted_code) {\n",
       "                             nbb_cells[i].set_text(nbb_formatted_code);\n",
       "                        }\n",
       "                        break;\n",
       "                    }\n",
       "                }\n",
       "            }, 500);\n",
       "            "
      ],
      "text/plain": [
       "<IPython.core.display.Javascript object>"
      ]
     },
     "metadata": {},
     "output_type": "display_data"
    }
   ],
   "source": [
    "today = datetime.now()\n",
    "date = today.strftime(\"%Y-%m-%d\")"
   ]
  },
  {
   "cell_type": "markdown",
   "id": "d482b976",
   "metadata": {},
   "source": [
    "### Scraping the tweets using snscrape"
   ]
  },
  {
   "cell_type": "code",
   "execution_count": 6,
   "id": "2d00b302",
   "metadata": {},
   "outputs": [
    {
     "name": "stderr",
     "output_type": "stream",
     "text": [
      "Scraping, 100 results so far\n",
      "Scraping, 200 results so far\n",
      "Stopped scraping after 200 results due to --max-results\n"
     ]
    },
    {
     "data": {
      "text/plain": [
       "0"
      ]
     },
     "execution_count": 6,
     "metadata": {},
     "output_type": "execute_result"
    },
    {
     "data": {
      "application/javascript": [
       "\n",
       "            setTimeout(function() {\n",
       "                var nbb_cell_id = 6;\n",
       "                var nbb_unformatted_code = \"arg = \\\"twitter-search\\\"\\nos.system(\\n    f'snscrape --jsonl --progress --max-results 200 {arg} \\\"{search_term} until:2022-11-28\\\" > text-query-tweets.json'\\n)\";\n",
       "                var nbb_formatted_code = \"arg = \\\"twitter-search\\\"\\nos.system(\\n    f'snscrape --jsonl --progress --max-results 200 {arg} \\\"{search_term} until:2022-11-28\\\" > text-query-tweets.json'\\n)\";\n",
       "                var nbb_cells = Jupyter.notebook.get_cells();\n",
       "                for (var i = 0; i < nbb_cells.length; ++i) {\n",
       "                    if (nbb_cells[i].input_prompt_number == nbb_cell_id) {\n",
       "                        if (nbb_cells[i].get_text() == nbb_unformatted_code) {\n",
       "                             nbb_cells[i].set_text(nbb_formatted_code);\n",
       "                        }\n",
       "                        break;\n",
       "                    }\n",
       "                }\n",
       "            }, 500);\n",
       "            "
      ],
      "text/plain": [
       "<IPython.core.display.Javascript object>"
      ]
     },
     "metadata": {},
     "output_type": "display_data"
    }
   ],
   "source": [
    "arg = \"twitter-search\"\n",
    "os.system(\n",
    "    f'snscrape --jsonl --progress --max-results 200 {arg} \"{search_term} until:{date}\" > text-query-tweets.json'\n",
    ")"
   ]
  },
  {
   "cell_type": "markdown",
   "id": "95ec0002",
   "metadata": {},
   "source": [
    "### Getting the data from the JSON file and converting it to a pandas dataframe"
   ]
  },
  {
   "cell_type": "code",
   "execution_count": 7,
   "id": "f1554c1e",
   "metadata": {},
   "outputs": [
    {
     "data": {
      "application/javascript": [
       "\n",
       "            setTimeout(function() {\n",
       "                var nbb_cell_id = 7;\n",
       "                var nbb_unformatted_code = \"tweets_df = pd.read_json(\\\"text-query-tweets.json\\\", lines=True)\";\n",
       "                var nbb_formatted_code = \"tweets_df = pd.read_json(\\\"text-query-tweets.json\\\", lines=True)\";\n",
       "                var nbb_cells = Jupyter.notebook.get_cells();\n",
       "                for (var i = 0; i < nbb_cells.length; ++i) {\n",
       "                    if (nbb_cells[i].input_prompt_number == nbb_cell_id) {\n",
       "                        if (nbb_cells[i].get_text() == nbb_unformatted_code) {\n",
       "                             nbb_cells[i].set_text(nbb_formatted_code);\n",
       "                        }\n",
       "                        break;\n",
       "                    }\n",
       "                }\n",
       "            }, 500);\n",
       "            "
      ],
      "text/plain": [
       "<IPython.core.display.Javascript object>"
      ]
     },
     "metadata": {},
     "output_type": "display_data"
    }
   ],
   "source": [
    "tweets_df = pd.read_json(\"text-query-tweets.json\", lines=True)"
   ]
  },
  {
   "cell_type": "code",
   "execution_count": 8,
   "id": "7430b489",
   "metadata": {
    "scrolled": true
   },
   "outputs": [
    {
     "data": {
      "text/html": [
       "<div>\n",
       "<style scoped>\n",
       "    .dataframe tbody tr th:only-of-type {\n",
       "        vertical-align: middle;\n",
       "    }\n",
       "\n",
       "    .dataframe tbody tr th {\n",
       "        vertical-align: top;\n",
       "    }\n",
       "\n",
       "    .dataframe thead th {\n",
       "        text-align: right;\n",
       "    }\n",
       "</style>\n",
       "<table border=\"1\" class=\"dataframe\">\n",
       "  <thead>\n",
       "    <tr style=\"text-align: right;\">\n",
       "      <th></th>\n",
       "      <th>_type</th>\n",
       "      <th>url</th>\n",
       "      <th>date</th>\n",
       "      <th>rawContent</th>\n",
       "      <th>renderedContent</th>\n",
       "      <th>id</th>\n",
       "      <th>user</th>\n",
       "      <th>replyCount</th>\n",
       "      <th>retweetCount</th>\n",
       "      <th>likeCount</th>\n",
       "      <th>...</th>\n",
       "      <th>retweetedTweet</th>\n",
       "      <th>quotedTweet</th>\n",
       "      <th>inReplyToTweetId</th>\n",
       "      <th>inReplyToUser</th>\n",
       "      <th>mentionedUsers</th>\n",
       "      <th>coordinates</th>\n",
       "      <th>place</th>\n",
       "      <th>hashtags</th>\n",
       "      <th>cashtags</th>\n",
       "      <th>card</th>\n",
       "    </tr>\n",
       "  </thead>\n",
       "  <tbody>\n",
       "    <tr>\n",
       "      <th>0</th>\n",
       "      <td>snscrape.modules.twitter.Tweet</td>\n",
       "      <td>https://twitter.com/edwards_jereme/status/1597...</td>\n",
       "      <td>2022-11-27 23:59:57+00:00</td>\n",
       "      <td>@daverichard Still had better day then Russell...</td>\n",
       "      <td>@daverichard Still had better day then Russell...</td>\n",
       "      <td>1597017414533013505</td>\n",
       "      <td>{'_type': 'snscrape.modules.twitter.User', 'us...</td>\n",
       "      <td>0</td>\n",
       "      <td>0</td>\n",
       "      <td>0</td>\n",
       "      <td>...</td>\n",
       "      <td>NaN</td>\n",
       "      <td>None</td>\n",
       "      <td>1.597017e+18</td>\n",
       "      <td>{'_type': 'snscrape.modules.twitter.User', 'us...</td>\n",
       "      <td>[{'_type': 'snscrape.modules.twitter.User', 'u...</td>\n",
       "      <td>None</td>\n",
       "      <td>None</td>\n",
       "      <td>None</td>\n",
       "      <td>NaN</td>\n",
       "      <td>None</td>\n",
       "    </tr>\n",
       "    <tr>\n",
       "      <th>1</th>\n",
       "      <td>snscrape.modules.twitter.Tweet</td>\n",
       "      <td>https://twitter.com/Strangeland251/status/1597...</td>\n",
       "      <td>2022-11-27 23:59:43+00:00</td>\n",
       "      <td>Russell Wilson Trade Deemed 'Worst Deal in Spo...</td>\n",
       "      <td>Russell Wilson Trade Deemed 'Worst Deal in Spo...</td>\n",
       "      <td>1597017357695623168</td>\n",
       "      <td>{'_type': 'snscrape.modules.twitter.User', 'us...</td>\n",
       "      <td>0</td>\n",
       "      <td>0</td>\n",
       "      <td>1</td>\n",
       "      <td>...</td>\n",
       "      <td>NaN</td>\n",
       "      <td>None</td>\n",
       "      <td>NaN</td>\n",
       "      <td>None</td>\n",
       "      <td>[{'_type': 'snscrape.modules.twitter.User', 'u...</td>\n",
       "      <td>None</td>\n",
       "      <td>None</td>\n",
       "      <td>None</td>\n",
       "      <td>NaN</td>\n",
       "      <td>{'_type': 'snscrape.modules.twitter.SummaryCar...</td>\n",
       "    </tr>\n",
       "    <tr>\n",
       "      <th>2</th>\n",
       "      <td>snscrape.modules.twitter.Tweet</td>\n",
       "      <td>https://twitter.com/liverpoolfc21k/status/1597...</td>\n",
       "      <td>2022-11-27 23:59:31+00:00</td>\n",
       "      <td>Russell Wilson or Tim Tebow, which would @Bron...</td>\n",
       "      <td>Russell Wilson or Tim Tebow, which would @Bron...</td>\n",
       "      <td>1597017305900142592</td>\n",
       "      <td>{'_type': 'snscrape.modules.twitter.User', 'us...</td>\n",
       "      <td>1</td>\n",
       "      <td>0</td>\n",
       "      <td>0</td>\n",
       "      <td>...</td>\n",
       "      <td>NaN</td>\n",
       "      <td>None</td>\n",
       "      <td>NaN</td>\n",
       "      <td>None</td>\n",
       "      <td>[{'_type': 'snscrape.modules.twitter.User', 'u...</td>\n",
       "      <td>None</td>\n",
       "      <td>None</td>\n",
       "      <td>[NFL, Broncos, DENvsCAR, BroncosCountry]</td>\n",
       "      <td>NaN</td>\n",
       "      <td>{'_type': 'snscrape.modules.twitter.PollCard',...</td>\n",
       "    </tr>\n",
       "    <tr>\n",
       "      <th>3</th>\n",
       "      <td>snscrape.modules.twitter.Tweet</td>\n",
       "      <td>https://twitter.com/properplays/status/1597017...</td>\n",
       "      <td>2022-11-27 23:59:06+00:00</td>\n",
       "      <td>And Russell Wilson replied, \"ok, let's ride\" 🙄...</td>\n",
       "      <td>And Russell Wilson replied, \"ok, let's ride\" 🙄...</td>\n",
       "      <td>1597017202602803200</td>\n",
       "      <td>{'_type': 'snscrape.modules.twitter.User', 'us...</td>\n",
       "      <td>0</td>\n",
       "      <td>0</td>\n",
       "      <td>0</td>\n",
       "      <td>...</td>\n",
       "      <td>NaN</td>\n",
       "      <td>{'_type': 'snscrape.modules.twitter.Tweet', 'u...</td>\n",
       "      <td>NaN</td>\n",
       "      <td>None</td>\n",
       "      <td>None</td>\n",
       "      <td>None</td>\n",
       "      <td>None</td>\n",
       "      <td>[broncos, broncoscountry]</td>\n",
       "      <td>NaN</td>\n",
       "      <td>None</td>\n",
       "    </tr>\n",
       "    <tr>\n",
       "      <th>4</th>\n",
       "      <td>snscrape.modules.twitter.Tweet</td>\n",
       "      <td>https://twitter.com/WORLDNE10696852/status/159...</td>\n",
       "      <td>2022-11-27 23:58:46+00:00</td>\n",
       "      <td>Russell Wilson suffers another Twitter pile-on...</td>\n",
       "      <td>Russell Wilson suffers another Twitter pile-on...</td>\n",
       "      <td>1597017115264839680</td>\n",
       "      <td>{'_type': 'snscrape.modules.twitter.User', 'us...</td>\n",
       "      <td>0</td>\n",
       "      <td>0</td>\n",
       "      <td>0</td>\n",
       "      <td>...</td>\n",
       "      <td>NaN</td>\n",
       "      <td>None</td>\n",
       "      <td>NaN</td>\n",
       "      <td>None</td>\n",
       "      <td>None</td>\n",
       "      <td>None</td>\n",
       "      <td>None</td>\n",
       "      <td>None</td>\n",
       "      <td>NaN</td>\n",
       "      <td>{'_type': 'snscrape.modules.twitter.SummaryCar...</td>\n",
       "    </tr>\n",
       "  </tbody>\n",
       "</table>\n",
       "<p>5 rows × 28 columns</p>\n",
       "</div>"
      ],
      "text/plain": [
       "                            _type  \\\n",
       "0  snscrape.modules.twitter.Tweet   \n",
       "1  snscrape.modules.twitter.Tweet   \n",
       "2  snscrape.modules.twitter.Tweet   \n",
       "3  snscrape.modules.twitter.Tweet   \n",
       "4  snscrape.modules.twitter.Tweet   \n",
       "\n",
       "                                                 url  \\\n",
       "0  https://twitter.com/edwards_jereme/status/1597...   \n",
       "1  https://twitter.com/Strangeland251/status/1597...   \n",
       "2  https://twitter.com/liverpoolfc21k/status/1597...   \n",
       "3  https://twitter.com/properplays/status/1597017...   \n",
       "4  https://twitter.com/WORLDNE10696852/status/159...   \n",
       "\n",
       "                       date  \\\n",
       "0 2022-11-27 23:59:57+00:00   \n",
       "1 2022-11-27 23:59:43+00:00   \n",
       "2 2022-11-27 23:59:31+00:00   \n",
       "3 2022-11-27 23:59:06+00:00   \n",
       "4 2022-11-27 23:58:46+00:00   \n",
       "\n",
       "                                          rawContent  \\\n",
       "0  @daverichard Still had better day then Russell...   \n",
       "1  Russell Wilson Trade Deemed 'Worst Deal in Spo...   \n",
       "2  Russell Wilson or Tim Tebow, which would @Bron...   \n",
       "3  And Russell Wilson replied, \"ok, let's ride\" 🙄...   \n",
       "4  Russell Wilson suffers another Twitter pile-on...   \n",
       "\n",
       "                                     renderedContent                   id  \\\n",
       "0  @daverichard Still had better day then Russell...  1597017414533013505   \n",
       "1  Russell Wilson Trade Deemed 'Worst Deal in Spo...  1597017357695623168   \n",
       "2  Russell Wilson or Tim Tebow, which would @Bron...  1597017305900142592   \n",
       "3  And Russell Wilson replied, \"ok, let's ride\" 🙄...  1597017202602803200   \n",
       "4  Russell Wilson suffers another Twitter pile-on...  1597017115264839680   \n",
       "\n",
       "                                                user  replyCount  \\\n",
       "0  {'_type': 'snscrape.modules.twitter.User', 'us...           0   \n",
       "1  {'_type': 'snscrape.modules.twitter.User', 'us...           0   \n",
       "2  {'_type': 'snscrape.modules.twitter.User', 'us...           1   \n",
       "3  {'_type': 'snscrape.modules.twitter.User', 'us...           0   \n",
       "4  {'_type': 'snscrape.modules.twitter.User', 'us...           0   \n",
       "\n",
       "   retweetCount  likeCount  ...  retweetedTweet  \\\n",
       "0             0          0  ...             NaN   \n",
       "1             0          1  ...             NaN   \n",
       "2             0          0  ...             NaN   \n",
       "3             0          0  ...             NaN   \n",
       "4             0          0  ...             NaN   \n",
       "\n",
       "                                         quotedTweet inReplyToTweetId  \\\n",
       "0                                               None     1.597017e+18   \n",
       "1                                               None              NaN   \n",
       "2                                               None              NaN   \n",
       "3  {'_type': 'snscrape.modules.twitter.Tweet', 'u...              NaN   \n",
       "4                                               None              NaN   \n",
       "\n",
       "                                       inReplyToUser  \\\n",
       "0  {'_type': 'snscrape.modules.twitter.User', 'us...   \n",
       "1                                               None   \n",
       "2                                               None   \n",
       "3                                               None   \n",
       "4                                               None   \n",
       "\n",
       "                                      mentionedUsers coordinates place  \\\n",
       "0  [{'_type': 'snscrape.modules.twitter.User', 'u...        None  None   \n",
       "1  [{'_type': 'snscrape.modules.twitter.User', 'u...        None  None   \n",
       "2  [{'_type': 'snscrape.modules.twitter.User', 'u...        None  None   \n",
       "3                                               None        None  None   \n",
       "4                                               None        None  None   \n",
       "\n",
       "                                   hashtags  cashtags  \\\n",
       "0                                      None       NaN   \n",
       "1                                      None       NaN   \n",
       "2  [NFL, Broncos, DENvsCAR, BroncosCountry]       NaN   \n",
       "3                 [broncos, broncoscountry]       NaN   \n",
       "4                                      None       NaN   \n",
       "\n",
       "                                                card  \n",
       "0                                               None  \n",
       "1  {'_type': 'snscrape.modules.twitter.SummaryCar...  \n",
       "2  {'_type': 'snscrape.modules.twitter.PollCard',...  \n",
       "3                                               None  \n",
       "4  {'_type': 'snscrape.modules.twitter.SummaryCar...  \n",
       "\n",
       "[5 rows x 28 columns]"
      ]
     },
     "execution_count": 8,
     "metadata": {},
     "output_type": "execute_result"
    },
    {
     "data": {
      "application/javascript": [
       "\n",
       "            setTimeout(function() {\n",
       "                var nbb_cell_id = 8;\n",
       "                var nbb_unformatted_code = \"tweets_df.head()\";\n",
       "                var nbb_formatted_code = \"tweets_df.head()\";\n",
       "                var nbb_cells = Jupyter.notebook.get_cells();\n",
       "                for (var i = 0; i < nbb_cells.length; ++i) {\n",
       "                    if (nbb_cells[i].input_prompt_number == nbb_cell_id) {\n",
       "                        if (nbb_cells[i].get_text() == nbb_unformatted_code) {\n",
       "                             nbb_cells[i].set_text(nbb_formatted_code);\n",
       "                        }\n",
       "                        break;\n",
       "                    }\n",
       "                }\n",
       "            }, 500);\n",
       "            "
      ],
      "text/plain": [
       "<IPython.core.display.Javascript object>"
      ]
     },
     "metadata": {},
     "output_type": "display_data"
    }
   ],
   "source": [
    "tweets_df.head()"
   ]
  },
  {
   "cell_type": "markdown",
   "id": "c4db2e1d",
   "metadata": {},
   "source": [
    "#### Getting the dataframe that we will actually be manipulating"
   ]
  },
  {
   "cell_type": "code",
   "execution_count": 9,
   "id": "9bce5c0d",
   "metadata": {},
   "outputs": [
    {
     "data": {
      "text/html": [
       "<div>\n",
       "<style scoped>\n",
       "    .dataframe tbody tr th:only-of-type {\n",
       "        vertical-align: middle;\n",
       "    }\n",
       "\n",
       "    .dataframe tbody tr th {\n",
       "        vertical-align: top;\n",
       "    }\n",
       "\n",
       "    .dataframe thead th {\n",
       "        text-align: right;\n",
       "    }\n",
       "</style>\n",
       "<table border=\"1\" class=\"dataframe\">\n",
       "  <thead>\n",
       "    <tr style=\"text-align: right;\">\n",
       "      <th></th>\n",
       "      <th>renderedContent</th>\n",
       "    </tr>\n",
       "  </thead>\n",
       "  <tbody>\n",
       "    <tr>\n",
       "      <th>0</th>\n",
       "      <td>@daverichard Still had better day then Russell...</td>\n",
       "    </tr>\n",
       "    <tr>\n",
       "      <th>1</th>\n",
       "      <td>Russell Wilson Trade Deemed 'Worst Deal in Spo...</td>\n",
       "    </tr>\n",
       "    <tr>\n",
       "      <th>2</th>\n",
       "      <td>Russell Wilson or Tim Tebow, which would @Bron...</td>\n",
       "    </tr>\n",
       "    <tr>\n",
       "      <th>3</th>\n",
       "      <td>And Russell Wilson replied, \"ok, let's ride\" 🙄...</td>\n",
       "    </tr>\n",
       "    <tr>\n",
       "      <th>4</th>\n",
       "      <td>Russell Wilson suffers another Twitter pile-on...</td>\n",
       "    </tr>\n",
       "  </tbody>\n",
       "</table>\n",
       "</div>"
      ],
      "text/plain": [
       "                                     renderedContent\n",
       "0  @daverichard Still had better day then Russell...\n",
       "1  Russell Wilson Trade Deemed 'Worst Deal in Spo...\n",
       "2  Russell Wilson or Tim Tebow, which would @Bron...\n",
       "3  And Russell Wilson replied, \"ok, let's ride\" 🙄...\n",
       "4  Russell Wilson suffers another Twitter pile-on..."
      ]
     },
     "execution_count": 9,
     "metadata": {},
     "output_type": "execute_result"
    },
    {
     "data": {
      "application/javascript": [
       "\n",
       "            setTimeout(function() {\n",
       "                var nbb_cell_id = 9;\n",
       "                var nbb_unformatted_code = \"df = tweets_df[[\\\"renderedContent\\\"]]\\ndf.head()\";\n",
       "                var nbb_formatted_code = \"df = tweets_df[[\\\"renderedContent\\\"]]\\ndf.head()\";\n",
       "                var nbb_cells = Jupyter.notebook.get_cells();\n",
       "                for (var i = 0; i < nbb_cells.length; ++i) {\n",
       "                    if (nbb_cells[i].input_prompt_number == nbb_cell_id) {\n",
       "                        if (nbb_cells[i].get_text() == nbb_unformatted_code) {\n",
       "                             nbb_cells[i].set_text(nbb_formatted_code);\n",
       "                        }\n",
       "                        break;\n",
       "                    }\n",
       "                }\n",
       "            }, 500);\n",
       "            "
      ],
      "text/plain": [
       "<IPython.core.display.Javascript object>"
      ]
     },
     "metadata": {},
     "output_type": "display_data"
    }
   ],
   "source": [
    "df = tweets_df[[\"renderedContent\"]]\n",
    "df.head()"
   ]
  },
  {
   "cell_type": "code",
   "execution_count": 10,
   "id": "52c647b2",
   "metadata": {},
   "outputs": [
    {
     "data": {
      "application/javascript": [
       "\n",
       "            setTimeout(function() {\n",
       "                var nbb_cell_id = 10;\n",
       "                var nbb_unformatted_code = \"df = df.rename(columns={\\\"renderedContent\\\": \\\"tweets\\\"})\";\n",
       "                var nbb_formatted_code = \"df = df.rename(columns={\\\"renderedContent\\\": \\\"tweets\\\"})\";\n",
       "                var nbb_cells = Jupyter.notebook.get_cells();\n",
       "                for (var i = 0; i < nbb_cells.length; ++i) {\n",
       "                    if (nbb_cells[i].input_prompt_number == nbb_cell_id) {\n",
       "                        if (nbb_cells[i].get_text() == nbb_unformatted_code) {\n",
       "                             nbb_cells[i].set_text(nbb_formatted_code);\n",
       "                        }\n",
       "                        break;\n",
       "                    }\n",
       "                }\n",
       "            }, 500);\n",
       "            "
      ],
      "text/plain": [
       "<IPython.core.display.Javascript object>"
      ]
     },
     "metadata": {},
     "output_type": "display_data"
    }
   ],
   "source": [
    "df = df.rename(columns={\"renderedContent\": \"tweets\"})"
   ]
  },
  {
   "cell_type": "markdown",
   "id": "14430ab4",
   "metadata": {},
   "source": [
    "### Importing the libraries required cleaning the tweets"
   ]
  },
  {
   "cell_type": "code",
   "execution_count": 11,
   "id": "edc0c441",
   "metadata": {},
   "outputs": [
    {
     "name": "stderr",
     "output_type": "stream",
     "text": [
      "[nltk_data] Downloading package punkt to /Users/haran/nltk_data...\n",
      "[nltk_data]   Package punkt is already up-to-date!\n",
      "[nltk_data] Downloading package stopwords to /Users/haran/nltk_data...\n",
      "[nltk_data]   Package stopwords is already up-to-date!\n"
     ]
    },
    {
     "data": {
      "application/javascript": [
       "\n",
       "            setTimeout(function() {\n",
       "                var nbb_cell_id = 11;\n",
       "                var nbb_unformatted_code = \"import re\\nimport nltk\\n\\nnltk.download(\\\"punkt\\\")\\nnltk.download(\\\"stopwords\\\")\\n\\nfrom nltk.corpus import stopwords\\nfrom nltk.tokenize import word_tokenize\";\n",
       "                var nbb_formatted_code = \"import re\\nimport nltk\\n\\nnltk.download(\\\"punkt\\\")\\nnltk.download(\\\"stopwords\\\")\\n\\nfrom nltk.corpus import stopwords\\nfrom nltk.tokenize import word_tokenize\";\n",
       "                var nbb_cells = Jupyter.notebook.get_cells();\n",
       "                for (var i = 0; i < nbb_cells.length; ++i) {\n",
       "                    if (nbb_cells[i].input_prompt_number == nbb_cell_id) {\n",
       "                        if (nbb_cells[i].get_text() == nbb_unformatted_code) {\n",
       "                             nbb_cells[i].set_text(nbb_formatted_code);\n",
       "                        }\n",
       "                        break;\n",
       "                    }\n",
       "                }\n",
       "            }, 500);\n",
       "            "
      ],
      "text/plain": [
       "<IPython.core.display.Javascript object>"
      ]
     },
     "metadata": {},
     "output_type": "display_data"
    }
   ],
   "source": [
    "import re\n",
    "import nltk\n",
    "\n",
    "nltk.download(\"punkt\")\n",
    "nltk.download(\"stopwords\")\n",
    "\n",
    "from nltk.corpus import stopwords\n",
    "from nltk.tokenize import word_tokenize"
   ]
  },
  {
   "cell_type": "code",
   "execution_count": 12,
   "id": "03c5dce8",
   "metadata": {},
   "outputs": [
    {
     "name": "stdout",
     "output_type": "stream",
     "text": [
      "['i', 'me', 'my', 'myself', 'we', 'our', 'ours', 'ourselves', 'you', \"you're\", \"you've\", \"you'll\", \"you'd\", 'your', 'yours', 'yourself', 'yourselves', 'he', 'him', 'his', 'himself', 'she', \"she's\", 'her', 'hers', 'herself', 'it', \"it's\", 'its', 'itself', 'they', 'them', 'their', 'theirs', 'themselves', 'what', 'which', 'who', 'whom', 'this', 'that', \"that'll\", 'these', 'those', 'am', 'is', 'are', 'was', 'were', 'be', 'been', 'being', 'have', 'has', 'had', 'having', 'do', 'does', 'did', 'doing', 'a', 'an', 'the', 'and', 'but', 'if', 'or', 'because', 'as', 'until', 'while', 'of', 'at', 'by', 'for', 'with', 'about', 'against', 'between', 'into', 'through', 'during', 'before', 'after', 'above', 'below', 'to', 'from', 'up', 'down', 'in', 'out', 'on', 'off', 'over', 'under', 'again', 'further', 'then', 'once', 'here', 'there', 'when', 'where', 'why', 'how', 'all', 'any', 'both', 'each', 'few', 'more', 'most', 'other', 'some', 'such', 'no', 'nor', 'not', 'only', 'own', 'same', 'so', 'than', 'too', 'very', 's', 't', 'can', 'will', 'just', 'don', \"don't\", 'should', \"should've\", 'now', 'd', 'll', 'm', 'o', 're', 've', 'y', 'ain', 'aren', \"aren't\", 'couldn', \"couldn't\", 'didn', \"didn't\", 'doesn', \"doesn't\", 'hadn', \"hadn't\", 'hasn', \"hasn't\", 'haven', \"haven't\", 'isn', \"isn't\", 'ma', 'mightn', \"mightn't\", 'mustn', \"mustn't\", 'needn', \"needn't\", 'shan', \"shan't\", 'shouldn', \"shouldn't\", 'wasn', \"wasn't\", 'weren', \"weren't\", 'won', \"won't\", 'wouldn', \"wouldn't\"]\n"
     ]
    },
    {
     "data": {
      "application/javascript": [
       "\n",
       "            setTimeout(function() {\n",
       "                var nbb_cell_id = 12;\n",
       "                var nbb_unformatted_code = \"stop_words = stopwords.words(\\\"english\\\")\\nprint(stop_words)\";\n",
       "                var nbb_formatted_code = \"stop_words = stopwords.words(\\\"english\\\")\\nprint(stop_words)\";\n",
       "                var nbb_cells = Jupyter.notebook.get_cells();\n",
       "                for (var i = 0; i < nbb_cells.length; ++i) {\n",
       "                    if (nbb_cells[i].input_prompt_number == nbb_cell_id) {\n",
       "                        if (nbb_cells[i].get_text() == nbb_unformatted_code) {\n",
       "                             nbb_cells[i].set_text(nbb_formatted_code);\n",
       "                        }\n",
       "                        break;\n",
       "                    }\n",
       "                }\n",
       "            }, 500);\n",
       "            "
      ],
      "text/plain": [
       "<IPython.core.display.Javascript object>"
      ]
     },
     "metadata": {},
     "output_type": "display_data"
    }
   ],
   "source": [
    "stop_words = stopwords.words(\"english\")\n",
    "print(stop_words)"
   ]
  },
  {
   "cell_type": "markdown",
   "id": "0eaae24c",
   "metadata": {},
   "source": [
    "#### Function for cleaning tweets"
   ]
  },
  {
   "cell_type": "code",
   "execution_count": 13,
   "id": "faf751bb",
   "metadata": {},
   "outputs": [
    {
     "data": {
      "application/javascript": [
       "\n",
       "            setTimeout(function() {\n",
       "                var nbb_cell_id = 13;\n",
       "                var nbb_unformatted_code = \"def tweetCleaning(tweet):\\n    clean_tweet = re.sub(r\\\"@[a-zA-Z0-9]+\\\", \\\"\\\", tweet)  # removes mentions\\n    clean_tweet = re.sub(\\n        r\\\"#[a-zA-Z0-9]+\\\\s\\\", \\\"\\\", clean_tweet\\n    )  # removes hashtags and blank spaces\\n    clean_tweet = \\\" \\\".join(\\n        word for word in clean_tweet.split() if word not in stop_words\\n    )  # removing all the stopwords from the tweet\\n    return clean_tweet\";\n",
       "                var nbb_formatted_code = \"def tweetCleaning(tweet):\\n    clean_tweet = re.sub(r\\\"@[a-zA-Z0-9]+\\\", \\\"\\\", tweet)  # removes mentions\\n    clean_tweet = re.sub(\\n        r\\\"#[a-zA-Z0-9]+\\\\s\\\", \\\"\\\", clean_tweet\\n    )  # removes hashtags and blank spaces\\n    clean_tweet = \\\" \\\".join(\\n        word for word in clean_tweet.split() if word not in stop_words\\n    )  # removing all the stopwords from the tweet\\n    return clean_tweet\";\n",
       "                var nbb_cells = Jupyter.notebook.get_cells();\n",
       "                for (var i = 0; i < nbb_cells.length; ++i) {\n",
       "                    if (nbb_cells[i].input_prompt_number == nbb_cell_id) {\n",
       "                        if (nbb_cells[i].get_text() == nbb_unformatted_code) {\n",
       "                             nbb_cells[i].set_text(nbb_formatted_code);\n",
       "                        }\n",
       "                        break;\n",
       "                    }\n",
       "                }\n",
       "            }, 500);\n",
       "            "
      ],
      "text/plain": [
       "<IPython.core.display.Javascript object>"
      ]
     },
     "metadata": {},
     "output_type": "display_data"
    }
   ],
   "source": [
    "def tweetCleaning(tweet):\n",
    "    clean_tweet = re.sub(r\"@[a-zA-Z0-9]+\", \"\", tweet)  # removes mentions\n",
    "    clean_tweet = re.sub(\n",
    "        r\"#[a-zA-Z0-9]+\\s\", \"\", clean_tweet\n",
    "    )  # removes hashtags and blank spaces\n",
    "    clean_tweet = \" \".join(\n",
    "        word for word in clean_tweet.split() if word not in stop_words\n",
    "    )  # removing all the stopwords from the tweet\n",
    "    return clean_tweet"
   ]
  },
  {
   "cell_type": "code",
   "execution_count": 14,
   "id": "0f922914",
   "metadata": {
    "scrolled": true
   },
   "outputs": [
    {
     "data": {
      "text/html": [
       "<div>\n",
       "<style scoped>\n",
       "    .dataframe tbody tr th:only-of-type {\n",
       "        vertical-align: middle;\n",
       "    }\n",
       "\n",
       "    .dataframe tbody tr th {\n",
       "        vertical-align: top;\n",
       "    }\n",
       "\n",
       "    .dataframe thead th {\n",
       "        text-align: right;\n",
       "    }\n",
       "</style>\n",
       "<table border=\"1\" class=\"dataframe\">\n",
       "  <thead>\n",
       "    <tr style=\"text-align: right;\">\n",
       "      <th></th>\n",
       "      <th>tweets</th>\n",
       "      <th>cleaned_tweets</th>\n",
       "    </tr>\n",
       "  </thead>\n",
       "  <tbody>\n",
       "    <tr>\n",
       "      <th>0</th>\n",
       "      <td>@daverichard Still had better day then Russell...</td>\n",
       "      <td>Still better day Russell Wilson</td>\n",
       "    </tr>\n",
       "    <tr>\n",
       "      <th>1</th>\n",
       "      <td>Russell Wilson Trade Deemed 'Worst Deal in Spo...</td>\n",
       "      <td>Russell Wilson Trade Deemed 'Worst Deal Sports...</td>\n",
       "    </tr>\n",
       "    <tr>\n",
       "      <th>2</th>\n",
       "      <td>Russell Wilson or Tim Tebow, which would @Bron...</td>\n",
       "      <td>Russell Wilson Tim Tebow, would rather QB next...</td>\n",
       "    </tr>\n",
       "    <tr>\n",
       "      <th>3</th>\n",
       "      <td>And Russell Wilson replied, \"ok, let's ride\" 🙄...</td>\n",
       "      <td>And Russell Wilson replied, \"ok, let's ride\" 🙄...</td>\n",
       "    </tr>\n",
       "    <tr>\n",
       "      <th>4</th>\n",
       "      <td>Russell Wilson suffers another Twitter pile-on...</td>\n",
       "      <td>Russell Wilson suffers another Twitter pile-on...</td>\n",
       "    </tr>\n",
       "  </tbody>\n",
       "</table>\n",
       "</div>"
      ],
      "text/plain": [
       "                                              tweets  \\\n",
       "0  @daverichard Still had better day then Russell...   \n",
       "1  Russell Wilson Trade Deemed 'Worst Deal in Spo...   \n",
       "2  Russell Wilson or Tim Tebow, which would @Bron...   \n",
       "3  And Russell Wilson replied, \"ok, let's ride\" 🙄...   \n",
       "4  Russell Wilson suffers another Twitter pile-on...   \n",
       "\n",
       "                                      cleaned_tweets  \n",
       "0                    Still better day Russell Wilson  \n",
       "1  Russell Wilson Trade Deemed 'Worst Deal Sports...  \n",
       "2  Russell Wilson Tim Tebow, would rather QB next...  \n",
       "3  And Russell Wilson replied, \"ok, let's ride\" 🙄...  \n",
       "4  Russell Wilson suffers another Twitter pile-on...  "
      ]
     },
     "execution_count": 14,
     "metadata": {},
     "output_type": "execute_result"
    },
    {
     "data": {
      "application/javascript": [
       "\n",
       "            setTimeout(function() {\n",
       "                var nbb_cell_id = 14;\n",
       "                var nbb_unformatted_code = \"df[\\\"cleaned_tweets\\\"] = df[\\\"tweets\\\"].apply(tweetCleaning)\\ndf.head()\";\n",
       "                var nbb_formatted_code = \"df[\\\"cleaned_tweets\\\"] = df[\\\"tweets\\\"].apply(tweetCleaning)\\ndf.head()\";\n",
       "                var nbb_cells = Jupyter.notebook.get_cells();\n",
       "                for (var i = 0; i < nbb_cells.length; ++i) {\n",
       "                    if (nbb_cells[i].input_prompt_number == nbb_cell_id) {\n",
       "                        if (nbb_cells[i].get_text() == nbb_unformatted_code) {\n",
       "                             nbb_cells[i].set_text(nbb_formatted_code);\n",
       "                        }\n",
       "                        break;\n",
       "                    }\n",
       "                }\n",
       "            }, 500);\n",
       "            "
      ],
      "text/plain": [
       "<IPython.core.display.Javascript object>"
      ]
     },
     "metadata": {},
     "output_type": "display_data"
    }
   ],
   "source": [
    "df[\"cleaned_tweets\"] = df[\"tweets\"].apply(tweetCleaning)\n",
    "df.head()"
   ]
  },
  {
   "cell_type": "markdown",
   "id": "8634cb95",
   "metadata": {},
   "source": [
    "### Importing libraries for sentiment analysis and the wordcloud generation "
   ]
  },
  {
   "cell_type": "code",
   "execution_count": 15,
   "id": "3030db39",
   "metadata": {},
   "outputs": [
    {
     "data": {
      "application/javascript": [
       "\n",
       "            setTimeout(function() {\n",
       "                var nbb_cell_id = 15;\n",
       "                var nbb_unformatted_code = \"from textblob import TextBlob\\nfrom wordcloud import WordCloud\";\n",
       "                var nbb_formatted_code = \"from textblob import TextBlob\\nfrom wordcloud import WordCloud\";\n",
       "                var nbb_cells = Jupyter.notebook.get_cells();\n",
       "                for (var i = 0; i < nbb_cells.length; ++i) {\n",
       "                    if (nbb_cells[i].input_prompt_number == nbb_cell_id) {\n",
       "                        if (nbb_cells[i].get_text() == nbb_unformatted_code) {\n",
       "                             nbb_cells[i].set_text(nbb_formatted_code);\n",
       "                        }\n",
       "                        break;\n",
       "                    }\n",
       "                }\n",
       "            }, 500);\n",
       "            "
      ],
      "text/plain": [
       "<IPython.core.display.Javascript object>"
      ]
     },
     "metadata": {},
     "output_type": "display_data"
    }
   ],
   "source": [
    "from textblob import TextBlob\n",
    "from wordcloud import WordCloud"
   ]
  },
  {
   "cell_type": "markdown",
   "id": "a8e7230c",
   "metadata": {},
   "source": [
    "#### Function for calculating polarity and subjectivity"
   ]
  },
  {
   "cell_type": "code",
   "execution_count": 16,
   "id": "6f1f89db",
   "metadata": {},
   "outputs": [
    {
     "data": {
      "application/javascript": [
       "\n",
       "            setTimeout(function() {\n",
       "                var nbb_cell_id = 16;\n",
       "                var nbb_unformatted_code = \"def calcPolarity(tweet):\\n    return TextBlob(tweet).sentiment.polarity\\n\\n\\ndef calcSubjectivity(tweet):\\n    return TextBlob(tweet).sentiment.subjectivity\\n\\n\\ndef segmentation(polarity):\\n    if polarity > 0:\\n        return \\\"positive\\\"\\n    elif polarity == 0:\\n        return \\\"neutral\\\"\\n    else:\\n        return \\\"negative\\\"\";\n",
       "                var nbb_formatted_code = \"def calcPolarity(tweet):\\n    return TextBlob(tweet).sentiment.polarity\\n\\n\\ndef calcSubjectivity(tweet):\\n    return TextBlob(tweet).sentiment.subjectivity\\n\\n\\ndef segmentation(polarity):\\n    if polarity > 0:\\n        return \\\"positive\\\"\\n    elif polarity == 0:\\n        return \\\"neutral\\\"\\n    else:\\n        return \\\"negative\\\"\";\n",
       "                var nbb_cells = Jupyter.notebook.get_cells();\n",
       "                for (var i = 0; i < nbb_cells.length; ++i) {\n",
       "                    if (nbb_cells[i].input_prompt_number == nbb_cell_id) {\n",
       "                        if (nbb_cells[i].get_text() == nbb_unformatted_code) {\n",
       "                             nbb_cells[i].set_text(nbb_formatted_code);\n",
       "                        }\n",
       "                        break;\n",
       "                    }\n",
       "                }\n",
       "            }, 500);\n",
       "            "
      ],
      "text/plain": [
       "<IPython.core.display.Javascript object>"
      ]
     },
     "metadata": {},
     "output_type": "display_data"
    }
   ],
   "source": [
    "def calcPolarity(tweet):\n",
    "    return TextBlob(tweet).sentiment.polarity\n",
    "\n",
    "\n",
    "def calcSubjectivity(tweet):\n",
    "    return TextBlob(tweet).sentiment.subjectivity\n",
    "\n",
    "\n",
    "def segmentation(polarity):\n",
    "    if polarity > 0:\n",
    "        return \"positive\"\n",
    "    elif polarity == 0:\n",
    "        return \"neutral\"\n",
    "    else:\n",
    "        return \"negative\""
   ]
  },
  {
   "cell_type": "code",
   "execution_count": 17,
   "id": "96524827",
   "metadata": {},
   "outputs": [
    {
     "data": {
      "text/html": [
       "<div>\n",
       "<style scoped>\n",
       "    .dataframe tbody tr th:only-of-type {\n",
       "        vertical-align: middle;\n",
       "    }\n",
       "\n",
       "    .dataframe tbody tr th {\n",
       "        vertical-align: top;\n",
       "    }\n",
       "\n",
       "    .dataframe thead th {\n",
       "        text-align: right;\n",
       "    }\n",
       "</style>\n",
       "<table border=\"1\" class=\"dataframe\">\n",
       "  <thead>\n",
       "    <tr style=\"text-align: right;\">\n",
       "      <th></th>\n",
       "      <th>tweets</th>\n",
       "      <th>cleaned_tweets</th>\n",
       "      <th>polarity</th>\n",
       "      <th>subjectivity</th>\n",
       "      <th>segmentation</th>\n",
       "    </tr>\n",
       "  </thead>\n",
       "  <tbody>\n",
       "    <tr>\n",
       "      <th>0</th>\n",
       "      <td>@daverichard Still had better day then Russell...</td>\n",
       "      <td>Still better day Russell Wilson</td>\n",
       "      <td>0.500000</td>\n",
       "      <td>0.500000</td>\n",
       "      <td>positive</td>\n",
       "    </tr>\n",
       "    <tr>\n",
       "      <th>1</th>\n",
       "      <td>Russell Wilson Trade Deemed 'Worst Deal in Spo...</td>\n",
       "      <td>Russell Wilson Trade Deemed 'Worst Deal Sports...</td>\n",
       "      <td>-0.066667</td>\n",
       "      <td>0.733333</td>\n",
       "      <td>negative</td>\n",
       "    </tr>\n",
       "    <tr>\n",
       "      <th>2</th>\n",
       "      <td>Russell Wilson or Tim Tebow, which would @Bron...</td>\n",
       "      <td>Russell Wilson Tim Tebow, would rather QB next...</td>\n",
       "      <td>-0.200000</td>\n",
       "      <td>0.200000</td>\n",
       "      <td>negative</td>\n",
       "    </tr>\n",
       "    <tr>\n",
       "      <th>3</th>\n",
       "      <td>And Russell Wilson replied, \"ok, let's ride\" 🙄...</td>\n",
       "      <td>And Russell Wilson replied, \"ok, let's ride\" 🙄...</td>\n",
       "      <td>0.500000</td>\n",
       "      <td>0.500000</td>\n",
       "      <td>positive</td>\n",
       "    </tr>\n",
       "    <tr>\n",
       "      <th>4</th>\n",
       "      <td>Russell Wilson suffers another Twitter pile-on...</td>\n",
       "      <td>Russell Wilson suffers another Twitter pile-on...</td>\n",
       "      <td>-0.600000</td>\n",
       "      <td>0.700000</td>\n",
       "      <td>negative</td>\n",
       "    </tr>\n",
       "  </tbody>\n",
       "</table>\n",
       "</div>"
      ],
      "text/plain": [
       "                                              tweets  \\\n",
       "0  @daverichard Still had better day then Russell...   \n",
       "1  Russell Wilson Trade Deemed 'Worst Deal in Spo...   \n",
       "2  Russell Wilson or Tim Tebow, which would @Bron...   \n",
       "3  And Russell Wilson replied, \"ok, let's ride\" 🙄...   \n",
       "4  Russell Wilson suffers another Twitter pile-on...   \n",
       "\n",
       "                                      cleaned_tweets  polarity  subjectivity  \\\n",
       "0                    Still better day Russell Wilson  0.500000      0.500000   \n",
       "1  Russell Wilson Trade Deemed 'Worst Deal Sports... -0.066667      0.733333   \n",
       "2  Russell Wilson Tim Tebow, would rather QB next... -0.200000      0.200000   \n",
       "3  And Russell Wilson replied, \"ok, let's ride\" 🙄...  0.500000      0.500000   \n",
       "4  Russell Wilson suffers another Twitter pile-on... -0.600000      0.700000   \n",
       "\n",
       "  segmentation  \n",
       "0     positive  \n",
       "1     negative  \n",
       "2     negative  \n",
       "3     positive  \n",
       "4     negative  "
      ]
     },
     "execution_count": 17,
     "metadata": {},
     "output_type": "execute_result"
    },
    {
     "data": {
      "application/javascript": [
       "\n",
       "            setTimeout(function() {\n",
       "                var nbb_cell_id = 17;\n",
       "                var nbb_unformatted_code = \"df[\\\"polarity\\\"] = df[\\\"cleaned_tweets\\\"].apply(calcPolarity)\\ndf[\\\"subjectivity\\\"] = df[\\\"cleaned_tweets\\\"].apply(calcSubjectivity)\\ndf[\\\"segmentation\\\"] = df[\\\"polarity\\\"].apply(segmentation)\\ndf.head()\";\n",
       "                var nbb_formatted_code = \"df[\\\"polarity\\\"] = df[\\\"cleaned_tweets\\\"].apply(calcPolarity)\\ndf[\\\"subjectivity\\\"] = df[\\\"cleaned_tweets\\\"].apply(calcSubjectivity)\\ndf[\\\"segmentation\\\"] = df[\\\"polarity\\\"].apply(segmentation)\\ndf.head()\";\n",
       "                var nbb_cells = Jupyter.notebook.get_cells();\n",
       "                for (var i = 0; i < nbb_cells.length; ++i) {\n",
       "                    if (nbb_cells[i].input_prompt_number == nbb_cell_id) {\n",
       "                        if (nbb_cells[i].get_text() == nbb_unformatted_code) {\n",
       "                             nbb_cells[i].set_text(nbb_formatted_code);\n",
       "                        }\n",
       "                        break;\n",
       "                    }\n",
       "                }\n",
       "            }, 500);\n",
       "            "
      ],
      "text/plain": [
       "<IPython.core.display.Javascript object>"
      ]
     },
     "metadata": {},
     "output_type": "display_data"
    }
   ],
   "source": [
    "df[\"polarity\"] = df[\"cleaned_tweets\"].apply(calcPolarity)\n",
    "df[\"subjectivity\"] = df[\"cleaned_tweets\"].apply(calcSubjectivity)\n",
    "df[\"segmentation\"] = df[\"polarity\"].apply(segmentation)\n",
    "df.head()"
   ]
  },
  {
   "cell_type": "code",
   "execution_count": 18,
   "id": "a2a6dd27",
   "metadata": {},
   "outputs": [
    {
     "data": {
      "text/plain": [
       "negative    47\n",
       "positive    66\n",
       "neutral     87\n",
       "Name: segmentation, dtype: int64"
      ]
     },
     "execution_count": 18,
     "metadata": {},
     "output_type": "execute_result"
    },
    {
     "data": {
      "application/javascript": [
       "\n",
       "            setTimeout(function() {\n",
       "                var nbb_cell_id = 18;\n",
       "                var nbb_unformatted_code = \"df[\\\"segmentation\\\"].value_counts(ascending=True)\";\n",
       "                var nbb_formatted_code = \"df[\\\"segmentation\\\"].value_counts(ascending=True)\";\n",
       "                var nbb_cells = Jupyter.notebook.get_cells();\n",
       "                for (var i = 0; i < nbb_cells.length; ++i) {\n",
       "                    if (nbb_cells[i].input_prompt_number == nbb_cell_id) {\n",
       "                        if (nbb_cells[i].get_text() == nbb_unformatted_code) {\n",
       "                             nbb_cells[i].set_text(nbb_formatted_code);\n",
       "                        }\n",
       "                        break;\n",
       "                    }\n",
       "                }\n",
       "            }, 500);\n",
       "            "
      ],
      "text/plain": [
       "<IPython.core.display.Javascript object>"
      ]
     },
     "metadata": {},
     "output_type": "display_data"
    }
   ],
   "source": [
    "df[\"segmentation\"].value_counts(ascending=True)"
   ]
  },
  {
   "cell_type": "markdown",
   "id": "40a2627d",
   "metadata": {},
   "source": [
    "#### Getting the top 3 positive and negative tweets"
   ]
  },
  {
   "cell_type": "code",
   "execution_count": 27,
   "id": "921750d9",
   "metadata": {},
   "outputs": [
    {
     "data": {
      "text/html": [
       "<div>\n",
       "<style scoped>\n",
       "    .dataframe tbody tr th:only-of-type {\n",
       "        vertical-align: middle;\n",
       "    }\n",
       "\n",
       "    .dataframe tbody tr th {\n",
       "        vertical-align: top;\n",
       "    }\n",
       "\n",
       "    .dataframe thead th {\n",
       "        text-align: right;\n",
       "    }\n",
       "</style>\n",
       "<table border=\"1\" class=\"dataframe\">\n",
       "  <thead>\n",
       "    <tr style=\"text-align: right;\">\n",
       "      <th></th>\n",
       "      <th>tweets</th>\n",
       "      <th>cleaned_tweets</th>\n",
       "      <th>polarity</th>\n",
       "      <th>subjectivity</th>\n",
       "      <th>segmentation</th>\n",
       "    </tr>\n",
       "  </thead>\n",
       "  <tbody>\n",
       "    <tr>\n",
       "      <th>12</th>\n",
       "      <td>@acosta32_jp almost like the staff there knew ...</td>\n",
       "      <td>_jp almost like staff knew get best russell wi...</td>\n",
       "      <td>1.0</td>\n",
       "      <td>0.3</td>\n",
       "      <td>positive</td>\n",
       "    </tr>\n",
       "    <tr>\n",
       "      <th>47</th>\n",
       "      <td>Russell Wilson will be the best rapper</td>\n",
       "      <td>Russell Wilson best rapper</td>\n",
       "      <td>1.0</td>\n",
       "      <td>0.3</td>\n",
       "      <td>positive</td>\n",
       "    </tr>\n",
       "    <tr>\n",
       "      <th>190</th>\n",
       "      <td>Russell Wilson still helping the Seahawks. His...</td>\n",
       "      <td>Russell Wilson still helping Seahawks. His ded...</td>\n",
       "      <td>1.0</td>\n",
       "      <td>1.0</td>\n",
       "      <td>positive</td>\n",
       "    </tr>\n",
       "  </tbody>\n",
       "</table>\n",
       "</div>"
      ],
      "text/plain": [
       "                                                tweets  \\\n",
       "12   @acosta32_jp almost like the staff there knew ...   \n",
       "47              Russell Wilson will be the best rapper   \n",
       "190  Russell Wilson still helping the Seahawks. His...   \n",
       "\n",
       "                                        cleaned_tweets  polarity  \\\n",
       "12   _jp almost like staff knew get best russell wi...       1.0   \n",
       "47                          Russell Wilson best rapper       1.0   \n",
       "190  Russell Wilson still helping Seahawks. His ded...       1.0   \n",
       "\n",
       "     subjectivity segmentation  \n",
       "12            0.3     positive  \n",
       "47            0.3     positive  \n",
       "190           1.0     positive  "
      ]
     },
     "execution_count": 27,
     "metadata": {},
     "output_type": "execute_result"
    },
    {
     "data": {
      "application/javascript": [
       "\n",
       "            setTimeout(function() {\n",
       "                var nbb_cell_id = 27;\n",
       "                var nbb_unformatted_code = \"df.sort_values(by=['polarity'],ascending=False).head(3)\";\n",
       "                var nbb_formatted_code = \"df.sort_values(by=[\\\"polarity\\\"], ascending=False).head(3)\";\n",
       "                var nbb_cells = Jupyter.notebook.get_cells();\n",
       "                for (var i = 0; i < nbb_cells.length; ++i) {\n",
       "                    if (nbb_cells[i].input_prompt_number == nbb_cell_id) {\n",
       "                        if (nbb_cells[i].get_text() == nbb_unformatted_code) {\n",
       "                             nbb_cells[i].set_text(nbb_formatted_code);\n",
       "                        }\n",
       "                        break;\n",
       "                    }\n",
       "                }\n",
       "            }, 500);\n",
       "            "
      ],
      "text/plain": [
       "<IPython.core.display.Javascript object>"
      ]
     },
     "metadata": {},
     "output_type": "display_data"
    }
   ],
   "source": [
    "df.sort_values(by=[\"polarity\"], ascending=False).head(3)"
   ]
  },
  {
   "cell_type": "code",
   "execution_count": 28,
   "id": "bcbde23c",
   "metadata": {},
   "outputs": [
    {
     "data": {
      "text/html": [
       "<div>\n",
       "<style scoped>\n",
       "    .dataframe tbody tr th:only-of-type {\n",
       "        vertical-align: middle;\n",
       "    }\n",
       "\n",
       "    .dataframe tbody tr th {\n",
       "        vertical-align: top;\n",
       "    }\n",
       "\n",
       "    .dataframe thead th {\n",
       "        text-align: right;\n",
       "    }\n",
       "</style>\n",
       "<table border=\"1\" class=\"dataframe\">\n",
       "  <thead>\n",
       "    <tr style=\"text-align: right;\">\n",
       "      <th></th>\n",
       "      <th>tweets</th>\n",
       "      <th>cleaned_tweets</th>\n",
       "      <th>polarity</th>\n",
       "      <th>subjectivity</th>\n",
       "      <th>segmentation</th>\n",
       "    </tr>\n",
       "  </thead>\n",
       "  <tbody>\n",
       "    <tr>\n",
       "      <th>177</th>\n",
       "      <td>@nfldraftscout .#BroncosCountry\\nIs Paton/ Bro...</td>\n",
       "      <td>.Is Paton/ Bronco’s Russell Wilson trade worst...</td>\n",
       "      <td>-1.0</td>\n",
       "      <td>1.0</td>\n",
       "      <td>negative</td>\n",
       "    </tr>\n",
       "    <tr>\n",
       "      <th>127</th>\n",
       "      <td>Broncos are terrible they bout to ride on Russ...</td>\n",
       "      <td>Broncos terrible bout ride Russell Wilson lite...</td>\n",
       "      <td>-1.0</td>\n",
       "      <td>1.0</td>\n",
       "      <td>negative</td>\n",
       "    </tr>\n",
       "    <tr>\n",
       "      <th>95</th>\n",
       "      <td>Russell Wilson is going to leave Denver as the...</td>\n",
       "      <td>Russell Wilson going leave Denver hated person...</td>\n",
       "      <td>-0.9</td>\n",
       "      <td>0.7</td>\n",
       "      <td>negative</td>\n",
       "    </tr>\n",
       "  </tbody>\n",
       "</table>\n",
       "</div>"
      ],
      "text/plain": [
       "                                                tweets  \\\n",
       "177  @nfldraftscout .#BroncosCountry\\nIs Paton/ Bro...   \n",
       "127  Broncos are terrible they bout to ride on Russ...   \n",
       "95   Russell Wilson is going to leave Denver as the...   \n",
       "\n",
       "                                        cleaned_tweets  polarity  \\\n",
       "177  .Is Paton/ Bronco’s Russell Wilson trade worst...      -1.0   \n",
       "127  Broncos terrible bout ride Russell Wilson lite...      -1.0   \n",
       "95   Russell Wilson going leave Denver hated person...      -0.9   \n",
       "\n",
       "     subjectivity segmentation  \n",
       "177           1.0     negative  \n",
       "127           1.0     negative  \n",
       "95            0.7     negative  "
      ]
     },
     "execution_count": 28,
     "metadata": {},
     "output_type": "execute_result"
    },
    {
     "data": {
      "application/javascript": [
       "\n",
       "            setTimeout(function() {\n",
       "                var nbb_cell_id = 28;\n",
       "                var nbb_unformatted_code = \"df.sort_values(by=['polarity'],ascending=True).head(3)\";\n",
       "                var nbb_formatted_code = \"df.sort_values(by=[\\\"polarity\\\"], ascending=True).head(3)\";\n",
       "                var nbb_cells = Jupyter.notebook.get_cells();\n",
       "                for (var i = 0; i < nbb_cells.length; ++i) {\n",
       "                    if (nbb_cells[i].input_prompt_number == nbb_cell_id) {\n",
       "                        if (nbb_cells[i].get_text() == nbb_unformatted_code) {\n",
       "                             nbb_cells[i].set_text(nbb_formatted_code);\n",
       "                        }\n",
       "                        break;\n",
       "                    }\n",
       "                }\n",
       "            }, 500);\n",
       "            "
      ],
      "text/plain": [
       "<IPython.core.display.Javascript object>"
      ]
     },
     "metadata": {},
     "output_type": "display_data"
    }
   ],
   "source": [
    "df.sort_values(by=[\"polarity\"], ascending=True).head(3)"
   ]
  },
  {
   "cell_type": "markdown",
   "id": "366a771b",
   "metadata": {},
   "source": [
    "### Generating the wordcloud"
   ]
  },
  {
   "cell_type": "code",
   "execution_count": 19,
   "id": "e46a6a96",
   "metadata": {},
   "outputs": [
    {
     "data": {
      "image/png": "[encoded data removed]",
      "text/plain": [
       "<Figure size 432x288 with 1 Axes>"
      ]
     },
     "metadata": {
      "needs_background": "light"
     },
     "output_type": "display_data"
    },
    {
     "data": {
      "application/javascript": [
       "\n",
       "            setTimeout(function() {\n",
       "                var nbb_cell_id = 19;\n",
       "                var nbb_unformatted_code = \"import matplotlib.pyplot as plt\\n\\nconsolidated = \\\" \\\".join(word for word in df[\\\"cleaned_tweets\\\"])\\n\\nword_cloud = WordCloud(\\n    width=400, height=200, random_state=20, max_font_size=120\\n).generate(consolidated)\\n\\nplt.imshow(word_cloud, interpolation=\\\"bilinear\\\")\\nplt.axis(\\\"off\\\")\\nplt.show()\";\n",
       "                var nbb_formatted_code = \"import matplotlib.pyplot as plt\\n\\nconsolidated = \\\" \\\".join(word for word in df[\\\"cleaned_tweets\\\"])\\n\\nword_cloud = WordCloud(\\n    width=400, height=200, random_state=20, max_font_size=120\\n).generate(consolidated)\\n\\nplt.imshow(word_cloud, interpolation=\\\"bilinear\\\")\\nplt.axis(\\\"off\\\")\\nplt.show()\";\n",
       "                var nbb_cells = Jupyter.notebook.get_cells();\n",
       "                for (var i = 0; i < nbb_cells.length; ++i) {\n",
       "                    if (nbb_cells[i].input_prompt_number == nbb_cell_id) {\n",
       "                        if (nbb_cells[i].get_text() == nbb_unformatted_code) {\n",
       "                             nbb_cells[i].set_text(nbb_formatted_code);\n",
       "                        }\n",
       "                        break;\n",
       "                    }\n",
       "                }\n",
       "            }, 500);\n",
       "            "
      ],
      "text/plain": [
       "<IPython.core.display.Javascript object>"
      ]
     },
     "metadata": {},
     "output_type": "display_data"
    }
   ],
   "source": [
    "import matplotlib.pyplot as plt\n",
    "\n",
    "consolidated = \" \".join(word for word in df[\"cleaned_tweets\"])\n",
    "\n",
    "word_cloud = WordCloud(\n",
    "    width=400, height=200, random_state=20, max_font_size=120\n",
    ").generate(consolidated)\n",
    "\n",
    "plt.imshow(word_cloud, interpolation=\"bilinear\")\n",
    "plt.axis(\"off\")\n",
    "plt.show()"
   ]
  },
  {
   "cell_type": "markdown",
   "id": "dbb323cf",
   "metadata": {},
   "source": [
    "### Data Analysis and Visualization"
   ]
  },
  {
   "cell_type": "code",
   "execution_count": 20,
   "id": "afc5d55f",
   "metadata": {},
   "outputs": [
    {
     "data": {
      "application/javascript": [
       "\n",
       "            setTimeout(function() {\n",
       "                var nbb_cell_id = 20;\n",
       "                var nbb_unformatted_code = \"import seaborn as sns\";\n",
       "                var nbb_formatted_code = \"import seaborn as sns\";\n",
       "                var nbb_cells = Jupyter.notebook.get_cells();\n",
       "                for (var i = 0; i < nbb_cells.length; ++i) {\n",
       "                    if (nbb_cells[i].input_prompt_number == nbb_cell_id) {\n",
       "                        if (nbb_cells[i].get_text() == nbb_unformatted_code) {\n",
       "                             nbb_cells[i].set_text(nbb_formatted_code);\n",
       "                        }\n",
       "                        break;\n",
       "                    }\n",
       "                }\n",
       "            }, 500);\n",
       "            "
      ],
      "text/plain": [
       "<IPython.core.display.Javascript object>"
      ]
     },
     "metadata": {},
     "output_type": "display_data"
    }
   ],
   "source": [
    "import seaborn as sns"
   ]
  },
  {
   "cell_type": "code",
   "execution_count": 25,
   "id": "d94a6b96",
   "metadata": {},
   "outputs": [
    {
     "data": {
      "text/plain": [
       "<AxesSubplot:xlabel='polarity', ylabel='subjectivity'>"
      ]
     },
     "execution_count": 25,
     "metadata": {},
     "output_type": "execute_result"
    },
    {
     "data": {
      "image/png": "[encoded data removed]",
      "text/plain": [
       "<Figure size 720x360 with 1 Axes>"
      ]
     },
     "metadata": {},
     "output_type": "display_data"
    },
    {
     "data": {
      "application/javascript": [
       "\n",
       "            setTimeout(function() {\n",
       "                var nbb_cell_id = 25;\n",
       "                var nbb_unformatted_code = \"plt.figure(figsize=(10,5))\\nsns.set_style(\\\"whitegrid\\\")\\nsns.scatterplot(data=df, x=\\\"polarity\\\", y=\\\"subjectivity\\\", s=100, hue=\\\"segmentation\\\")\";\n",
       "                var nbb_formatted_code = \"plt.figure(figsize=(10, 5))\\nsns.set_style(\\\"whitegrid\\\")\\nsns.scatterplot(data=df, x=\\\"polarity\\\", y=\\\"subjectivity\\\", s=100, hue=\\\"segmentation\\\")\";\n",
       "                var nbb_cells = Jupyter.notebook.get_cells();\n",
       "                for (var i = 0; i < nbb_cells.length; ++i) {\n",
       "                    if (nbb_cells[i].input_prompt_number == nbb_cell_id) {\n",
       "                        if (nbb_cells[i].get_text() == nbb_unformatted_code) {\n",
       "                             nbb_cells[i].set_text(nbb_formatted_code);\n",
       "                        }\n",
       "                        break;\n",
       "                    }\n",
       "                }\n",
       "            }, 500);\n",
       "            "
      ],
      "text/plain": [
       "<IPython.core.display.Javascript object>"
      ]
     },
     "metadata": {},
     "output_type": "display_data"
    }
   ],
   "source": [
    "plt.figure(figsize=(10, 5))\n",
    "sns.set_style(\"whitegrid\")\n",
    "sns.scatterplot(data=df, x=\"polarity\", y=\"subjectivity\", s=100, hue=\"segmentation\")"
   ]
  },
  {
   "cell_type": "code",
   "execution_count": 26,
   "id": "35b79a28",
   "metadata": {},
   "outputs": [
    {
     "data": {
      "text/plain": [
       "<AxesSubplot:xlabel='segmentation', ylabel='count'>"
      ]
     },
     "execution_count": 26,
     "metadata": {},
     "output_type": "execute_result"
    },
    {
     "data": {
      "image/png": "[encoded data removed]",
      "text/plain": [
       "<Figure size 432x288 with 1 Axes>"
      ]
     },
     "metadata": {},
     "output_type": "display_data"
    },
    {
     "data": {
      "application/javascript": [
       "\n",
       "            setTimeout(function() {\n",
       "                var nbb_cell_id = 26;\n",
       "                var nbb_unformatted_code = \"sns.countplot(data=df,x=\\\"segmentation\\\")\";\n",
       "                var nbb_formatted_code = \"sns.countplot(data=df, x=\\\"segmentation\\\")\";\n",
       "                var nbb_cells = Jupyter.notebook.get_cells();\n",
       "                for (var i = 0; i < nbb_cells.length; ++i) {\n",
       "                    if (nbb_cells[i].input_prompt_number == nbb_cell_id) {\n",
       "                        if (nbb_cells[i].get_text() == nbb_unformatted_code) {\n",
       "                             nbb_cells[i].set_text(nbb_formatted_code);\n",
       "                        }\n",
       "                        break;\n",
       "                    }\n",
       "                }\n",
       "            }, 500);\n",
       "            "
      ],
      "text/plain": [
       "<IPython.core.display.Javascript object>"
      ]
     },
     "metadata": {},
     "output_type": "display_data"
    }
   ],
   "source": [
    "sns.countplot(data=df, x=\"segmentation\")"
   ]
  },
  {
   "cell_type": "code",
   "execution_count": null,
   "id": "f930fa7a",
   "metadata": {},
   "outputs": [],
   "source": []
  }
 ],
 "metadata": {
  "kernelspec": {
   "display_name": "Python 3 (ipykernel)",
   "language": "python",
   "name": "python3"
  },
  "language_info": {
   "codemirror_mode": {
    "name": "ipython",
    "version": 3
   },
   "file_extension": ".py",
   "mimetype": "text/x-python",
   "name": "python",
   "nbconvert_exporter": "python",
   "pygments_lexer": "ipython3",
   "version": "3.9.12"
  }
 },
 "nbformat": 4,
 "nbformat_minor": 5
}
