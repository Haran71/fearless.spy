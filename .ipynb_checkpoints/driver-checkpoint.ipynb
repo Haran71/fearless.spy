{
 "cells": [
  {
   "cell_type": "markdown",
   "id": "3e479e35",
   "metadata": {},
   "source": [
    "#### Import Statements"
   ]
  },
  {
   "cell_type": "code",
   "execution_count": 2,
   "id": "cc11768a",
   "metadata": {},
   "outputs": [],
   "source": [
    "from selenium import webdriver\n",
    "from selenium.webdriver.chrome.service import Service\n",
    "from webdriver_manager.chrome import ChromeDriverManager\n",
    "from selenium.webdriver.chrome.options import Options\n",
    "from selenium.webdriver.common.keys import Keys\n",
    "from time import sleep\n",
    "import getpass"
   ]
  },
  {
   "cell_type": "markdown",
   "id": "4fc5e21f",
   "metadata": {},
   "source": [
    "#### Twitter Credentials, using getpass to hide password"
   ]
  },
  {
   "cell_type": "code",
   "execution_count": 3,
   "id": "d0d6e2de",
   "metadata": {
    "scrolled": true
   },
   "outputs": [
    {
     "name": "stdout",
     "output_type": "stream",
     "text": [
      "········\n"
     ]
    }
   ],
   "source": [
    "username = \"hraajesh\"\n",
    "password = getpass.getpass()"
   ]
  },
  {
   "cell_type": "code",
   "execution_count": 4,
   "id": "0e8caed9",
   "metadata": {},
   "outputs": [],
   "source": [
    "search_term = \"Steph Curry\""
   ]
  },
  {
   "cell_type": "markdown",
   "id": "6a76ecde",
   "metadata": {},
   "source": [
    "#### Setting up the chrome window and logging into twitter using selenium"
   ]
  },
  {
   "cell_type": "code",
   "execution_count": 45,
   "id": "12a8e87f",
   "metadata": {},
   "outputs": [
    {
     "name": "stderr",
     "output_type": "stream",
     "text": [
      "[WDM] - Downloading: 100%|█████████████████████████████████████████████████████████████████████████████████████████████████████████████████████████████| 8.41M/8.41M [00:01<00:00, 6.97MB/s]\n"
     ]
    }
   ],
   "source": [
    "# driver_path = \"/Users/haran/Documents/Development/chromedriver\"\n",
    "# chr_options = Options()\n",
    "# chr_options.add_experimental_option(\"detach\", True)\n",
    "\n",
    "driver = webdriver.Chrome(service=Service(ChromeDriverManager().install()))\n",
    "driver.get(\"https://twitter.com/i/flow/login\")\n",
    "sleep(3)"
   ]
  },
  {
   "cell_type": "code",
   "execution_count": 46,
   "id": "b11b5890",
   "metadata": {},
   "outputs": [],
   "source": [
    "username_box = driver.find_element(\"xpath\",'//*[@id=\"layers\"]/div/div/div/div/div/div/div[2]/div[2]/div/div/div[2]/div[2]/div/div/div/div[5]/label/div/div[2]/div/input')\n",
    "username_box.send_keys(username)\n",
    "username_box.send_keys(Keys.ENTER)"
   ]
  },
  {
   "cell_type": "code",
   "execution_count": 47,
   "id": "eca9fb9e",
   "metadata": {},
   "outputs": [],
   "source": [
    "password_box = driver.find_element(\"xpath\",'//*[@id=\"layers\"]/div/div/div/div/div/div/div[2]/div[2]/div/div/div[2]/div[2]/div[1]/div/div/div[3]/div/label/div/div[2]/div[1]/input')\n",
    "password_box.send_keys(password)\n",
    "password_box.send_keys(Keys.ENTER)"
   ]
  },
  {
   "cell_type": "markdown",
   "id": "affc4570",
   "metadata": {},
   "source": [
    "#### Entering the search term into twitter's search box"
   ]
  },
  {
   "cell_type": "code",
   "execution_count": 48,
   "id": "f830b283",
   "metadata": {},
   "outputs": [],
   "source": [
    "search_box = driver.find_element(\"xpath\",'//*[@id=\"react-root\"]/div/div/div[2]/main/div/div/div/div[2]/div/div[2]/div/div/div/div[1]/div/div/div/form/div[1]/div/div/div/label/div[2]/div/input')\n",
    "search_box.send_keys(search_term)\n",
    "search_box.send_keys(Keys.ENTER)"
   ]
  },
  {
   "cell_type": "markdown",
   "id": "e3dba839",
   "metadata": {},
   "source": [
    "#### Getting the tweets that show up as results"
   ]
  },
  {
   "cell_type": "code",
   "execution_count": 49,
   "id": "aa41a313",
   "metadata": {},
   "outputs": [],
   "source": [
    "all_tweets = set()\n",
    "\n",
    "while True: \n",
    "    tweets = driver.find_elements(\"xpath\",'//div[@data-testid=\"tweetText\"]')\n",
    "\n",
    "    for tweet in tweets:\n",
    "        all_tweets.add(tweet.text)\n",
    "    \n",
    "    if(len(all_tweets) > 100):\n",
    "        break\n",
    "        \n",
    "    driver.execute_script('window.scrollTo(0,document.body.scrollHeight)')\n",
    "    sleep(3)\n",
    "    "
   ]
  },
  {
   "cell_type": "code",
   "execution_count": 50,
   "id": "bcb6888b",
   "metadata": {},
   "outputs": [],
   "source": [
    "all_tweets = list(all_tweets)"
   ]
  },
  {
   "cell_type": "markdown",
   "id": "7e2605c0",
   "metadata": {},
   "source": [
    "#### Converting the given list of tweets into a dataframe"
   ]
  },
  {
   "cell_type": "code",
   "execution_count": 51,
   "id": "c99ce52a",
   "metadata": {},
   "outputs": [],
   "source": [
    "import pandas as pd"
   ]
  },
  {
   "cell_type": "code",
   "execution_count": 52,
   "id": "dba90b8c",
   "metadata": {},
   "outputs": [],
   "source": [
    "df = pd.DataFrame(all_tweets,columns=['tweets'])"
   ]
  },
  {
   "cell_type": "markdown",
   "id": "3dc4b947",
   "metadata": {},
   "source": [
    "#### Now we have to clean the tweets"
   ]
  },
  {
   "cell_type": "code",
   "execution_count": 53,
   "id": "35d658b1",
   "metadata": {},
   "outputs": [
    {
     "name": "stderr",
     "output_type": "stream",
     "text": [
      "[nltk_data] Downloading package punkt to /Users/haran/nltk_data...\n",
      "[nltk_data]   Package punkt is already up-to-date!\n",
      "[nltk_data] Downloading package stopwords to /Users/haran/nltk_data...\n",
      "[nltk_data]   Package stopwords is already up-to-date!\n"
     ]
    }
   ],
   "source": [
    "import re\n",
    "import nltk\n",
    "nltk.download('punkt')\n",
    "nltk.download('stopwords')\n",
    "\n",
    "from nltk.corpus import stopwords\n",
    "from nltk.tokenize import word_tokenize"
   ]
  },
  {
   "cell_type": "code",
   "execution_count": 15,
   "id": "a270212a",
   "metadata": {},
   "outputs": [
    {
     "name": "stdout",
     "output_type": "stream",
     "text": [
      "['i', 'me', 'my', 'myself', 'we', 'our', 'ours', 'ourselves', 'you', \"you're\", \"you've\", \"you'll\", \"you'd\", 'your', 'yours', 'yourself', 'yourselves', 'he', 'him', 'his', 'himself', 'she', \"she's\", 'her', 'hers', 'herself', 'it', \"it's\", 'its', 'itself', 'they', 'them', 'their', 'theirs', 'themselves', 'what', 'which', 'who', 'whom', 'this', 'that', \"that'll\", 'these', 'those', 'am', 'is', 'are', 'was', 'were', 'be', 'been', 'being', 'have', 'has', 'had', 'having', 'do', 'does', 'did', 'doing', 'a', 'an', 'the', 'and', 'but', 'if', 'or', 'because', 'as', 'until', 'while', 'of', 'at', 'by', 'for', 'with', 'about', 'against', 'between', 'into', 'through', 'during', 'before', 'after', 'above', 'below', 'to', 'from', 'up', 'down', 'in', 'out', 'on', 'off', 'over', 'under', 'again', 'further', 'then', 'once', 'here', 'there', 'when', 'where', 'why', 'how', 'all', 'any', 'both', 'each', 'few', 'more', 'most', 'other', 'some', 'such', 'no', 'nor', 'not', 'only', 'own', 'same', 'so', 'than', 'too', 'very', 's', 't', 'can', 'will', 'just', 'don', \"don't\", 'should', \"should've\", 'now', 'd', 'll', 'm', 'o', 're', 've', 'y', 'ain', 'aren', \"aren't\", 'couldn', \"couldn't\", 'didn', \"didn't\", 'doesn', \"doesn't\", 'hadn', \"hadn't\", 'hasn', \"hasn't\", 'haven', \"haven't\", 'isn', \"isn't\", 'ma', 'mightn', \"mightn't\", 'mustn', \"mustn't\", 'needn', \"needn't\", 'shan', \"shan't\", 'shouldn', \"shouldn't\", 'wasn', \"wasn't\", 'weren', \"weren't\", 'won', \"won't\", 'wouldn', \"wouldn't\"]\n"
     ]
    }
   ],
   "source": [
    "stop_words = stopwords.words('english')\n",
    "print(stop_words)"
   ]
  },
  {
   "cell_type": "markdown",
   "id": "c50d65fa",
   "metadata": {},
   "source": [
    "#### Setting up function to clean the tweets "
   ]
  },
  {
   "cell_type": "code",
   "execution_count": 54,
   "id": "21732cd5",
   "metadata": {},
   "outputs": [],
   "source": [
    "def tweetCleaning(tweet):\n",
    "    clean_tweet = re.sub(r\"@[a-zA-Z0-9]+\",\"\",tweet) # removes mentions\n",
    "    clean_tweet = re.sub(r\"#[a-zA-Z0-9]+\\s\",\"\",clean_tweet) # removes hashtags and blank spaces\n",
    "    clean_tweet = ' '.join(word for word in clean_tweet.split() if word not in stop_words) # removing all the stopwords from the tweet\n",
    "    return clean_tweet"
   ]
  },
  {
   "cell_type": "code",
   "execution_count": 55,
   "id": "0c55e624",
   "metadata": {},
   "outputs": [
    {
     "data": {
      "text/html": [
       "<div>\n",
       "<style scoped>\n",
       "    .dataframe tbody tr th:only-of-type {\n",
       "        vertical-align: middle;\n",
       "    }\n",
       "\n",
       "    .dataframe tbody tr th {\n",
       "        vertical-align: top;\n",
       "    }\n",
       "\n",
       "    .dataframe thead th {\n",
       "        text-align: right;\n",
       "    }\n",
       "</style>\n",
       "<table border=\"1\" class=\"dataframe\">\n",
       "  <thead>\n",
       "    <tr style=\"text-align: right;\">\n",
       "      <th></th>\n",
       "      <th>tweets</th>\n",
       "      <th>cleaned_tweets</th>\n",
       "    </tr>\n",
       "  </thead>\n",
       "  <tbody>\n",
       "    <tr>\n",
       "      <th>0</th>\n",
       "      <td>Steph Curry has been unreal this season</td>\n",
       "      <td>Steph Curry unreal season</td>\n",
       "    </tr>\n",
       "    <tr>\n",
       "      <th>1</th>\n",
       "      <td>James Harden is 33\\nKevin Durant is 34\\nLeBron...</td>\n",
       "      <td>James Harden 33 Kevin Durant 34 LeBron James 3...</td>\n",
       "    </tr>\n",
       "    <tr>\n",
       "      <th>2</th>\n",
       "      <td>Steph Curry splashes the triple on the setup</td>\n",
       "      <td>Steph Curry splashes triple setup</td>\n",
       "    </tr>\n",
       "    <tr>\n",
       "      <th>3</th>\n",
       "      <td>Leading scorers in the 4th: \\n\\nDesmond Bane:8...</td>\n",
       "      <td>Leading scorers 4th: Desmond Bane:89 Steph Cur...</td>\n",
       "    </tr>\n",
       "    <tr>\n",
       "      <th>4</th>\n",
       "      <td>Steph Curry has been pretty clearly the best p...</td>\n",
       "      <td>Steph Curry pretty clearly best player world s...</td>\n",
       "    </tr>\n",
       "  </tbody>\n",
       "</table>\n",
       "</div>"
      ],
      "text/plain": [
       "                                              tweets  \\\n",
       "0           Steph Curry has been unreal this season    \n",
       "1  James Harden is 33\\nKevin Durant is 34\\nLeBron...   \n",
       "2      Steph Curry splashes the triple on the setup    \n",
       "3  Leading scorers in the 4th: \\n\\nDesmond Bane:8...   \n",
       "4  Steph Curry has been pretty clearly the best p...   \n",
       "\n",
       "                                      cleaned_tweets  \n",
       "0                          Steph Curry unreal season  \n",
       "1  James Harden 33 Kevin Durant 34 LeBron James 3...  \n",
       "2                  Steph Curry splashes triple setup  \n",
       "3  Leading scorers 4th: Desmond Bane:89 Steph Cur...  \n",
       "4  Steph Curry pretty clearly best player world s...  "
      ]
     },
     "execution_count": 55,
     "metadata": {},
     "output_type": "execute_result"
    }
   ],
   "source": [
    "df['cleaned_tweets'] = df['tweets'].apply(tweetCleaning)\n",
    "df.head()"
   ]
  },
  {
   "cell_type": "markdown",
   "id": "faff74d8",
   "metadata": {},
   "source": [
    "#### Now we have to caluclate the polarity and subjectivity of each tweet"
   ]
  },
  {
   "cell_type": "code",
   "execution_count": 56,
   "id": "87d7e4e4",
   "metadata": {},
   "outputs": [],
   "source": [
    "from textblob import TextBlob\n",
    "from wordcloud import WordCloud"
   ]
  },
  {
   "cell_type": "code",
   "execution_count": 57,
   "id": "73aeb34d",
   "metadata": {},
   "outputs": [],
   "source": [
    "def calcPolarity(tweet):\n",
    "    return TextBlob(tweet).sentiment.polarity\n",
    "\n",
    "def calcSubjectivity(tweet):\n",
    "    return TextBlob(tweet).sentiment.subjectivity\n",
    "\n",
    "def segmentation(polarity):\n",
    "    if polarity > 0:\n",
    "        return \"positive\"\n",
    "    elif polarity == 0:\n",
    "        return \"neutral\"\n",
    "    else:\n",
    "        return \"negative\""
   ]
  },
  {
   "cell_type": "code",
   "execution_count": 58,
   "id": "87e05bfa",
   "metadata": {},
   "outputs": [
    {
     "data": {
      "text/html": [
       "<div>\n",
       "<style scoped>\n",
       "    .dataframe tbody tr th:only-of-type {\n",
       "        vertical-align: middle;\n",
       "    }\n",
       "\n",
       "    .dataframe tbody tr th {\n",
       "        vertical-align: top;\n",
       "    }\n",
       "\n",
       "    .dataframe thead th {\n",
       "        text-align: right;\n",
       "    }\n",
       "</style>\n",
       "<table border=\"1\" class=\"dataframe\">\n",
       "  <thead>\n",
       "    <tr style=\"text-align: right;\">\n",
       "      <th></th>\n",
       "      <th>tweets</th>\n",
       "      <th>cleaned_tweets</th>\n",
       "      <th>polarity</th>\n",
       "      <th>subjectivity</th>\n",
       "      <th>segmentation</th>\n",
       "    </tr>\n",
       "  </thead>\n",
       "  <tbody>\n",
       "    <tr>\n",
       "      <th>0</th>\n",
       "      <td>Steph Curry has been unreal this season</td>\n",
       "      <td>Steph Curry unreal season</td>\n",
       "      <td>0.00</td>\n",
       "      <td>0.00</td>\n",
       "      <td>neutral</td>\n",
       "    </tr>\n",
       "    <tr>\n",
       "      <th>1</th>\n",
       "      <td>James Harden is 33\\nKevin Durant is 34\\nLeBron...</td>\n",
       "      <td>James Harden 33 Kevin Durant 34 LeBron James 3...</td>\n",
       "      <td>0.00</td>\n",
       "      <td>0.00</td>\n",
       "      <td>neutral</td>\n",
       "    </tr>\n",
       "    <tr>\n",
       "      <th>2</th>\n",
       "      <td>Steph Curry splashes the triple on the setup</td>\n",
       "      <td>Steph Curry splashes triple setup</td>\n",
       "      <td>0.00</td>\n",
       "      <td>0.00</td>\n",
       "      <td>neutral</td>\n",
       "    </tr>\n",
       "    <tr>\n",
       "      <th>3</th>\n",
       "      <td>Leading scorers in the 4th: \\n\\nDesmond Bane:8...</td>\n",
       "      <td>Leading scorers 4th: Desmond Bane:89 Steph Cur...</td>\n",
       "      <td>0.00</td>\n",
       "      <td>0.00</td>\n",
       "      <td>neutral</td>\n",
       "    </tr>\n",
       "    <tr>\n",
       "      <th>4</th>\n",
       "      <td>Steph Curry has been pretty clearly the best p...</td>\n",
       "      <td>Steph Curry pretty clearly best player world s...</td>\n",
       "      <td>0.39</td>\n",
       "      <td>0.64</td>\n",
       "      <td>positive</td>\n",
       "    </tr>\n",
       "  </tbody>\n",
       "</table>\n",
       "</div>"
      ],
      "text/plain": [
       "                                              tweets  \\\n",
       "0           Steph Curry has been unreal this season    \n",
       "1  James Harden is 33\\nKevin Durant is 34\\nLeBron...   \n",
       "2      Steph Curry splashes the triple on the setup    \n",
       "3  Leading scorers in the 4th: \\n\\nDesmond Bane:8...   \n",
       "4  Steph Curry has been pretty clearly the best p...   \n",
       "\n",
       "                                      cleaned_tweets  polarity  subjectivity  \\\n",
       "0                          Steph Curry unreal season      0.00          0.00   \n",
       "1  James Harden 33 Kevin Durant 34 LeBron James 3...      0.00          0.00   \n",
       "2                  Steph Curry splashes triple setup      0.00          0.00   \n",
       "3  Leading scorers 4th: Desmond Bane:89 Steph Cur...      0.00          0.00   \n",
       "4  Steph Curry pretty clearly best player world s...      0.39          0.64   \n",
       "\n",
       "  segmentation  \n",
       "0      neutral  \n",
       "1      neutral  \n",
       "2      neutral  \n",
       "3      neutral  \n",
       "4     positive  "
      ]
     },
     "execution_count": 58,
     "metadata": {},
     "output_type": "execute_result"
    }
   ],
   "source": [
    "df['polarity'] = df['cleaned_tweets'].apply(calcPolarity)\n",
    "df['subjectivity'] = df['cleaned_tweets'].apply(calcSubjectivity)\n",
    "df['segmentation'] = df['polarity'].apply(segmentation)\n",
    "df.head()"
   ]
  },
  {
   "cell_type": "code",
   "execution_count": 59,
   "id": "63887901",
   "metadata": {},
   "outputs": [
    {
     "data": {
      "text/plain": [
       "negative    17\n",
       "positive    40\n",
       "neutral     51\n",
       "Name: segmentation, dtype: int64"
      ]
     },
     "execution_count": 59,
     "metadata": {},
     "output_type": "execute_result"
    }
   ],
   "source": [
    "df['segmentation'].value_counts(ascending=True)"
   ]
  },
  {
   "cell_type": "markdown",
   "id": "939f1ea3",
   "metadata": {},
   "source": [
    "#### Getting the top 3 positive and negative tweets"
   ]
  },
  {
   "cell_type": "code",
   "execution_count": 60,
   "id": "ab7db56a",
   "metadata": {},
   "outputs": [
    {
     "data": {
      "text/html": [
       "<div>\n",
       "<style scoped>\n",
       "    .dataframe tbody tr th:only-of-type {\n",
       "        vertical-align: middle;\n",
       "    }\n",
       "\n",
       "    .dataframe tbody tr th {\n",
       "        vertical-align: top;\n",
       "    }\n",
       "\n",
       "    .dataframe thead th {\n",
       "        text-align: right;\n",
       "    }\n",
       "</style>\n",
       "<table border=\"1\" class=\"dataframe\">\n",
       "  <thead>\n",
       "    <tr style=\"text-align: right;\">\n",
       "      <th></th>\n",
       "      <th>tweets</th>\n",
       "      <th>cleaned_tweets</th>\n",
       "      <th>polarity</th>\n",
       "      <th>subjectivity</th>\n",
       "      <th>segmentation</th>\n",
       "    </tr>\n",
       "  </thead>\n",
       "  <tbody>\n",
       "    <tr>\n",
       "      <th>16</th>\n",
       "      <td>Steph Curry is the best offensive player in NB...</td>\n",
       "      <td>Steph Curry best offensive player NBA history.</td>\n",
       "      <td>1.0</td>\n",
       "      <td>0.3</td>\n",
       "      <td>positive</td>\n",
       "    </tr>\n",
       "    <tr>\n",
       "      <th>59</th>\n",
       "      <td>Stephen Curry tonight:\\n\\n24 PTS\\n10 AST\\n6 RE...</td>\n",
       "      <td>Stephen Curry tonight: 24 PTS 10 AST 6 REB 2 S...</td>\n",
       "      <td>1.0</td>\n",
       "      <td>0.4</td>\n",
       "      <td>positive</td>\n",
       "    </tr>\n",
       "    <tr>\n",
       "      <th>31</th>\n",
       "      <td>The \\n@warriors\\n had their trademark ball mov...</td>\n",
       "      <td>The trademark ball movement display Steph, Kla...</td>\n",
       "      <td>1.0</td>\n",
       "      <td>0.4</td>\n",
       "      <td>positive</td>\n",
       "    </tr>\n",
       "  </tbody>\n",
       "</table>\n",
       "</div>"
      ],
      "text/plain": [
       "                                               tweets  \\\n",
       "16  Steph Curry is the best offensive player in NB...   \n",
       "59  Stephen Curry tonight:\\n\\n24 PTS\\n10 AST\\n6 RE...   \n",
       "31  The \\n@warriors\\n had their trademark ball mov...   \n",
       "\n",
       "                                       cleaned_tweets  polarity  subjectivity  \\\n",
       "16     Steph Curry best offensive player NBA history.       1.0           0.3   \n",
       "59  Stephen Curry tonight: 24 PTS 10 AST 6 REB 2 S...       1.0           0.4   \n",
       "31  The trademark ball movement display Steph, Kla...       1.0           0.4   \n",
       "\n",
       "   segmentation  \n",
       "16     positive  \n",
       "59     positive  \n",
       "31     positive  "
      ]
     },
     "execution_count": 60,
     "metadata": {},
     "output_type": "execute_result"
    }
   ],
   "source": [
    "df.sort_values(by=['polarity'],ascending=False).head(3)"
   ]
  },
  {
   "cell_type": "code",
   "execution_count": 61,
   "id": "b42b90fa",
   "metadata": {},
   "outputs": [
    {
     "data": {
      "text/html": [
       "<div>\n",
       "<style scoped>\n",
       "    .dataframe tbody tr th:only-of-type {\n",
       "        vertical-align: middle;\n",
       "    }\n",
       "\n",
       "    .dataframe tbody tr th {\n",
       "        vertical-align: top;\n",
       "    }\n",
       "\n",
       "    .dataframe thead th {\n",
       "        text-align: right;\n",
       "    }\n",
       "</style>\n",
       "<table border=\"1\" class=\"dataframe\">\n",
       "  <thead>\n",
       "    <tr style=\"text-align: right;\">\n",
       "      <th></th>\n",
       "      <th>tweets</th>\n",
       "      <th>cleaned_tweets</th>\n",
       "      <th>polarity</th>\n",
       "      <th>subjectivity</th>\n",
       "      <th>segmentation</th>\n",
       "    </tr>\n",
       "  </thead>\n",
       "  <tbody>\n",
       "    <tr>\n",
       "      <th>42</th>\n",
       "      <td>Steph Curry being in this list is absolutely i...</td>\n",
       "      <td>Steph Curry list absolutely insane</td>\n",
       "      <td>-1.000000</td>\n",
       "      <td>1.0</td>\n",
       "      <td>negative</td>\n",
       "    </tr>\n",
       "    <tr>\n",
       "      <th>58</th>\n",
       "      <td>The Warriors have a NETRTG of -20.57 when Step...</td>\n",
       "      <td>The Warriors NETRTG -20.57 Stephen Curry OFF c...</td>\n",
       "      <td>-0.666667</td>\n",
       "      <td>1.0</td>\n",
       "      <td>negative</td>\n",
       "    </tr>\n",
       "    <tr>\n",
       "      <th>17</th>\n",
       "      <td>Steph Curry IS. COLD. BLOODED.</td>\n",
       "      <td>Steph Curry IS. COLD. BLOODED.</td>\n",
       "      <td>-0.600000</td>\n",
       "      <td>1.0</td>\n",
       "      <td>negative</td>\n",
       "    </tr>\n",
       "  </tbody>\n",
       "</table>\n",
       "</div>"
      ],
      "text/plain": [
       "                                               tweets  \\\n",
       "42  Steph Curry being in this list is absolutely i...   \n",
       "58  The Warriors have a NETRTG of -20.57 when Step...   \n",
       "17                     Steph Curry IS. COLD. BLOODED.   \n",
       "\n",
       "                                       cleaned_tweets  polarity  subjectivity  \\\n",
       "42                 Steph Curry list absolutely insane -1.000000           1.0   \n",
       "58  The Warriors NETRTG -20.57 Stephen Curry OFF c... -0.666667           1.0   \n",
       "17                     Steph Curry IS. COLD. BLOODED. -0.600000           1.0   \n",
       "\n",
       "   segmentation  \n",
       "42     negative  \n",
       "58     negative  \n",
       "17     negative  "
      ]
     },
     "execution_count": 61,
     "metadata": {},
     "output_type": "execute_result"
    }
   ],
   "source": [
    "df.sort_values(by=['polarity'],ascending=True).head(3)"
   ]
  },
  {
   "cell_type": "markdown",
   "id": "771d6e59",
   "metadata": {},
   "source": [
    "#### Creating a word cloud based on scraped tweets"
   ]
  },
  {
   "cell_type": "code",
   "execution_count": 62,
   "id": "16be07ba",
   "metadata": {},
   "outputs": [
    {
     "data": {
      "image/png": "[encoded data removed]",
      "text/plain": [
       "<Figure size 432x288 with 1 Axes>"
      ]
     },
     "metadata": {
      "needs_background": "light"
     },
     "output_type": "display_data"
    }
   ],
   "source": [
    "import matplotlib.pyplot as plt\n",
    "\n",
    "consolidated = ' '.join(word for word in df['cleaned_tweets'])\n",
    "\n",
    "word_cloud = WordCloud(width=400,height=200,random_state = 20, max_font_size = 120).generate(consolidated)\n",
    "\n",
    "plt.imshow(word_cloud,interpolation='bilinear')\n",
    "plt.axis('off')\n",
    "plt.show()"
   ]
  },
  {
   "cell_type": "markdown",
   "id": "6fed6156",
   "metadata": {},
   "source": [
    "#### Data Visualization and Analysis"
   ]
  },
  {
   "cell_type": "code",
   "execution_count": 44,
   "id": "2cc6e323",
   "metadata": {},
   "outputs": [],
   "source": [
    "import seaborn as sns"
   ]
  },
  {
   "cell_type": "code",
   "execution_count": null,
   "id": "c47d9f56",
   "metadata": {},
   "outputs": [],
   "source": []
  }
 ],
 "metadata": {
  "kernelspec": {
   "display_name": "Python 3 (ipykernel)",
   "language": "python",
   "name": "python3"
  },
  "language_info": {
   "codemirror_mode": {
    "name": "ipython",
    "version": 3
   },
   "file_extension": ".py",
   "mimetype": "text/x-python",
   "name": "python",
   "nbconvert_exporter": "python",
   "pygments_lexer": "ipython3",
   "version": "3.9.12"
  }
 },
 "nbformat": 4,
 "nbformat_minor": 5
}
